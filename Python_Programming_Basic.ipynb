{
  "cells": [
    {
      "cell_type": "markdown",
      "metadata": {
        "id": "RubUklYZAOqd"
      },
      "source": [
        "# 1.Python Basic: Your First Program"
      ]
    },
    {
      "cell_type": "code",
      "execution_count": null,
      "metadata": {
        "colab": {
          "base_uri": "https://localhost:8080/"
        },
        "id": "g5XDC-wg4Hoe",
        "outputId": "4b613623-6abe-4cae-ae61-22fdc999d87a"
      },
      "outputs": [
        {
          "name": "stdout",
          "output_type": "stream",
          "text": [
            "Hello, world!\n",
            "What is your name?\n",
            "It is good to meet you, A\n",
            "The length of your name is:\n",
            "1\n",
            "What is your age?\n",
            "3\n",
            "You will be 4 in a year.\n"
          ]
        }
      ],
      "source": [
        "#This program says hello and asks for my name\n",
        "\n",
        "print('Hello, world!')\n",
        "print('What is your name?') #ask for their name\n",
        "\n",
        "myName = input()\n",
        "print('It is good to meet you, ' + myName)\n",
        "print('The length of your name is:')\n",
        "print(len(myName))\n",
        "\n",
        "print('What is your age?') #ask for their age\n",
        "myAge = input()\n",
        "print('You will be ' + str(int(myAge) + 1) + ' in a year.')"
      ]
    },
    {
      "cell_type": "markdown",
      "metadata": {
        "id": "ehwyKHlhAULh"
      },
      "source": [
        "# 2. Flow Control"
      ]
    },
    {
      "cell_type": "markdown",
      "metadata": {
        "id": "HZzpvcXJS0tn"
      },
      "source": [
        "## 2.1 Flow Control statements"
      ]
    },
    {
      "cell_type": "markdown",
      "metadata": {
        "id": "34k7PGEJ-nhD"
      },
      "source": [
        "### 2.1.1 The If and Elif statement"
      ]
    },
    {
      "cell_type": "code",
      "execution_count": null,
      "metadata": {
        "colab": {
          "base_uri": "https://localhost:8080/"
        },
        "id": "pmcAsbUK-phs",
        "outputId": "9a2a28dd-53c0-4b74-f98d-5bfe0698c6e6"
      },
      "outputs": [
        {
          "name": "stdout",
          "output_type": "stream",
          "text": [
            "Unlike you, Alice is not an undead, immortal vampire\n"
          ]
        }
      ],
      "source": [
        "name = 'Carol'\n",
        "age = 3000\n",
        "if name == 'Alice':\n",
        "  print('Hello, Alice')\n",
        "elif age < 12:\n",
        "  print('You are not Alice, kiddo')\n",
        "elif age > 2000:\n",
        "  print('Unlike you, Alice is not an undead, immortal vampire')\n",
        "elif age > 100:\n",
        "  print('You are not Alice, grannie')"
      ]
    },
    {
      "cell_type": "code",
      "execution_count": null,
      "metadata": {
        "colab": {
          "base_uri": "https://localhost:8080/"
        },
        "id": "LF6qTAnh_bLu",
        "outputId": "f0f6cf23-431e-4605-b661-15e4db9500ae"
      },
      "outputs": [
        {
          "name": "stdout",
          "output_type": "stream",
          "text": [
            "You are not Alice, grannie\n"
          ]
        }
      ],
      "source": [
        "name = 'Carol'\n",
        "age = 3000\n",
        "if name == 'Alice':\n",
        "  print('Hello, Alice')\n",
        "elif age < 12:\n",
        "  print('You are not Alice, kiddo')\n",
        "elif age > 100:\n",
        "  print('You are not Alice, grannie')\n",
        "elif age > 2000:\n",
        "  print('Unlike you, Alice is not an undead, immortal vampire')"
      ]
    },
    {
      "cell_type": "code",
      "execution_count": null,
      "metadata": {
        "colab": {
          "base_uri": "https://localhost:8080/"
        },
        "id": "144MHv9IudEJ",
        "outputId": "2b57403f-8917-4a2a-f832-3bd96cb9b089"
      },
      "outputs": [
        {
          "name": "stdout",
          "output_type": "stream",
          "text": [
            "You are not ALice nor a little kid\n"
          ]
        }
      ],
      "source": [
        "name = 'Carol'\n",
        "age = 3000\n",
        "if name == 'Alice':\n",
        "  print('Hi, Alice')\n",
        "elif age < 12:\n",
        "  print('You are not Alice, kiddo')\n",
        "else:\n",
        "  print('You are not ALice nor a little kid')"
      ]
    },
    {
      "cell_type": "markdown",
      "metadata": {
        "id": "-byA0RnRS_ms"
      },
      "source": [
        "## 2.2 while Loop Statements"
      ]
    },
    {
      "cell_type": "code",
      "execution_count": null,
      "metadata": {
        "colab": {
          "base_uri": "https://localhost:8080/"
        },
        "id": "hF4BxP33vjJo",
        "outputId": "8bce9f8c-dcde-4336-813f-30e29e5fb246"
      },
      "outputs": [
        {
          "name": "stdout",
          "output_type": "stream",
          "text": [
            "Hello, world!\n"
          ]
        }
      ],
      "source": [
        "spam = 0\n",
        "if spam < 5:\n",
        "  print('Hello, world!')\n",
        "  spam = spam + 1"
      ]
    },
    {
      "cell_type": "code",
      "execution_count": null,
      "metadata": {
        "colab": {
          "base_uri": "https://localhost:8080/"
        },
        "id": "Z6R5eWuzv2Ri",
        "outputId": "fb529ffd-a2dd-414a-d10e-6ff283b932c6"
      },
      "outputs": [
        {
          "name": "stdout",
          "output_type": "stream",
          "text": [
            "Hello, world!\n",
            "Hello, world!\n",
            "Hello, world!\n",
            "Hello, world!\n",
            "Hello, world!\n"
          ]
        }
      ],
      "source": [
        "#the while loop\n",
        "spam = 0\n",
        "while spam < 5:\n",
        "  print('Hello, world!')\n",
        "  spam = spam + 1"
      ]
    },
    {
      "cell_type": "code",
      "execution_count": null,
      "metadata": {
        "colab": {
          "base_uri": "https://localhost:8080/"
        },
        "id": "ew0Izqa2wSpy",
        "outputId": "a3643641-6a89-4879-b5eb-06e064def468"
      },
      "outputs": [
        {
          "name": "stdout",
          "output_type": "stream",
          "text": [
            "Please type your name\n",
            "Ngan\n",
            "Please type your name\n",
            "ABC\n",
            "Please type your name\n",
            "ABC1\n",
            "Please type your name\n",
            "your name\n",
            "Thank you!\n"
          ]
        }
      ],
      "source": [
        "#An annoying while loop\n",
        "name = ''\n",
        "while name != 'your name':\n",
        "  print('Please type your name')\n",
        "  name = input()\n",
        "print('Thank you!')"
      ]
    },
    {
      "cell_type": "code",
      "execution_count": null,
      "metadata": {
        "colab": {
          "base_uri": "https://localhost:8080/"
        },
        "id": "iR6JKVXoxdUP",
        "outputId": "fb448f4d-0572-411a-991c-837c87ea4321"
      },
      "outputs": [
        {
          "name": "stdout",
          "output_type": "stream",
          "text": [
            "Please type your name:\n",
            "ABC\n",
            "Please type your name:\n",
            "DDD\n",
            "Please type your name:\n",
            "your name\n",
            "Thank you!\n"
          ]
        }
      ],
      "source": [
        "while True:\n",
        "  print('Please type your name:')\n",
        "  name = input()\n",
        "  if name == 'your name':\n",
        "    break\n",
        "print('Thank you!')"
      ]
    },
    {
      "cell_type": "code",
      "execution_count": null,
      "metadata": {
        "colab": {
          "base_uri": "https://localhost:8080/"
        },
        "id": "8NiR_VsExsGv",
        "outputId": "a9603c8d-4418-4c58-f2ea-7cff7dad31fa"
      },
      "outputs": [
        {
          "name": "stdout",
          "output_type": "stream",
          "text": [
            "Who are you?\n",
            "Anna\n",
            "Who are you?\n",
            "Ngan\n",
            "Who are you?\n",
            "Joe\n",
            "Hello, Joe. What is the password? (It is a fish.)\n",
            "ABC\n",
            "Who are you?\n",
            "Joe\n",
            "Hello, Joe. What is the password? (It is a fish.)\n",
            "swordfish\n",
            "Access granted.\n"
          ]
        }
      ],
      "source": [
        "#continue statement\n",
        "while True:\n",
        "  print('Who are you?')\n",
        "  name = input()\n",
        "  if name != 'Joe':\n",
        "    continue\n",
        "  print('Hello, Joe. What is the password? (It is a fish.)')\n",
        "  password = input()\n",
        "  if password == 'swordfish':\n",
        "    break\n",
        "print('Access granted.')"
      ]
    },
    {
      "cell_type": "code",
      "execution_count": null,
      "metadata": {
        "colab": {
          "base_uri": "https://localhost:8080/"
        },
        "id": "c7tO-CBo1L9t",
        "outputId": "6bedcb21-d4b0-4d54-db50-2533cdc76ea4"
      },
      "outputs": [
        {
          "name": "stdout",
          "output_type": "stream",
          "text": [
            "Enter your name:\n",
            "0\n",
            "How many guests will you have?\n",
            "0\n",
            "Done\n"
          ]
        }
      ],
      "source": [
        "#'Trusthy' and 'Falsey' values\n",
        "name = ''\n",
        "while not name:\n",
        "  print('Enter your name:')\n",
        "  name = input()\n",
        "print('How many guests will you have?')\n",
        "numOfGuests = int(input())\n",
        "if numOfGuests:\n",
        "  print('Be sure to have enough room for all your guests.')\n",
        "print('Done')"
      ]
    },
    {
      "cell_type": "markdown",
      "metadata": {
        "id": "x6Gl4Q80TVku"
      },
      "source": [
        "## 2.3 for Loops and the range() Function"
      ]
    },
    {
      "cell_type": "code",
      "execution_count": null,
      "metadata": {
        "colab": {
          "base_uri": "https://localhost:8080/"
        },
        "id": "9mUy0dAB4yQ7",
        "outputId": "c9ca6e1e-b7bc-4dcd-db1a-4786cfe7b82d"
      },
      "outputs": [
        {
          "name": "stdout",
          "output_type": "stream",
          "text": [
            "My name is\n",
            "Jimmy Five Times (0)\n",
            "Jimmy Five Times (1)\n",
            "Jimmy Five Times (2)\n",
            "Jimmy Five Times (3)\n",
            "Jimmy Five Times (4)\n"
          ]
        }
      ],
      "source": [
        "print('My name is')\n",
        "for i in range(5):\n",
        "  print('Jimmy Five Times (' + str(i) + ')')"
      ]
    },
    {
      "cell_type": "code",
      "execution_count": null,
      "metadata": {
        "colab": {
          "base_uri": "https://localhost:8080/"
        },
        "id": "uCfVFFsa6CNf",
        "outputId": "2ba12bb5-ec4d-4096-cb2a-2e371f58e655"
      },
      "outputs": [
        {
          "name": "stdout",
          "output_type": "stream",
          "text": [
            "5050\n"
          ]
        }
      ],
      "source": [
        "total = 0\n",
        "for i in range(101):\n",
        "  total = total + i\n",
        "print(total)"
      ]
    },
    {
      "cell_type": "code",
      "execution_count": null,
      "metadata": {
        "colab": {
          "base_uri": "https://localhost:8080/"
        },
        "id": "pdEpdUhW6ynM",
        "outputId": "29560cf2-a650-4675-d2b2-e31c03d54d6c"
      },
      "outputs": [
        {
          "name": "stdout",
          "output_type": "stream",
          "text": [
            "My name is\n",
            "HBN cute no1 (0)\n",
            "HBN cute no1 (1)\n",
            "HBN cute no1 (2)\n",
            "HBN cute no1 (3)\n",
            "HBN cute no1 (4)\n"
          ]
        }
      ],
      "source": [
        "print('My name is')\n",
        "i = 0\n",
        "while i < 5:\n",
        "  print('HBN cute no1 (' + str(i) + ')')\n",
        "  i = i + 1"
      ]
    },
    {
      "cell_type": "code",
      "execution_count": null,
      "metadata": {
        "colab": {
          "base_uri": "https://localhost:8080/"
        },
        "id": "0rWFs7S77Hq8",
        "outputId": "08e48c11-2e08-41b6-9ecf-2c8aa0da1c7a"
      },
      "outputs": [
        {
          "name": "stdout",
          "output_type": "stream",
          "text": [
            "12\n",
            "13\n",
            "14\n",
            "15\n"
          ]
        }
      ],
      "source": [
        "for i in range(12, 16):\n",
        "  print(i)"
      ]
    },
    {
      "cell_type": "code",
      "execution_count": null,
      "metadata": {
        "colab": {
          "base_uri": "https://localhost:8080/"
        },
        "id": "J-Fos4y77i-Y",
        "outputId": "a6ea4aec-091e-49d3-9c86-44454be72d73"
      },
      "outputs": [
        {
          "name": "stdout",
          "output_type": "stream",
          "text": [
            "10\n",
            "12\n",
            "14\n",
            "16\n",
            "18\n"
          ]
        }
      ],
      "source": [
        "for i in range (10, 20, 2):\n",
        "  print(i)"
      ]
    },
    {
      "cell_type": "code",
      "execution_count": null,
      "metadata": {
        "colab": {
          "base_uri": "https://localhost:8080/"
        },
        "id": "vXoR0XeC7z74",
        "outputId": "f6486f21-a22f-46b2-bab4-f3629440401b"
      },
      "outputs": [
        {
          "name": "stdout",
          "output_type": "stream",
          "text": [
            "5\n",
            "4\n",
            "3\n",
            "2\n",
            "1\n",
            "0\n"
          ]
        }
      ],
      "source": [
        "for i in range(5, -1, -1):\n",
        "  print(i)"
      ]
    },
    {
      "cell_type": "markdown",
      "metadata": {
        "id": "HmwQlfOkTcp9"
      },
      "source": [
        "## 2.4 Import Modules"
      ]
    },
    {
      "cell_type": "code",
      "execution_count": null,
      "metadata": {
        "colab": {
          "base_uri": "https://localhost:8080/"
        },
        "id": "TSSShQPU8LZf",
        "outputId": "9c2a2faa-e0c7-4aaf-bbd6-e77b903de9ef"
      },
      "outputs": [
        {
          "name": "stdout",
          "output_type": "stream",
          "text": [
            "10\n",
            "5\n",
            "8\n",
            "8\n",
            "4\n"
          ]
        }
      ],
      "source": [
        "#import modules\n",
        "import random\n",
        "for i in range (5):\n",
        "  print(random.randint(1,10))"
      ]
    },
    {
      "cell_type": "code",
      "execution_count": null,
      "metadata": {
        "id": "Lr8aLkf58zYL"
      },
      "outputs": [],
      "source": [
        "import sys, os, math"
      ]
    },
    {
      "cell_type": "code",
      "execution_count": null,
      "metadata": {
        "colab": {
          "base_uri": "https://localhost:8080/",
          "height": 303
        },
        "id": "dCQWlgxS83H6",
        "outputId": "ea024eaa-8817-42af-a0a4-ae3d6a5587f1"
      },
      "outputs": [
        {
          "name": "stdout",
          "output_type": "stream",
          "text": [
            "Type exit to exit.\n",
            "Anna\n",
            "You typed Anna.\n",
            "Type exit to exit.\n",
            "exit\\\n",
            "You typed exit\\.\n",
            "Type exit to exit.\n",
            "exit\n"
          ]
        },
        {
          "ename": "SystemExit",
          "evalue": "ignored",
          "output_type": "error",
          "traceback": [
            "An exception has occurred, use %tb to see the full traceback.\n",
            "\u001b[0;31mSystemExit\u001b[0m\n"
          ]
        },
        {
          "name": "stderr",
          "output_type": "stream",
          "text": [
            "/usr/local/lib/python3.7/dist-packages/IPython/core/interactiveshell.py:2890: UserWarning: To exit: use 'exit', 'quit', or Ctrl-D.\n",
            "  warn(\"To exit: use 'exit', 'quit', or Ctrl-D.\", stacklevel=1)\n"
          ]
        }
      ],
      "source": [
        "#exitExample\n",
        "while True:\n",
        "  print('Type exit to exit.')\n",
        "  response = input()\n",
        "  if response == 'exit':\n",
        "    sys.exit()\n",
        "  print('You typed ' + response + '.')"
      ]
    },
    {
      "cell_type": "markdown",
      "metadata": {
        "id": "uilmbrrx_k2s"
      },
      "source": [
        "## 2.4 A Short Program: Guess the Number"
      ]
    },
    {
      "cell_type": "code",
      "execution_count": null,
      "metadata": {
        "colab": {
          "base_uri": "https://localhost:8080/"
        },
        "id": "-LkI1Lwp-G7z",
        "outputId": "12438eb1-84cd-4807-fc51-93a364b0f3d9"
      },
      "outputs": [
        {
          "name": "stdout",
          "output_type": "stream",
          "text": [
            "I am thinking of a number between 1 and 20.\n",
            "Take a guess.\n",
            "8\n",
            "Your guess is too low!\n",
            "Take a guess.\n",
            "19\n",
            "Your guess is too high!\n",
            "Take a guess.\n",
            "20\n",
            "Your guess is too high!\n",
            "Take a guess.\n",
            "3\n",
            "Your guess is too low!\n",
            "Take a guess.\n",
            "4\n",
            "Your guess is too low!\n",
            "Take a guess.\n",
            "6\n",
            "Your guess is too low!\n",
            "Nope. The number I was thinking of was 11\n"
          ]
        }
      ],
      "source": [
        "#This is a guess the number game\n",
        "import random\n",
        "secretNumber = random.randint(1, 20)\n",
        "print('I am thinking of a number between 1 and 20.')\n",
        "\n",
        "#Ask the player to guess 6 times.\n",
        "for guessesTaken in range(1, 7):\n",
        "  print('Take a guess.')\n",
        "  guess = int(input())\n",
        "\n",
        "  if guess < secretNumber:\n",
        "    print('Your guess is too low!')\n",
        "  elif guess > secretNumber:\n",
        "    print('Your guess is too high!')\n",
        "  else:\n",
        "    break #This condition is the correct guess!\n",
        "if guess == secretNumber:\n",
        "  print('Good job! You guessed my number in ' + str(guessesTaken) + ' guesses!')\n",
        "else:\n",
        "  print('Nope. The number I was thinking of was ' + str(secretNumber))"
      ]
    },
    {
      "cell_type": "markdown",
      "metadata": {
        "id": "2CPE11XU-lLT"
      },
      "source": [
        "## 2.5 A Short Program: Rock, Paper and Scissors"
      ]
    },
    {
      "cell_type": "code",
      "execution_count": null,
      "metadata": {
        "colab": {
          "base_uri": "https://localhost:8080/",
          "height": 521
        },
        "id": "pCb_mlfAWgVx",
        "outputId": "58974d66-543e-460d-9dcf-20b1fee9786a"
      },
      "outputs": [
        {
          "name": "stdout",
          "output_type": "stream",
          "text": [
            "ROCK, PAPER, SCISSORS\n",
            "0 Wins, 0 Losses, 0 Ties\n",
            "Enter your move: (r)ock (p)aper (s)cissors or (q)uit\n",
            "r\n",
            "ROCK versus...\n",
            "ROCK\n",
            "It is a tie!\n",
            "0 Wins, 0 Losses, 1 Ties\n",
            "Enter your move: (r)ock (p)aper (s)cissors or (q)uit\n",
            "s\n",
            "SCISSORS versus...\n",
            "PAPER\n",
            "You win!\n",
            "1 Wins, 0 Losses, 1 Ties\n",
            "Enter your move: (r)ock (p)aper (s)cissors or (q)uit\n",
            "p\n",
            "PAPER versus...\n",
            "SCISSORS\n",
            "You lose!\n",
            "1 Wins, 1 Losses, 1 Ties\n",
            "Enter your move: (r)ock (p)aper (s)cissors or (q)uit\n",
            "q\n"
          ]
        },
        {
          "ename": "SystemExit",
          "evalue": "ignored",
          "output_type": "error",
          "traceback": [
            "An exception has occurred, use %tb to see the full traceback.\n",
            "\u001b[0;31mSystemExit\u001b[0m\n"
          ]
        },
        {
          "name": "stderr",
          "output_type": "stream",
          "text": [
            "/usr/local/lib/python3.7/dist-packages/IPython/core/interactiveshell.py:2890: UserWarning: To exit: use 'exit', 'quit', or Ctrl-D.\n",
            "  warn(\"To exit: use 'exit', 'quit', or Ctrl-D.\", stacklevel=1)\n"
          ]
        }
      ],
      "source": [
        "import random, sys\n",
        "\n",
        "print('ROCK, PAPER, SCISSORS')\n",
        "\n",
        "#These variables keep track of the number of wins, losses, and ties.\n",
        "wins = 0\n",
        "losses = 0\n",
        "ties = 0\n",
        "\n",
        "while True: #The main game loop.\n",
        "  print('%s Wins, %s Losses, %s Ties' % (wins, losses, ties))\n",
        "  while True: #The player input loop.\n",
        "    print('Enter your move: (r)ock (p)aper (s)cissors or (q)uit')\n",
        "    playerMove = input()\n",
        "    if playerMove == 'q':\n",
        "      sys.exit() #Quit the program.\n",
        "    if playerMove == 'r' or playerMove == 'p' or playerMove == 's':\n",
        "      break #Break out of the player input loop.\n",
        "    print('Type one of r, p, s, or q.')\n",
        "  #Display what the player chose:\n",
        "  if playerMove == 'r':\n",
        "    print('ROCK versus...')\n",
        "  elif playerMove == 'p':\n",
        "    print('PAPER versus...')\n",
        "  elif playerMove == 's':\n",
        "    print('SCISSORS versus...')\n",
        "\n",
        "  # Display what the computer chose:\n",
        "  randomNumber = random.randint(1, 3)\n",
        "  if randomNumber == 1:\n",
        "    computerMove = 'r'\n",
        "    print('ROCK')\n",
        "  elif randomNumber == 2:\n",
        "    computerMove = 'p'\n",
        "    print('PAPER')\n",
        "  elif randomNumber == 3:\n",
        "    computerMove = 's'\n",
        "    print('SCISSORS')\n",
        "\n",
        "  # Display and record the win/loss/tie:\n",
        "  if playerMove == computerMove:\n",
        "    print('It is a tie!')\n",
        "    ties = ties + 1\n",
        "  elif playerMove == 'r' and computerMove == 's':\n",
        "    print('You win!')\n",
        "    wins = wins + 1\n",
        "  elif playerMove == 'p' and computerMove == 'r':\n",
        "    print('You win!')\n",
        "    wins = wins + 1\n",
        "  elif playerMove == 's' and computerMove == 'p':\n",
        "    print('You win!')\n",
        "    wins = wins + 1\n",
        "  elif playerMove == 'r' and computerMove == 'p':\n",
        "    print('You lose!')\n",
        "    losses = losses + 1\n",
        "  elif playerMove == 'p' and computerMove == 's':\n",
        "    print('You lose!')\n",
        "    losses = losses + 1\n",
        "  elif playerMove == 's' and computerMove == 'r':\n",
        "    print('You lose!')\n",
        "    losses = losses + 1"
      ]
    },
    {
      "cell_type": "markdown",
      "metadata": {
        "id": "Cq7YT9-TTrbu"
      },
      "source": [
        "## 2.6 Practice Questions"
      ]
    },
    {
      "cell_type": "code",
      "execution_count": null,
      "metadata": {
        "colab": {
          "base_uri": "https://localhost:8080/"
        },
        "id": "KYwT21ruXlqi",
        "outputId": "217e78e1-d9b0-484f-e93b-4ee9f059412f"
      },
      "outputs": [
        {
          "name": "stdout",
          "output_type": "stream",
          "text": [
            "How many spam?\n",
            "5\n",
            "Greetings!\n"
          ]
        }
      ],
      "source": [
        "print('How many spam?')\n",
        "spam = int(input())\n",
        "if spam == 1:\n",
        "  print('Hello')\n",
        "elif spam == 2:\n",
        "  print('Howdy')\n",
        "else:\n",
        "  print('Greetings!')"
      ]
    },
    {
      "cell_type": "code",
      "execution_count": null,
      "metadata": {
        "colab": {
          "base_uri": "https://localhost:8080/"
        },
        "id": "_ZHh-KE8Zo7q",
        "outputId": "6af3de5a-5e3b-4ec1-92ba-534dd2a5eb42"
      },
      "outputs": [
        {
          "name": "stdout",
          "output_type": "stream",
          "text": [
            "1\n",
            "2\n",
            "3\n",
            "4\n",
            "5\n",
            "6\n",
            "7\n",
            "8\n",
            "9\n",
            "10\n"
          ]
        }
      ],
      "source": [
        "for i in range(1, 11):\n",
        "  print(i)"
      ]
    },
    {
      "cell_type": "code",
      "execution_count": null,
      "metadata": {
        "colab": {
          "base_uri": "https://localhost:8080/"
        },
        "id": "cUKpWhl2Zv5J",
        "outputId": "9351f27c-619d-4bce-c868-ce93c7e14ddb"
      },
      "outputs": [
        {
          "name": "stdout",
          "output_type": "stream",
          "text": [
            "1\n",
            "2\n",
            "3\n",
            "4\n",
            "5\n",
            "6\n",
            "7\n",
            "8\n",
            "9\n",
            "10\n"
          ]
        }
      ],
      "source": [
        "i = 1\n",
        "while i < 11:\n",
        "  print(i)\n",
        "  i = i + 1"
      ]
    },
    {
      "cell_type": "markdown",
      "metadata": {
        "id": "RQa_hXq9ad_x"
      },
      "source": [
        "round() function returns a floating point number that is a rounded version of the specified number, with the specified number of decimals.\n",
        "\n",
        "round(number, digits): \n",
        "\n",
        "number (r) -> the number need to be rounded. \n",
        "\n",
        "digits (o) -> the number of decimals to use when rounding the number, default = 0"
      ]
    },
    {
      "cell_type": "code",
      "execution_count": null,
      "metadata": {
        "colab": {
          "base_uri": "https://localhost:8080/"
        },
        "id": "ca-lhQV8bIRp",
        "outputId": "45020379-d20c-452a-dd06-291c3b04f7d5"
      },
      "outputs": [
        {
          "name": "stdout",
          "output_type": "stream",
          "text": [
            "0.88888\n",
            "1\n"
          ]
        }
      ],
      "source": [
        "x = float(input())\n",
        "x = round(x)\n",
        "print(x)"
      ]
    },
    {
      "cell_type": "markdown",
      "metadata": {
        "id": "UrWj2OaObm1Q"
      },
      "source": [
        "abs() function returns the absolute value of the specified number.\n",
        "\n",
        "abs(n):\n",
        "\n",
        "n (r): a number"
      ]
    },
    {
      "cell_type": "code",
      "execution_count": null,
      "metadata": {
        "colab": {
          "base_uri": "https://localhost:8080/"
        },
        "id": "WzCK2wupcgHq",
        "outputId": "486134e9-2ab1-4ac4-9a0f-f963c6ae7395"
      },
      "outputs": [
        {
          "name": "stdout",
          "output_type": "stream",
          "text": [
            "-678\n",
            "678\n"
          ]
        }
      ],
      "source": [
        "x = int(input())\n",
        "x = abs(x)\n",
        "print(x)"
      ]
    },
    {
      "cell_type": "markdown",
      "metadata": {
        "id": "MO8g8FYcYVvj"
      },
      "source": [
        "# 3 Function"
      ]
    },
    {
      "cell_type": "markdown",
      "metadata": {
        "id": "WadeX4uZrX1e"
      },
      "source": [
        "## 3.1 Hello Function"
      ]
    },
    {
      "cell_type": "code",
      "execution_count": null,
      "metadata": {
        "colab": {
          "base_uri": "https://localhost:8080/"
        },
        "id": "pQgkgTWArkPS",
        "outputId": "a5114ecf-d7bb-4953-d986-d48a6cb88ae9"
      },
      "outputs": [
        {
          "name": "stdout",
          "output_type": "stream",
          "text": [
            "Howdy!\n",
            "Howdy!!!\n",
            "Hello there!\n",
            "Howdy!\n",
            "Howdy!!!\n",
            "Hello there!\n",
            "Howdy!\n",
            "Howdy!!!\n",
            "Hello there!\n"
          ]
        }
      ],
      "source": [
        "def hello():\n",
        "  print('Howdy!')\n",
        "  print('Howdy!!!')\n",
        "  print('Hello there!')\n",
        "hello()\n",
        "hello()\n",
        "hello()"
      ]
    },
    {
      "cell_type": "code",
      "execution_count": null,
      "metadata": {
        "colab": {
          "base_uri": "https://localhost:8080/"
        },
        "id": "myOrG0uSuMua",
        "outputId": "61604951-e99b-4fda-b483-5ede6d083b0e"
      },
      "outputs": [
        {
          "name": "stdout",
          "output_type": "stream",
          "text": [
            "Hello, Alice\n",
            "Hello, Bob\n"
          ]
        }
      ],
      "source": [
        "def hello(name):\n",
        "  print('Hello, ' + name)\n",
        "\n",
        "hello('Alice')\n",
        "hello('Bob')"
      ]
    },
    {
      "cell_type": "code",
      "execution_count": null,
      "metadata": {
        "colab": {
          "base_uri": "https://localhost:8080/"
        },
        "id": "10Jm3QRpu59w",
        "outputId": "5fd1c408-2c72-47b5-99c0-e1830e64164a"
      },
      "outputs": [
        {
          "name": "stdout",
          "output_type": "stream",
          "text": [
            "Hello, Al\n"
          ]
        }
      ],
      "source": [
        "def sayHello(name):\n",
        "  print('Hello, ' + name)\n",
        "sayHello('Al')"
      ]
    },
    {
      "cell_type": "markdown",
      "metadata": {
        "id": "lbkblS6kwFkO"
      },
      "source": [
        "## 3.2 magic8ball"
      ]
    },
    {
      "cell_type": "code",
      "execution_count": null,
      "metadata": {
        "colab": {
          "base_uri": "https://localhost:8080/"
        },
        "id": "uOMTVIzowHXt",
        "outputId": "0a41790c-9ba2-4986-e872-342dd1c9763f"
      },
      "outputs": [
        {
          "name": "stdout",
          "output_type": "stream",
          "text": [
            "Very doubtful\n"
          ]
        }
      ],
      "source": [
        "import random\n",
        "\n",
        "def getAnswer(answerNumber):\n",
        "  if answerNumber == 1:\n",
        "    return 'It is certain'\n",
        "  elif answerNumber == 2:\n",
        "    return 'It is decidely so'\n",
        "  elif answerNumber == 3:\n",
        "    return 'Yes'\n",
        "  elif answerNumber == 4:\n",
        "    return 'Reply hazy try again'\n",
        "  elif answerNumber == 5:\n",
        "    return 'Ask again later'\n",
        "  elif answerNumber == 6:\n",
        "    return 'Concentrate and ask again'\n",
        "  elif answerNumber == 7:\n",
        "    return 'My reply is no'\n",
        "  elif answerNumber == 8:\n",
        "    return 'Outlook not so good'\n",
        "  elif answerNumber == 9:\n",
        "    return 'Very doubtful'\n",
        "r = random.randint(1, 9)\n",
        "fortune = getAnswer(r)\n",
        "print(fortune)"
      ]
    },
    {
      "cell_type": "code",
      "execution_count": null,
      "metadata": {
        "colab": {
          "base_uri": "https://localhost:8080/"
        },
        "id": "43UuWGBDyUj8",
        "outputId": "59d7ad03-8b78-42dc-d800-d4a46a2f3bb7"
      },
      "outputs": [
        {
          "name": "stdout",
          "output_type": "stream",
          "text": [
            "It is certain\n"
          ]
        }
      ],
      "source": [
        "def getAnswer(answerNumber):\n",
        "  if answerNumber == 1:\n",
        "    return 'It is certain'\n",
        "  elif answerNumber == 2:\n",
        "    return 'It is decidely so'\n",
        "  elif answerNumber == 3:\n",
        "    return 'Yes'\n",
        "  elif answerNumber == 4:\n",
        "    return 'Reply hazy try again'\n",
        "  elif answerNumber == 5:\n",
        "    return 'Ask again later'\n",
        "  elif answerNumber == 6:\n",
        "    return 'Concentrate and ask again'\n",
        "  elif answerNumber == 7:\n",
        "    return 'My reply is no'\n",
        "  elif answerNumber == 8:\n",
        "    return 'Outlook not so good'\n",
        "  elif answerNumber == 9:\n",
        "    return 'Very doubtful'\n",
        "    \n",
        "print(getAnswer(random.randint(1, 9)))"
      ]
    },
    {
      "cell_type": "markdown",
      "metadata": {
        "id": "c02ESkyv0BVo"
      },
      "source": [
        "## 3.3 None Value"
      ]
    },
    {
      "cell_type": "code",
      "execution_count": null,
      "metadata": {
        "colab": {
          "base_uri": "https://localhost:8080/"
        },
        "id": "yXtU5BWJ0AUG",
        "outputId": "50118997-a466-4cc8-e149-80698d0d2d0a"
      },
      "outputs": [
        {
          "name": "stdout",
          "output_type": "stream",
          "text": [
            "Hello\n"
          ]
        },
        {
          "data": {
            "text/plain": [
              "True"
            ]
          },
          "execution_count": 10,
          "metadata": {
            "tags": []
          },
          "output_type": "execute_result"
        }
      ],
      "source": [
        "spam = print('Hello')\n",
        "None == spam"
      ]
    },
    {
      "cell_type": "markdown",
      "metadata": {
        "id": "_hTwUPNF1Swe"
      },
      "source": [
        "## 3.4 Keyword Arguments and the print() Function"
      ]
    },
    {
      "cell_type": "code",
      "execution_count": null,
      "metadata": {
        "colab": {
          "base_uri": "https://localhost:8080/"
        },
        "id": "FYHZHXTi1Xzl",
        "outputId": "d671cc6e-76fa-422b-a25f-064b600b5b2c"
      },
      "outputs": [
        {
          "name": "stdout",
          "output_type": "stream",
          "text": [
            "Hello\n",
            "World\n"
          ]
        }
      ],
      "source": [
        "print('Hello')\n",
        "print('World')"
      ]
    },
    {
      "cell_type": "code",
      "execution_count": null,
      "metadata": {
        "colab": {
          "base_uri": "https://localhost:8080/"
        },
        "id": "oHZnYIQr1ec7",
        "outputId": "8579cac0-45f4-448c-b647-a95e18405477"
      },
      "outputs": [
        {
          "name": "stdout",
          "output_type": "stream",
          "text": [
            "HelloWorld\n"
          ]
        }
      ],
      "source": [
        "print('Hello', end = '')\n",
        "print('World')"
      ]
    },
    {
      "cell_type": "code",
      "execution_count": null,
      "metadata": {
        "colab": {
          "base_uri": "https://localhost:8080/"
        },
        "id": "2Vz6dejM1jtl",
        "outputId": "e502a0be-8ccf-4ba1-8fbc-e6fd55e8f274"
      },
      "outputs": [
        {
          "name": "stdout",
          "output_type": "stream",
          "text": [
            "dogs cats mice\n"
          ]
        }
      ],
      "source": [
        "print('dogs', 'cats', 'mice')"
      ]
    },
    {
      "cell_type": "code",
      "execution_count": null,
      "metadata": {
        "colab": {
          "base_uri": "https://localhost:8080/"
        },
        "id": "nig5pywv1ovd",
        "outputId": "922ed7e2-04a2-4cbb-df11-fe4032eaf577"
      },
      "outputs": [
        {
          "name": "stdout",
          "output_type": "stream",
          "text": [
            "dogs, cats, mice\n"
          ]
        }
      ],
      "source": [
        "print('dogs', 'cats', 'mice', sep = ', ')"
      ]
    },
    {
      "cell_type": "markdown",
      "metadata": {
        "id": "8PQUPYLcUL6G"
      },
      "source": [
        "## 3.5 Local vs Global Variables"
      ]
    },
    {
      "cell_type": "code",
      "execution_count": null,
      "metadata": {
        "colab": {
          "base_uri": "https://localhost:8080/",
          "height": 198
        },
        "id": "Yq6sXCf5UQR0",
        "outputId": "b5238792-90a1-41f4-d8ca-0e0526a300fc"
      },
      "outputs": [
        {
          "ename": "NameError",
          "evalue": "ignored",
          "output_type": "error",
          "traceback": [
            "\u001b[0;31m---------------------------------------------------------------------------\u001b[0m",
            "\u001b[0;31mNameError\u001b[0m                                 Traceback (most recent call last)",
            "\u001b[0;32m<ipython-input-1-ee3c448ed1cd>\u001b[0m in \u001b[0;36m<module>\u001b[0;34m()\u001b[0m\n\u001b[1;32m      2\u001b[0m   \u001b[0meggs\u001b[0m \u001b[0;34m=\u001b[0m \u001b[0;36m31337\u001b[0m\u001b[0;34m\u001b[0m\u001b[0;34m\u001b[0m\u001b[0m\n\u001b[1;32m      3\u001b[0m \u001b[0mspam\u001b[0m\u001b[0;34m(\u001b[0m\u001b[0;34m)\u001b[0m\u001b[0;34m\u001b[0m\u001b[0;34m\u001b[0m\u001b[0m\n\u001b[0;32m----> 4\u001b[0;31m \u001b[0mprint\u001b[0m\u001b[0;34m(\u001b[0m\u001b[0meggs\u001b[0m\u001b[0;34m)\u001b[0m\u001b[0;34m\u001b[0m\u001b[0;34m\u001b[0m\u001b[0m\n\u001b[0m",
            "\u001b[0;31mNameError\u001b[0m: name 'eggs' is not defined"
          ]
        }
      ],
      "source": [
        "#Local Variables cannot be used in the Global Scope\n",
        "def spam():\n",
        "  eggs = 31337\n",
        "spam()\n",
        "print(eggs)"
      ]
    },
    {
      "cell_type": "code",
      "execution_count": null,
      "metadata": {
        "colab": {
          "base_uri": "https://localhost:8080/"
        },
        "id": "hNkEHaM1VDRS",
        "outputId": "afe557c0-29c5-41c0-a69e-a2b023017448"
      },
      "outputs": [
        {
          "name": "stdout",
          "output_type": "stream",
          "text": [
            "99\n"
          ]
        }
      ],
      "source": [
        "#Local Scopes cannot use variables in other Local Scopes\n",
        "def spam():\n",
        "  eggs = 99\n",
        "  bacon()\n",
        "  print(eggs)\n",
        "\n",
        "def bacon():\n",
        "  ham = 101\n",
        "  eggs = 0\n",
        "\n",
        "spam()"
      ]
    },
    {
      "cell_type": "code",
      "execution_count": null,
      "metadata": {
        "colab": {
          "base_uri": "https://localhost:8080/"
        },
        "id": "NNKXb6YMVntQ",
        "outputId": "a8d65378-c983-473e-db85-d05dc43672a8"
      },
      "outputs": [
        {
          "name": "stdout",
          "output_type": "stream",
          "text": [
            "42\n",
            "42\n"
          ]
        }
      ],
      "source": [
        "#Global Variables can be read from a Local Scope\n",
        "def spam():\n",
        "  print(eggs)\n",
        "eggs = 42\n",
        "spam()\n",
        "print(eggs)"
      ]
    },
    {
      "cell_type": "code",
      "execution_count": null,
      "metadata": {
        "colab": {
          "base_uri": "https://localhost:8080/"
        },
        "id": "0BHGxzYMWWHn",
        "outputId": "21662fa8-3fbc-4859-c6a7-11c5a661a4aa"
      },
      "outputs": [
        {
          "name": "stdout",
          "output_type": "stream",
          "text": [
            "bacon local\n",
            "spam local\n",
            "bacon local\n",
            "global\n"
          ]
        }
      ],
      "source": [
        "#Local and Global Variables with the same name\n",
        "def spam():\n",
        "  eggs = 'spam local'\n",
        "  print(eggs)  #prints 'spam local'\n",
        "\n",
        "def bacon():\n",
        "  eggs = 'bacon local'\n",
        "  print(eggs) #prints 'bacon local'\n",
        "  spam()\n",
        "  print(eggs) #print 'bacon local'\n",
        "\n",
        "eggs = 'global'\n",
        "bacon()\n",
        "print(eggs) #print 'global"
      ]
    },
    {
      "cell_type": "code",
      "execution_count": null,
      "metadata": {
        "colab": {
          "base_uri": "https://localhost:8080/"
        },
        "id": "pN6RQHAoZBEj",
        "outputId": "f96fa5e0-0d30-45e7-e026-abe721ea9d53"
      },
      "outputs": [
        {
          "name": "stdout",
          "output_type": "stream",
          "text": [
            "spam\n"
          ]
        }
      ],
      "source": [
        "#The global statement\n",
        "def spam():\n",
        "  global eggs\n",
        "  eggs = 'spam'\n",
        "\n",
        "eggs = 'global'\n",
        "spam()\n",
        "print(eggs)"
      ]
    },
    {
      "cell_type": "code",
      "execution_count": null,
      "metadata": {
        "colab": {
          "base_uri": "https://localhost:8080/"
        },
        "id": "Im9IW0RDdcqS",
        "outputId": "64de18fb-c4f2-439c-ce5f-a8dcdb23784b"
      },
      "outputs": [
        {
          "name": "stdout",
          "output_type": "stream",
          "text": [
            "spam\n"
          ]
        }
      ],
      "source": [
        "#sameNameLocalGlobal\n",
        "def spam():\n",
        "  global eggs\n",
        "  eggs = 'spam' #this is the global\n",
        "\n",
        "def bacon():\n",
        "  eggs = 'bacon' #this is the local\n",
        "\n",
        "def ham():\n",
        "  print(eggs) #this is the global\n",
        "\n",
        "eggs = 42 #this is the global\n",
        "spam()\n",
        "print(eggs)"
      ]
    },
    {
      "cell_type": "markdown",
      "metadata": {
        "id": "WcEoyoTeewhj"
      },
      "source": [
        "## 3.6 Exception Handling"
      ]
    },
    {
      "cell_type": "code",
      "execution_count": null,
      "metadata": {
        "colab": {
          "base_uri": "https://localhost:8080/",
          "height": 368
        },
        "id": "iLdmgp_GeqFM",
        "outputId": "537ba433-6f4a-44a8-eac9-6f36f9e1a4ac"
      },
      "outputs": [
        {
          "name": "stdout",
          "output_type": "stream",
          "text": [
            "21.0\n",
            "3.5\n"
          ]
        },
        {
          "ename": "ZeroDivisionError",
          "evalue": "ignored",
          "output_type": "error",
          "traceback": [
            "\u001b[0;31m---------------------------------------------------------------------------\u001b[0m",
            "\u001b[0;31mZeroDivisionError\u001b[0m                         Traceback (most recent call last)",
            "\u001b[0;32m<ipython-input-9-ad24a53396bb>\u001b[0m in \u001b[0;36m<module>\u001b[0;34m()\u001b[0m\n\u001b[1;32m      4\u001b[0m \u001b[0mprint\u001b[0m\u001b[0;34m(\u001b[0m\u001b[0mspam\u001b[0m\u001b[0;34m(\u001b[0m\u001b[0;36m2\u001b[0m\u001b[0;34m)\u001b[0m\u001b[0;34m)\u001b[0m\u001b[0;34m\u001b[0m\u001b[0;34m\u001b[0m\u001b[0m\n\u001b[1;32m      5\u001b[0m \u001b[0mprint\u001b[0m\u001b[0;34m(\u001b[0m\u001b[0mspam\u001b[0m\u001b[0;34m(\u001b[0m\u001b[0;36m12\u001b[0m\u001b[0;34m)\u001b[0m\u001b[0;34m)\u001b[0m\u001b[0;34m\u001b[0m\u001b[0;34m\u001b[0m\u001b[0m\n\u001b[0;32m----> 6\u001b[0;31m \u001b[0mprint\u001b[0m\u001b[0;34m(\u001b[0m\u001b[0mspam\u001b[0m\u001b[0;34m(\u001b[0m\u001b[0;36m0\u001b[0m\u001b[0;34m)\u001b[0m\u001b[0;34m)\u001b[0m\u001b[0;34m\u001b[0m\u001b[0;34m\u001b[0m\u001b[0m\n\u001b[0m\u001b[1;32m      7\u001b[0m \u001b[0mprint\u001b[0m\u001b[0;34m(\u001b[0m\u001b[0mspam\u001b[0m\u001b[0;34m(\u001b[0m\u001b[0;36m1\u001b[0m\u001b[0;34m)\u001b[0m\u001b[0;34m)\u001b[0m\u001b[0;34m\u001b[0m\u001b[0;34m\u001b[0m\u001b[0m\n",
            "\u001b[0;32m<ipython-input-9-ad24a53396bb>\u001b[0m in \u001b[0;36mspam\u001b[0;34m(divideBy)\u001b[0m\n\u001b[1;32m      1\u001b[0m \u001b[0;32mdef\u001b[0m \u001b[0mspam\u001b[0m\u001b[0;34m(\u001b[0m\u001b[0mdivideBy\u001b[0m\u001b[0;34m)\u001b[0m\u001b[0;34m:\u001b[0m\u001b[0;34m\u001b[0m\u001b[0;34m\u001b[0m\u001b[0m\n\u001b[0;32m----> 2\u001b[0;31m     \u001b[0;32mreturn\u001b[0m \u001b[0;36m42\u001b[0m\u001b[0;34m/\u001b[0m\u001b[0mdivideBy\u001b[0m\u001b[0;34m\u001b[0m\u001b[0;34m\u001b[0m\u001b[0m\n\u001b[0m\u001b[1;32m      3\u001b[0m \u001b[0;34m\u001b[0m\u001b[0m\n\u001b[1;32m      4\u001b[0m \u001b[0mprint\u001b[0m\u001b[0;34m(\u001b[0m\u001b[0mspam\u001b[0m\u001b[0;34m(\u001b[0m\u001b[0;36m2\u001b[0m\u001b[0;34m)\u001b[0m\u001b[0;34m)\u001b[0m\u001b[0;34m\u001b[0m\u001b[0;34m\u001b[0m\u001b[0m\n\u001b[1;32m      5\u001b[0m \u001b[0mprint\u001b[0m\u001b[0;34m(\u001b[0m\u001b[0mspam\u001b[0m\u001b[0;34m(\u001b[0m\u001b[0;36m12\u001b[0m\u001b[0;34m)\u001b[0m\u001b[0;34m)\u001b[0m\u001b[0;34m\u001b[0m\u001b[0;34m\u001b[0m\u001b[0m\n",
            "\u001b[0;31mZeroDivisionError\u001b[0m: division by zero"
          ]
        }
      ],
      "source": [
        "def spam(divideBy):\n",
        "    return 42/divideBy\n",
        "\n",
        "print(spam(2))\n",
        "print(spam(12))\n",
        "print(spam(0))\n",
        "print(spam(1))"
      ]
    },
    {
      "cell_type": "code",
      "execution_count": null,
      "metadata": {
        "id": "ZNWUmp37fizy"
      },
      "outputs": [],
      "source": [
        "def spam(divideBy):\n",
        "  try:\n",
        "    return 42/divideBy\n",
        "  except ZeroDivisionError:\n",
        "    print('Error: Invalid argument.')\n",
        "\n",
        "print(spam(2))\n",
        "print(spam(12))\n",
        "print(spam(0))\n",
        "print(spam(1))"
      ]
    },
    {
      "cell_type": "code",
      "execution_count": null,
      "metadata": {
        "colab": {
          "base_uri": "https://localhost:8080/"
        },
        "id": "dlTRiib2freY",
        "outputId": "0e1b62c3-7f97-43fd-9718-1333ec0d7b67"
      },
      "outputs": [
        {
          "name": "stdout",
          "output_type": "stream",
          "text": [
            "21.0\n",
            "3.5\n",
            "Error: Invalid argument.\n"
          ]
        }
      ],
      "source": [
        "def spam(divideBy):\n",
        "    return 42/divideBy\n",
        "\n",
        "try:\n",
        "  print(spam(2))\n",
        "  print(spam(12))\n",
        "  print(spam(0))\n",
        "  print(spam(1))\n",
        "except ZeroDivisionError:\n",
        "  print('Error: Invalid argument.')\n",
        "#The reason print(spam(1)) is never executed is because once the execution jumps to the code in the except clause, it does not return to the try clause. Instead, it just continues moving down the program as normal."
      ]
    },
    {
      "cell_type": "markdown",
      "metadata": {
        "id": "hgvBvdzY2QWv"
      },
      "source": [
        "## 3.7 abcdCallStack"
      ]
    },
    {
      "cell_type": "code",
      "execution_count": null,
      "metadata": {
        "colab": {
          "base_uri": "https://localhost:8080/"
        },
        "id": "UUxpSRXM2TxU",
        "outputId": "66637e24-8db2-42e6-cdcd-3379b21890b9"
      },
      "outputs": [
        {
          "name": "stdout",
          "output_type": "stream",
          "text": [
            "a() starts\n",
            "b() starts\n",
            "c() starts\n",
            "c() returns\n",
            "b() returns\n",
            "d() starts\n",
            "d() returns\n",
            "a() returns\n"
          ]
        }
      ],
      "source": [
        "def a():\n",
        "  print('a() starts')\n",
        "  b()\n",
        "  d()\n",
        "  print('a() returns')\n",
        "\n",
        "def b():\n",
        "  print('b() starts')\n",
        "  c()\n",
        "  print('b() returns')\n",
        "\n",
        "def c():\n",
        "  print('c() starts')\n",
        "  print('c() returns')\n",
        "\n",
        "def d():\n",
        "  print('d() starts')\n",
        "  print('d() returns')\n",
        "\n",
        "a()"
      ]
    },
    {
      "cell_type": "code",
      "execution_count": null,
      "metadata": {
        "id": "4l2WnyDuUK9j"
      },
      "outputs": [],
      "source": []
    },
    {
      "cell_type": "markdown",
      "metadata": {
        "id": "qWIO1dl-rRZq"
      },
      "source": [
        "## 3.8 A Short Program - Zigzag"
      ]
    },
    {
      "cell_type": "code",
      "execution_count": null,
      "metadata": {
        "colab": {
          "base_uri": "https://localhost:8080/",
          "height": 1000
        },
        "id": "zpm96lpLYUWM",
        "outputId": "ec03504f-e2fe-4a57-d7e0-67fda4445845"
      },
      "outputs": [
        {
          "name": "stdout",
          "output_type": "stream",
          "text": [
            "********\n",
            " ********\n",
            "  ********\n",
            "   ********\n",
            "    ********\n",
            "     ********\n",
            "      ********\n",
            "       ********\n",
            "        ********\n",
            "         ********\n",
            "          ********\n",
            "           ********\n",
            "            ********\n",
            "             ********\n",
            "              ********\n",
            "               ********\n",
            "                ********\n",
            "                 ********\n",
            "                  ********\n",
            "                   ********\n",
            "                    ********\n",
            "                   ********\n",
            "                  ********\n",
            "                 ********\n",
            "                ********\n",
            "               ********\n",
            "              ********\n",
            "             ********\n",
            "            ********\n",
            "           ********\n",
            "          ********\n",
            "         ********\n",
            "        ********\n",
            "       ********\n",
            "      ********\n",
            "     ********\n",
            "    ********\n",
            "   ********\n",
            "  ********\n",
            " ********\n",
            "********\n",
            " ********\n",
            "  ********\n",
            "   ********\n",
            "    ********\n",
            "     ********\n",
            "      ********\n",
            "       ********\n",
            "        ********\n",
            "         ********\n",
            "          ********\n",
            "           ********\n",
            "            ********\n",
            "             ********\n",
            "              ********\n",
            "               ********\n",
            "                ********\n",
            "                 ********\n",
            "                  ********\n",
            "                   ********\n",
            "                    ********\n",
            "                   ********\n",
            "                  ********\n",
            "                 ********\n",
            "                ********\n",
            "               ********\n",
            "              ********\n",
            "             ********\n",
            "            ********\n",
            "           ********\n",
            "          ********\n",
            "         ********\n",
            "        ********\n",
            "       ********\n",
            "      ********\n",
            "     ********\n",
            "    ********\n",
            "   ********\n",
            "  ********\n",
            " ********\n",
            "********\n",
            " ********\n",
            "  ********\n",
            "   ********\n",
            "    ********\n",
            "     ********\n",
            "      ********\n",
            "       ********\n",
            "        ********\n",
            "         ********\n",
            "          ********\n",
            "           ********\n",
            "            ********\n",
            "             ********\n",
            "              ********\n",
            "               ********\n",
            "                ********\n",
            "                 ********\n",
            "                  ********\n",
            "                   ********\n",
            "                    ********\n",
            "                   ********\n",
            "                  ********\n",
            "                 ********\n",
            "                ********\n",
            "               ********\n",
            "              ********\n",
            "             ********\n",
            "            ********\n",
            "           ********\n",
            "          ********\n",
            "         ********\n",
            "        ********\n",
            "       ********\n",
            "      ********\n",
            "     ********\n",
            "    ********\n",
            "   ********\n",
            "  ********\n",
            " ********\n",
            "********\n",
            " ********\n",
            "  ********\n",
            "   ********\n",
            "    ********\n",
            "     ********\n",
            "      ********\n",
            "       ********\n",
            "        ********\n",
            "         ********\n",
            "          ********\n",
            "           ********\n",
            "            ********\n",
            "             ********\n",
            "              ********\n",
            "               ********\n",
            "                ********\n",
            "                 ********\n",
            "                  ********\n",
            "                   ********\n",
            "                    ********\n",
            "                   ********\n",
            "                  ********\n",
            "                 ********\n",
            "                ********\n",
            "               ********\n",
            "              ********\n",
            "             ********\n",
            "            ********\n",
            "           ********\n",
            "          ********\n",
            "         ********\n",
            "        ********\n",
            "       ********\n",
            "      ********\n",
            "     ********\n",
            "    ********\n",
            "   ********\n",
            "  ********\n",
            " ********\n",
            "********\n",
            " ********\n",
            "  ********\n",
            "   ********\n",
            "    ********\n",
            "     ********\n",
            "      ********\n",
            "       ********\n",
            "        ********\n",
            "         ********\n",
            "          ********\n",
            "           ********\n",
            "            ********\n",
            "             ********\n",
            "              ********\n",
            "               ********\n",
            "                ********\n",
            "                 ********\n",
            "                  ********\n",
            "                   ********\n",
            "                    ********\n",
            "                   ********\n",
            "                  ********\n",
            "                 ********\n",
            "                ********\n",
            "               ********\n",
            "              ********\n",
            "             ********\n",
            "            ********\n",
            "           ********\n",
            "          ********\n",
            "         ********\n",
            "        ********\n",
            "       ********\n",
            "      ********\n",
            "     ********\n",
            "    ********\n",
            "   ********\n",
            "  ********\n",
            " ********\n",
            "********\n",
            " ********\n",
            "  ********\n",
            "   ********\n",
            "    ********\n",
            "     ********\n",
            "      ********\n",
            "       ********\n",
            "        ********\n",
            "         ********\n",
            "          ********\n",
            "           ********\n",
            "            ********\n",
            "             ********\n",
            "              ********\n",
            "               ********\n",
            "                ********\n",
            "                 ********\n",
            "                  ********\n",
            "                   ********\n",
            "                    ********\n",
            "                   ********\n",
            "                  ********\n",
            "                 ********\n",
            "                ********\n",
            "               ********\n",
            "              ********\n",
            "             ********\n",
            "            ********\n",
            "           ********\n",
            "          ********\n",
            "         ********\n",
            "        ********\n",
            "       ********\n",
            "      ********\n",
            "     ********\n",
            "    ********\n",
            "   ********\n",
            "  ********\n",
            " ********\n",
            "********\n",
            " ********\n",
            "  ********\n",
            "   ********\n",
            "    ********\n",
            "     ********\n",
            "      ********\n",
            "       ********\n",
            "        ********\n",
            "         ********\n",
            "          ********\n",
            "           ********\n",
            "            ********\n",
            "             ********\n",
            "              ********\n",
            "               ********\n",
            "                ********\n",
            "                 ********\n",
            "                  ********\n",
            "                   ********\n",
            "                    ********\n",
            "                   ********\n",
            "                  ********\n",
            "                 ********\n",
            "                ********\n",
            "               ********\n",
            "              ********\n",
            "             ********\n",
            "            ********\n",
            "           ********\n",
            "          ********\n",
            "         ********\n",
            "        ********\n",
            "       ********\n",
            "      ********\n",
            "     ********\n",
            "    ********\n",
            "   ********\n",
            "  ********\n",
            " ********\n",
            "********\n",
            " ********\n",
            "  ********\n",
            "   ********\n",
            "    ********\n",
            "     ********\n",
            "      ********\n",
            "       ********\n",
            "        ********\n",
            "         ********\n",
            "          ********\n",
            "           ********\n",
            "            ********\n",
            "             ********\n",
            "              ********\n",
            "               ********\n",
            "                ********\n",
            "                 ********\n",
            "                  ********\n",
            "                   ********\n",
            "                    ********\n",
            "                   ********\n",
            "                  ********\n",
            "                 ********\n",
            "                ********\n",
            "               ********\n",
            "              ********\n",
            "             ********\n",
            "            ********\n",
            "           ********\n",
            "          ********\n",
            "         ********\n",
            "        ********\n",
            "       ********\n",
            "      ********\n",
            "     ********\n",
            "    ********\n",
            "   ********\n",
            "  ********\n",
            " ********\n",
            "********\n",
            " ********\n",
            "  ********\n",
            "   ********\n",
            "    ********\n",
            "     ********\n",
            "      ********\n",
            "       ********\n",
            "        ********\n",
            "         ********\n",
            "          ********\n",
            "           ********\n",
            "            ********\n",
            "             ********\n",
            "              ********\n",
            "               ********\n",
            "                ********\n",
            "                 ********\n",
            "                  ********\n",
            "                   ********\n",
            "                    ********\n",
            "                   ********\n",
            "                  ********\n",
            "                 ********\n",
            "                ********\n",
            "               ********\n",
            "              ********\n",
            "             ********\n",
            "            ********\n",
            "           ********\n",
            "          ********\n",
            "         ********\n",
            "        ********\n",
            "       ********\n",
            "      ********\n",
            "     ********\n",
            "    ********\n",
            "   ********\n",
            "  ********\n",
            " ********\n",
            "********\n",
            " ********\n",
            "  ********\n",
            "   ********\n",
            "    ********\n",
            "     ********\n",
            "      ********\n",
            "       ********\n",
            "        ********\n",
            "         ********\n",
            "          ********\n",
            "           ********\n",
            "            ********\n",
            "             ********\n",
            "              ********\n",
            "               ********\n",
            "                ********\n",
            "                 ********\n",
            "                  ********\n",
            "                   ********\n",
            "                    ********\n",
            "                   ********\n",
            "                  ********\n",
            "                 ********\n",
            "                ********\n",
            "               ********\n",
            "              ********\n",
            "             ********\n",
            "            ********\n",
            "           ********\n",
            "          ********\n",
            "         ********\n",
            "        ********\n",
            "       ********\n",
            "      ********\n",
            "     ********\n",
            "    ********\n",
            "   ********\n",
            "  ********\n",
            " ********\n",
            "********\n",
            " ********\n",
            "  ********\n",
            "   ********\n",
            "    ********\n",
            "     ********\n",
            "      ********\n",
            "       ********\n",
            "        ********\n",
            "         ********\n",
            "          ********\n",
            "           ********\n",
            "            ********\n",
            "             ********\n",
            "              ********\n",
            "               ********\n",
            "                ********\n",
            "                 ********\n",
            "                  ********\n",
            "                   ********\n",
            "                    ********\n",
            "                   ********\n",
            "                  ********\n",
            "                 ********\n",
            "                ********\n",
            "               ********\n",
            "              ********\n",
            "             ********\n",
            "            ********\n",
            "           ********\n",
            "          ********\n",
            "         ********\n",
            "        ********\n",
            "       ********\n",
            "      ********\n",
            "     ********\n",
            "    ********\n",
            "   ********\n",
            "  ********\n",
            " ********\n",
            "********\n",
            " ********\n",
            "  ********\n",
            "   ********\n",
            "    ********\n",
            "     ********\n",
            "      ********\n",
            "       ********\n",
            "        ********\n",
            "         ********\n",
            "          ********\n",
            "           ********\n",
            "            ********\n",
            "             ********\n",
            "              ********\n",
            "               ********\n",
            "                ********\n",
            "                 ********\n",
            "                  ********\n",
            "                   ********\n",
            "                    ********\n",
            "                   ********\n",
            "                  ********\n",
            "                 ********\n",
            "                ********\n",
            "               ********\n",
            "              ********\n",
            "             ********\n",
            "            ********\n",
            "           ********\n",
            "          ********\n",
            "         ********\n",
            "        ********\n",
            "       ********\n",
            "      ********\n",
            "     ********\n",
            "    ********\n",
            "   ********\n"
          ]
        },
        {
          "ename": "SystemExit",
          "evalue": "ignored",
          "output_type": "error",
          "traceback": [
            "An exception has occurred, use %tb to see the full traceback.\n",
            "\u001b[0;31mSystemExit\u001b[0m\n"
          ]
        },
        {
          "name": "stderr",
          "output_type": "stream",
          "text": [
            "/usr/local/lib/python3.7/dist-packages/IPython/core/interactiveshell.py:2890: UserWarning: To exit: use 'exit', 'quit', or Ctrl-D.\n",
            "  warn(\"To exit: use 'exit', 'quit', or Ctrl-D.\", stacklevel=1)\n"
          ]
        }
      ],
      "source": [
        "import time, sys\n",
        "indent = 0 # How many spaces to indent.\n",
        "indentIncreasing = True # Whether the indentation is increasing or not.\n",
        "\n",
        "try:\n",
        "  while True: # The main program loop.\n",
        "    print(' ' * indent, end='')\n",
        "    print('********')\n",
        "    time.sleep(0.1) # Pause for 1/10 of a second.\n",
        "\n",
        "    if indentIncreasing:\n",
        "      # Increase the number of spaces:\n",
        "      indent = indent + 1\n",
        "      if indent == 20:\n",
        "        # Change direction:\n",
        "        indentIncreasing = False\n",
        "    else:\n",
        "      # Decrease the number of spaces:\n",
        "      indent = indent - 1\n",
        "      if indent == 0:\n",
        "        # Change direction:\n",
        "        indentIncreasing = True\n",
        "except KeyboardInterrupt:\n",
        "  sys.exit()"
      ]
    },
    {
      "cell_type": "markdown",
      "metadata": {
        "id": "MvdGveNGiuRQ"
      },
      "source": [
        "## 3.9 Practice Projects"
      ]
    },
    {
      "cell_type": "code",
      "execution_count": null,
      "metadata": {
        "colab": {
          "base_uri": "https://localhost:8080/",
          "height": 606
        },
        "id": "0R25swPUi4We",
        "outputId": "10a65ef2-456d-4d7e-a94a-cc85b780bad7"
      },
      "outputs": [
        {
          "name": "stdout",
          "output_type": "stream",
          "text": [
            "Enter a number\n",
            "100\n",
            "50.0\n",
            "25.0\n",
            "76.0\n",
            "38.0\n",
            "19.0\n",
            "58.0\n",
            "29.0\n",
            "88.0\n",
            "44.0\n",
            "22.0\n",
            "11.0\n",
            "34.0\n",
            "17.0\n",
            "52.0\n",
            "26.0\n",
            "13.0\n",
            "40.0\n",
            "20.0\n",
            "10.0\n",
            "5.0\n",
            "16.0\n",
            "8.0\n",
            "4.0\n",
            "2.0\n",
            "1.0\n"
          ]
        },
        {
          "ename": "SystemExit",
          "evalue": "ignored",
          "output_type": "error",
          "traceback": [
            "An exception has occurred, use %tb to see the full traceback.\n",
            "\u001b[0;31mSystemExit\u001b[0m\n"
          ]
        },
        {
          "name": "stderr",
          "output_type": "stream",
          "text": [
            "/usr/local/lib/python3.7/dist-packages/IPython/core/interactiveshell.py:2890: UserWarning: To exit: use 'exit', 'quit', or Ctrl-D.\n",
            "  warn(\"To exit: use 'exit', 'quit', or Ctrl-D.\", stacklevel=1)\n"
          ]
        }
      ],
      "source": [
        "#The Collatz Sequence\n",
        "import sys\n",
        "\n",
        "def collatz(number):\n",
        "\n",
        "  if number % 2 == 0:\n",
        "    result = number/2 #Even number\n",
        "  elif number % 2 == 1:\n",
        "    result = 3*number + 1 #Odd number\n",
        "  \n",
        "  while result == 1: #Print the last result when it = 1\n",
        "    print(result)\n",
        "    sys.exit() #To ensure it wont print 1 forever\n",
        "\n",
        "  while result != 1:\n",
        "    print(result) \n",
        "    number = result\n",
        "    return collatz(number)\n",
        "\n",
        "print('Enter a number')\n",
        "number = int(input())\n",
        "collatz(number)"
      ]
    },
    {
      "cell_type": "code",
      "execution_count": null,
      "metadata": {
        "colab": {
          "base_uri": "https://localhost:8080/"
        },
        "id": "gcfJem6f7FBQ",
        "outputId": "b9574290-6b71-4de1-d7b9-5c67201c0d51"
      },
      "outputs": [
        {
          "name": "stdout",
          "output_type": "stream",
          "text": [
            "Enter a number\n",
            "56\n",
            "28.0\n",
            "14.0\n",
            "7.0\n",
            "22.0\n",
            "11.0\n",
            "34.0\n",
            "17.0\n",
            "52.0\n",
            "26.0\n",
            "13.0\n",
            "40.0\n",
            "20.0\n",
            "10.0\n",
            "5.0\n",
            "16.0\n",
            "8.0\n",
            "4.0\n",
            "2.0\n",
            "1.0\n"
          ]
        },
        {
          "ename": "SystemExit",
          "evalue": "ignored",
          "output_type": "error",
          "traceback": [
            "An exception has occurred, use %tb to see the full traceback.\n",
            "\u001b[0;31mSystemExit\u001b[0m\n"
          ]
        },
        {
          "name": "stderr",
          "output_type": "stream",
          "text": [
            "/usr/local/lib/python3.7/dist-packages/IPython/core/interactiveshell.py:2890: UserWarning: To exit: use 'exit', 'quit', or Ctrl-D.\n",
            "  warn(\"To exit: use 'exit', 'quit', or Ctrl-D.\", stacklevel=1)\n"
          ]
        }
      ],
      "source": [
        "#Input validation\n",
        "import sys\n",
        "\n",
        "def collatz(number):\n",
        "\n",
        "  if number % 2 == 0:\n",
        "    result = number/2 #Even number\n",
        "  elif number % 2 == 1:\n",
        "    result = 3*number + 1 #Odd number\n",
        "  \n",
        "  while result == 1: #Print the last result when it = 1\n",
        "    print(result)\n",
        "    sys.exit() #To ensure it wont print 1 forever\n",
        "\n",
        "  while result != 1:\n",
        "    print(result) \n",
        "    number = result\n",
        "    return collatz(number)\n",
        "\n",
        "print('Enter a number')\n",
        "try:\n",
        "  number = int(input())\n",
        "  collatz(number)\n",
        "except ValueError:\n",
        "  print('You must enter an integer')"
      ]
    },
    {
      "cell_type": "markdown",
      "metadata": {
        "id": "4MrtoxLvZ1I2"
      },
      "source": [
        "# 4 Lists\n"
      ]
    },
    {
      "cell_type": "markdown",
      "metadata": {
        "id": "Na6dR4YLT4l7"
      },
      "source": [
        "## 4.1 The List Data Type"
      ]
    },
    {
      "cell_type": "markdown",
      "metadata": {
        "id": "iY24JPeMjvuP"
      },
      "source": [
        "### 4.1.1 Getting Individual Values in a List with Indexes"
      ]
    },
    {
      "cell_type": "code",
      "execution_count": null,
      "metadata": {
        "colab": {
          "base_uri": "https://localhost:8080/",
          "height": 35
        },
        "id": "n7xKCLnTjwbb",
        "outputId": "31ffecdf-5524-4165-f6c8-9702b909581a"
      },
      "outputs": [
        {
          "data": {
            "application/vnd.google.colaboratory.intrinsic+json": {
              "type": "string"
            },
            "text/plain": [
              "'cat'"
            ]
          },
          "execution_count": 1,
          "metadata": {
            "tags": []
          },
          "output_type": "execute_result"
        }
      ],
      "source": [
        "spam = ['cat', 'bat', 'rat', 'elephant']\n",
        "spam[0]"
      ]
    },
    {
      "cell_type": "code",
      "execution_count": null,
      "metadata": {
        "colab": {
          "base_uri": "https://localhost:8080/",
          "height": 35
        },
        "id": "ZcPZPzZguJnM",
        "outputId": "13d0c9fa-36c3-49dc-d325-8b51c6833564"
      },
      "outputs": [
        {
          "data": {
            "application/vnd.google.colaboratory.intrinsic+json": {
              "type": "string"
            },
            "text/plain": [
              "'Hello, cat'"
            ]
          },
          "execution_count": 3,
          "metadata": {
            "tags": []
          },
          "output_type": "execute_result"
        }
      ],
      "source": [
        "'Hello, ' + spam[0]"
      ]
    },
    {
      "cell_type": "code",
      "execution_count": null,
      "metadata": {
        "colab": {
          "base_uri": "https://localhost:8080/",
          "height": 35
        },
        "id": "uilvc7YJuQ5V",
        "outputId": "56ebcab0-648c-4666-a840-32bda30139dc"
      },
      "outputs": [
        {
          "data": {
            "application/vnd.google.colaboratory.intrinsic+json": {
              "type": "string"
            },
            "text/plain": [
              "'The bat ate the cat.'"
            ]
          },
          "execution_count": 5,
          "metadata": {
            "tags": []
          },
          "output_type": "execute_result"
        }
      ],
      "source": [
        "'The ' + spam[1] + ' ate the ' + spam[0] + '.'"
      ]
    },
    {
      "cell_type": "code",
      "execution_count": null,
      "metadata": {
        "colab": {
          "base_uri": "https://localhost:8080/"
        },
        "id": "A34ccXbVucuh",
        "outputId": "b9277c66-38cc-42a0-b91f-610c464253e1"
      },
      "outputs": [
        {
          "data": {
            "text/plain": [
              "['cat', 'bat']"
            ]
          },
          "execution_count": 7,
          "metadata": {
            "tags": []
          },
          "output_type": "execute_result"
        }
      ],
      "source": [
        "abc = [['cat', 'bat'], [10, 20, 30, 40, 50]]\n",
        "abc[0] #the first index dictates which list value to use"
      ]
    },
    {
      "cell_type": "code",
      "execution_count": null,
      "metadata": {
        "colab": {
          "base_uri": "https://localhost:8080/",
          "height": 35
        },
        "id": "mM2HMnReuyYk",
        "outputId": "70ec6b43-4e04-4259-bb1d-1f6ce6360b74"
      },
      "outputs": [
        {
          "data": {
            "application/vnd.google.colaboratory.intrinsic+json": {
              "type": "string"
            },
            "text/plain": [
              "'bat'"
            ]
          },
          "execution_count": 9,
          "metadata": {
            "tags": []
          },
          "output_type": "execute_result"
        }
      ],
      "source": [
        "abc[0][1] #the second indicates the value within the list value"
      ]
    },
    {
      "cell_type": "code",
      "execution_count": null,
      "metadata": {
        "colab": {
          "base_uri": "https://localhost:8080/"
        },
        "id": "Su60DtfJu9E5",
        "outputId": "bcd8539a-b8cf-485e-8502-c096840a1d58"
      },
      "outputs": [
        {
          "data": {
            "text/plain": [
              "40"
            ]
          },
          "execution_count": 10,
          "metadata": {
            "tags": []
          },
          "output_type": "execute_result"
        }
      ],
      "source": [
        "abc[1][3]"
      ]
    },
    {
      "cell_type": "code",
      "execution_count": null,
      "metadata": {
        "colab": {
          "base_uri": "https://localhost:8080/",
          "height": 35
        },
        "id": "WNtD5Kk6vQIa",
        "outputId": "11663c28-5f16-4806-8757-994171f66d35"
      },
      "outputs": [
        {
          "data": {
            "application/vnd.google.colaboratory.intrinsic+json": {
              "type": "string"
            },
            "text/plain": [
              "'elephant'"
            ]
          },
          "execution_count": 12,
          "metadata": {
            "tags": []
          },
          "output_type": "execute_result"
        }
      ],
      "source": [
        "xyz = ['cat', 'bat', 'rat', 'elephant']\n",
        "xyz[-1] #Negative indexes count from the right side, start with -1"
      ]
    },
    {
      "cell_type": "code",
      "execution_count": null,
      "metadata": {
        "colab": {
          "base_uri": "https://localhost:8080/",
          "height": 35
        },
        "id": "8sIkO0PAwEn0",
        "outputId": "cb385275-2245-45a6-9342-b4869decf9d8"
      },
      "outputs": [
        {
          "data": {
            "application/vnd.google.colaboratory.intrinsic+json": {
              "type": "string"
            },
            "text/plain": [
              "'The elephant is afraid of the bat.'"
            ]
          },
          "execution_count": 14,
          "metadata": {
            "tags": []
          },
          "output_type": "execute_result"
        }
      ],
      "source": [
        "'The ' + xyz[-1] + ' is afraid of the ' + xyz[-3] + '.'"
      ]
    },
    {
      "cell_type": "markdown",
      "metadata": {
        "id": "RJrUuHpxwaNe"
      },
      "source": [
        "### 4.1.2 Getting a List from Another List with Slices"
      ]
    },
    {
      "cell_type": "code",
      "execution_count": null,
      "metadata": {
        "colab": {
          "base_uri": "https://localhost:8080/"
        },
        "id": "cCLen7npwhqK",
        "outputId": "9d3cf5ec-1413-4bbf-903c-4ffa055e4ced"
      },
      "outputs": [
        {
          "data": {
            "text/plain": [
              "['cat', 'bat', 'rat', 'elephant']"
            ]
          },
          "execution_count": 16,
          "metadata": {
            "tags": []
          },
          "output_type": "execute_result"
        }
      ],
      "source": [
        "mew = ['cat', 'bat', 'rat', 'elephant']\n",
        "mew[0:4] #the first integer "
      ]
    },
    {
      "cell_type": "code",
      "execution_count": null,
      "metadata": {
        "colab": {
          "base_uri": "https://localhost:8080/"
        },
        "id": "QY39VKBP1wG0",
        "outputId": "30abfe5f-75b2-4f3c-ca24-3640981122a7"
      },
      "outputs": [
        {
          "data": {
            "text/plain": [
              "['cat', 'bat']"
            ]
          },
          "execution_count": 17,
          "metadata": {
            "tags": []
          },
          "output_type": "execute_result"
        }
      ],
      "source": [
        "#leave the first index means you begin with 0\n",
        "s = ['cat', 'bat', 'rat', 'elephant']\n",
        "s[:2]"
      ]
    },
    {
      "cell_type": "code",
      "execution_count": null,
      "metadata": {
        "colab": {
          "base_uri": "https://localhost:8080/"
        },
        "id": "32sYyn2Q2DGv",
        "outputId": "c51959e1-9c47-46ce-c9e6-3361068b283c"
      },
      "outputs": [
        {
          "data": {
            "text/plain": [
              "['bat', 'rat', 'elephant']"
            ]
          },
          "execution_count": 18,
          "metadata": {
            "tags": []
          },
          "output_type": "execute_result"
        }
      ],
      "source": [
        "#leave the second index means you slice to the end of the list\n",
        "s[1:]"
      ]
    },
    {
      "cell_type": "code",
      "execution_count": null,
      "metadata": {
        "colab": {
          "base_uri": "https://localhost:8080/"
        },
        "id": "5txMmR_432vx",
        "outputId": "78303fb7-bb7c-47c8-f1bc-a49374da4090"
      },
      "outputs": [
        {
          "data": {
            "text/plain": [
              "['cat', 'bat', 'rat', 'elephant']"
            ]
          },
          "execution_count": 19,
          "metadata": {
            "tags": []
          },
          "output_type": "execute_result"
        }
      ],
      "source": [
        "#you can leave both 2 values\n",
        "s[:]"
      ]
    },
    {
      "cell_type": "markdown",
      "metadata": {
        "id": "MSkpdgRK3_l4"
      },
      "source": [
        "### 4.1.3 Getting the List's Length with the len() function"
      ]
    },
    {
      "cell_type": "code",
      "execution_count": null,
      "metadata": {
        "colab": {
          "base_uri": "https://localhost:8080/"
        },
        "id": "9pHG3b5w4GmY",
        "outputId": "ce415673-a648-45e6-9929-5c7e266af429"
      },
      "outputs": [
        {
          "data": {
            "text/plain": [
              "3"
            ]
          },
          "execution_count": 20,
          "metadata": {
            "tags": []
          },
          "output_type": "execute_result"
        }
      ],
      "source": [
        "a = ['cat', 'dog', 'mouse']\n",
        "len(a)"
      ]
    },
    {
      "cell_type": "markdown",
      "metadata": {
        "id": "XxBRQcgY4cK1"
      },
      "source": [
        "### 4.1.4 Changing Values in a List with Indexes"
      ]
    },
    {
      "cell_type": "code",
      "execution_count": null,
      "metadata": {
        "colab": {
          "base_uri": "https://localhost:8080/"
        },
        "id": "bR3Vdn0h4hqh",
        "outputId": "b16fa4a9-e2d0-44cd-e7a0-0682b289bef3"
      },
      "outputs": [
        {
          "data": {
            "text/plain": [
              "['cat', 'bat', 'allavad', 'elephant']"
            ]
          },
          "execution_count": 21,
          "metadata": {
            "tags": []
          },
          "output_type": "execute_result"
        }
      ],
      "source": [
        "c = ['cat', 'bat', 'rat', 'elephant']\n",
        "c[2] = 'allavad'\n",
        "c"
      ]
    },
    {
      "cell_type": "markdown",
      "metadata": {
        "id": "8x6E0_pw6GgB"
      },
      "source": [
        "### 4.1.5 List Concatenation and List Replication"
      ]
    },
    {
      "cell_type": "code",
      "execution_count": null,
      "metadata": {
        "colab": {
          "base_uri": "https://localhost:8080/"
        },
        "id": "cMW6DQrJ5-SO",
        "outputId": "6110c521-f62d-4b9b-bd69-1763cfe00614"
      },
      "outputs": [
        {
          "data": {
            "text/plain": [
              "[1, 2, 3, 'A', 'B', 'C']"
            ]
          },
          "execution_count": 22,
          "metadata": {
            "tags": []
          },
          "output_type": "execute_result"
        }
      ],
      "source": [
        "[1, 2, 3] + ['A', 'B', 'C']"
      ]
    },
    {
      "cell_type": "code",
      "execution_count": null,
      "metadata": {
        "colab": {
          "base_uri": "https://localhost:8080/"
        },
        "id": "UqZ19qrl6O4K",
        "outputId": "9d03ed01-9020-42c0-e660-d202b334c127"
      },
      "outputs": [
        {
          "data": {
            "text/plain": [
              "['X', 'Y', 'Z', 'X', 'Y', 'Z', 'X', 'Y', 'Z']"
            ]
          },
          "execution_count": 24,
          "metadata": {
            "tags": []
          },
          "output_type": "execute_result"
        }
      ],
      "source": [
        "['X', 'Y', 'Z'] * 3"
      ]
    },
    {
      "cell_type": "code",
      "execution_count": null,
      "metadata": {
        "colab": {
          "base_uri": "https://localhost:8080/"
        },
        "id": "1OfUQ6qS6z2u",
        "outputId": "26e464a6-3388-4fa5-f8af-977beb2aeaf4"
      },
      "outputs": [
        {
          "data": {
            "text/plain": [
              "[1, 2, 3, 'A', 'B', 'C']"
            ]
          },
          "execution_count": 26,
          "metadata": {
            "tags": []
          },
          "output_type": "execute_result"
        }
      ],
      "source": [
        "d = [1, 2, 3]\n",
        "d = d + ['A', 'B', 'C']\n",
        "d"
      ]
    },
    {
      "cell_type": "markdown",
      "metadata": {
        "id": "UwPLMMlv7Ctr"
      },
      "source": [
        "### 4.1.6 Removing Values from Lists with del Statements"
      ]
    },
    {
      "cell_type": "code",
      "execution_count": null,
      "metadata": {
        "colab": {
          "base_uri": "https://localhost:8080/"
        },
        "id": "EZrPP8Du7JEc",
        "outputId": "eda2bd24-c94c-4299-e523-89e965340a8f"
      },
      "outputs": [
        {
          "data": {
            "text/plain": [
              "['cat', 'bat', 'elephant']"
            ]
          },
          "execution_count": 31,
          "metadata": {
            "tags": []
          },
          "output_type": "execute_result"
        }
      ],
      "source": [
        "e = ['cat', 'bat', 'rat', 'elephant']\n",
        "del e[2]\n",
        "e"
      ]
    },
    {
      "cell_type": "code",
      "execution_count": null,
      "metadata": {
        "colab": {
          "base_uri": "https://localhost:8080/"
        },
        "id": "M_fpvFAW7eIF",
        "outputId": "8740b1cc-8863-4fe5-9c65-b05d0946872e"
      },
      "outputs": [
        {
          "data": {
            "text/plain": [
              "['cat', 'bat']"
            ]
          },
          "execution_count": 32,
          "metadata": {
            "tags": []
          },
          "output_type": "execute_result"
        }
      ],
      "source": [
        "del e[2]\n",
        "e"
      ]
    },
    {
      "cell_type": "markdown",
      "metadata": {
        "id": "gbShsbhv8yWt"
      },
      "source": [
        "## 4.2 Working with Lists"
      ]
    },
    {
      "cell_type": "code",
      "execution_count": null,
      "metadata": {
        "colab": {
          "base_uri": "https://localhost:8080/"
        },
        "id": "03Rn7cAP8yEY",
        "outputId": "ef05ebf9-0b8e-4a53-d040-e0519c590d74"
      },
      "outputs": [
        {
          "name": "stdout",
          "output_type": "stream",
          "text": [
            "Enter the name of cat 1:\n",
            "A1\n",
            "Enter the name of cat 2:\n",
            "A2\n",
            "Enter the name of cat 3:\n",
            "A3\n",
            "Enter the name of cat 4:\n",
            "A4\n",
            "Enter the name of cat 5:\n",
            "A5\n",
            "Enter the name of cat 6:\n",
            "A6\n",
            "The cat names are:\n",
            "A1 A2 A3 A4 A5 A6\n"
          ]
        }
      ],
      "source": [
        "print('Enter the name of cat 1:')\n",
        "catName1 = input()\n",
        "print('Enter the name of cat 2:')\n",
        "catName2 = input()\n",
        "print('Enter the name of cat 3:')\n",
        "catName3 = input()\n",
        "print('Enter the name of cat 4:')\n",
        "catName4 = input()\n",
        "print('Enter the name of cat 5:')\n",
        "catName5 = input()\n",
        "print('Enter the name of cat 6:')\n",
        "catName6 = input()\n",
        "print('The cat names are:')\n",
        "print(catName1 + ' ' + catName2 + ' ' + catName3 + ' ' + catName4 + ' ' +\n",
        "catName5 + ' ' + catName6)"
      ]
    },
    {
      "cell_type": "code",
      "execution_count": null,
      "metadata": {
        "colab": {
          "base_uri": "https://localhost:8080/"
        },
        "id": "m05Bs0On9HTL",
        "outputId": "d5f97c0e-32f4-4fbb-a151-8628c0d8d946"
      },
      "outputs": [
        {
          "name": "stdout",
          "output_type": "stream",
          "text": [
            "Enter the name of cat 1 (Or enter nothing to stop.):\n",
            "Miss Cleo\n",
            "Enter the name of cat 2 (Or enter nothing to stop.):\n",
            "Alo\n",
            "Enter the name of cat 3 (Or enter nothing to stop.):\n",
            "Wea\n",
            "Enter the name of cat 4 (Or enter nothing to stop.):\n",
            "Nemo\n",
            "Enter the name of cat 5 (Or enter nothing to stop.):\n",
            "Buzz\n",
            "Enter the name of cat 6 (Or enter nothing to stop.):\n",
            "\n",
            "The cat names are: \n",
            "  Miss Cleo\n",
            "  Alo\n",
            "  Wea\n",
            "  Nemo\n",
            "  Buzz\n"
          ]
        }
      ],
      "source": [
        "#Cat name short version\n",
        "catNames = []\n",
        "while True:\n",
        "  print('Enter the name of cat ' + str(len(catNames) + 1) + ' (Or enter nothing to stop.):')\n",
        "  name = input()\n",
        "  if name == '':\n",
        "    break\n",
        "  catNames = catNames + [name] #list concatenation\n",
        "print('The cat names are: ')\n",
        "for name in catNames:\n",
        "  print('  ' + name)"
      ]
    },
    {
      "cell_type": "markdown",
      "metadata": {
        "id": "1-vTspdYCIav"
      },
      "source": [
        "### 4.2.1 Using for Loops with Lists"
      ]
    },
    {
      "cell_type": "code",
      "execution_count": null,
      "metadata": {
        "colab": {
          "base_uri": "https://localhost:8080/"
        },
        "id": "8JryVn8uCK7w",
        "outputId": "326bca54-edd0-4a44-9e95-1bce04aa146f"
      },
      "outputs": [
        {
          "name": "stdout",
          "output_type": "stream",
          "text": [
            "Index 0 in supplies is: pens\n",
            "Index 1 in supplies is: staplers\n",
            "Index 2 in supplies is: flamethrowers\n",
            "Index 3 in supplies is: binders\n"
          ]
        }
      ],
      "source": [
        "supplies = ['pens', 'staplers', 'flamethrowers', 'binders']\n",
        "for i in range(len(supplies)):\n",
        "  print('Index ' + str(i) + ' in supplies is: ' + supplies[i])"
      ]
    },
    {
      "cell_type": "markdown",
      "metadata": {
        "id": "646JGklwENfO"
      },
      "source": [
        "### 4.2.2 in and not in Operators"
      ]
    },
    {
      "cell_type": "code",
      "execution_count": null,
      "metadata": {
        "colab": {
          "base_uri": "https://localhost:8080/"
        },
        "id": "8T4G9Bn_ERIq",
        "outputId": "a6ee792d-4dd6-48f4-cd23-b04a8f4edd55"
      },
      "outputs": [
        {
          "data": {
            "text/plain": [
              "True"
            ]
          },
          "execution_count": 39,
          "metadata": {
            "tags": []
          },
          "output_type": "execute_result"
        }
      ],
      "source": [
        "'howdy' in ['hello', 'hi', 'howdy', 'heyas']"
      ]
    },
    {
      "cell_type": "code",
      "execution_count": null,
      "metadata": {
        "colab": {
          "base_uri": "https://localhost:8080/"
        },
        "id": "89SXUZn4ESlY",
        "outputId": "d6f7c2d7-33a3-41b2-ce82-2900905d8d17"
      },
      "outputs": [
        {
          "data": {
            "text/plain": [
              "False"
            ]
          },
          "execution_count": 40,
          "metadata": {
            "tags": []
          },
          "output_type": "execute_result"
        }
      ],
      "source": [
        "f = ['hello', 'hi', 'howdy', 'heyas']\n",
        "'cat' in f"
      ]
    },
    {
      "cell_type": "code",
      "execution_count": null,
      "metadata": {
        "colab": {
          "base_uri": "https://localhost:8080/"
        },
        "id": "pZvVSdeAEZ4Z",
        "outputId": "44c02d51-9b68-4432-f878-286288d1dbbe"
      },
      "outputs": [
        {
          "data": {
            "text/plain": [
              "False"
            ]
          },
          "execution_count": 41,
          "metadata": {
            "tags": []
          },
          "output_type": "execute_result"
        }
      ],
      "source": [
        "'howdy' not in f"
      ]
    },
    {
      "cell_type": "code",
      "execution_count": null,
      "metadata": {
        "colab": {
          "base_uri": "https://localhost:8080/"
        },
        "id": "QEXnFDWxEeiX",
        "outputId": "954309bc-65aa-4be8-acaa-57c66bfc3301"
      },
      "outputs": [
        {
          "data": {
            "text/plain": [
              "True"
            ]
          },
          "execution_count": 42,
          "metadata": {
            "tags": []
          },
          "output_type": "execute_result"
        }
      ],
      "source": [
        "'cat' not in f"
      ]
    },
    {
      "cell_type": "code",
      "execution_count": null,
      "metadata": {
        "colab": {
          "base_uri": "https://localhost:8080/"
        },
        "id": "W4QDo0KCEkPD",
        "outputId": "52d39a53-f902-475b-d509-8649b400f714"
      },
      "outputs": [
        {
          "name": "stdout",
          "output_type": "stream",
          "text": [
            "Enter a pet name: \n",
            "Beth\n",
            "I do not have a pet named Beth\n"
          ]
        }
      ],
      "source": [
        "#My Pet\n",
        "myPets = ['Zophie', ' Pooka', 'Fat-tail']\n",
        "print('Enter a pet name: ')\n",
        "name = input()\n",
        "if name not in myPets:\n",
        "  print('I do not have a pet named ' + name)\n",
        "else:\n",
        "  print(name + ' is my pet.')"
      ]
    },
    {
      "cell_type": "markdown",
      "metadata": {
        "id": "_2k7fYCIFSBg"
      },
      "source": [
        "### 4.2.3 The Multiple Assignment Trick"
      ]
    },
    {
      "cell_type": "code",
      "execution_count": null,
      "metadata": {
        "id": "qZpyqiU3FXZO"
      },
      "outputs": [],
      "source": [
        "cat = ['fat', 'gray', 'loud']\n",
        "size, color, disposition = cat"
      ]
    },
    {
      "cell_type": "code",
      "execution_count": null,
      "metadata": {
        "colab": {
          "base_uri": "https://localhost:8080/",
          "height": 35
        },
        "id": "PQAqvgQYFhBO",
        "outputId": "beca1568-5408-4590-94b5-06f704248cca"
      },
      "outputs": [
        {
          "data": {
            "application/vnd.google.colaboratory.intrinsic+json": {
              "type": "string"
            },
            "text/plain": [
              "'fat'"
            ]
          },
          "execution_count": 45,
          "metadata": {
            "tags": []
          },
          "output_type": "execute_result"
        }
      ],
      "source": [
        "size"
      ]
    },
    {
      "cell_type": "markdown",
      "metadata": {
        "id": "XvaMJQfnF3ZM"
      },
      "source": [
        "### 4.2.4 Using the enumerate() Function with Lists"
      ]
    },
    {
      "cell_type": "code",
      "execution_count": null,
      "metadata": {
        "colab": {
          "base_uri": "https://localhost:8080/"
        },
        "id": "ELbSsW5EGH4V",
        "outputId": "7a54e072-be11-4b40-f2b3-8d3f3f21f05b"
      },
      "outputs": [
        {
          "name": "stdout",
          "output_type": "stream",
          "text": [
            "Index 0 in supplies is: pens\n",
            "Index 1 in supplies is: staplers\n",
            "Index 2 in supplies is: flamethrowers\n",
            "Index 3 in supplies is: binders\n"
          ]
        }
      ],
      "source": [
        "for index, item in enumerate(supplies):\n",
        "  print('Index ' + str(index) + ' in supplies is: ' + item)"
      ]
    },
    {
      "cell_type": "markdown",
      "metadata": {
        "id": "DckIUlBoGxlt"
      },
      "source": [
        "### 4.2.5 Using random.choice() and random.shuffle() Functions with Lists"
      ]
    },
    {
      "cell_type": "code",
      "execution_count": null,
      "metadata": {
        "colab": {
          "base_uri": "https://localhost:8080/",
          "height": 35
        },
        "id": "oZq-4OB4G6yx",
        "outputId": "d303af2f-9a88-4088-e530-9ceb7e442d9c"
      },
      "outputs": [
        {
          "data": {
            "application/vnd.google.colaboratory.intrinsic+json": {
              "type": "string"
            },
            "text/plain": [
              "'cat'"
            ]
          },
          "execution_count": 48,
          "metadata": {
            "tags": []
          },
          "output_type": "execute_result"
        }
      ],
      "source": [
        "import random\n",
        "pets = ['cat', 'dog', 'mouse']\n",
        "random.choice(pets)"
      ]
    },
    {
      "cell_type": "code",
      "execution_count": null,
      "metadata": {
        "colab": {
          "base_uri": "https://localhost:8080/"
        },
        "id": "Ov3RgNJ4HNzf",
        "outputId": "8788da2f-d0ae-43d4-bfd2-827e71cb2725"
      },
      "outputs": [
        {
          "data": {
            "text/plain": [
              "['Bob', 'Alice', 'David', 'Carol']"
            ]
          },
          "execution_count": 50,
          "metadata": {
            "tags": []
          },
          "output_type": "execute_result"
        }
      ],
      "source": [
        "people = ['Alice', 'Bob', 'Carol', 'David']\n",
        "random.shuffle(people)\n",
        "people"
      ]
    },
    {
      "cell_type": "markdown",
      "metadata": {
        "id": "cQhj9hGOUonS"
      },
      "source": [
        "## 4.3 Argumented Assignment Operators"
      ]
    },
    {
      "cell_type": "markdown",
      "metadata": {
        "id": "14tXC8KeYWeb"
      },
      "source": [
        "### 4.3.1 Methods"
      ]
    },
    {
      "cell_type": "code",
      "execution_count": null,
      "metadata": {
        "colab": {
          "base_uri": "https://localhost:8080/"
        },
        "id": "Zkgac5UlYYF2",
        "outputId": "09a5dfbe-9d32-41d0-8a6c-0e59bbc33c84"
      },
      "outputs": [
        {
          "data": {
            "text/plain": [
              "0"
            ]
          },
          "execution_count": 1,
          "metadata": {
            "tags": []
          },
          "output_type": "execute_result"
        }
      ],
      "source": [
        "spam = ['hello', 'hi', 'howdy', 'heyas']\n",
        "spam.index('hello')"
      ]
    },
    {
      "cell_type": "code",
      "execution_count": null,
      "metadata": {
        "colab": {
          "base_uri": "https://localhost:8080/"
        },
        "id": "crUrgvOcYyZE",
        "outputId": "e31d1473-d00b-46c2-8b83-e1cbc05b0e6c"
      },
      "outputs": [
        {
          "data": {
            "text/plain": [
              "3"
            ]
          },
          "execution_count": 2,
          "metadata": {
            "tags": []
          },
          "output_type": "execute_result"
        }
      ],
      "source": [
        "spam.index('heyas')"
      ]
    },
    {
      "cell_type": "code",
      "execution_count": null,
      "metadata": {
        "colab": {
          "base_uri": "https://localhost:8080/",
          "height": 164
        },
        "id": "_j7cPbStY3el",
        "outputId": "9b4fbb0a-94e9-4cdb-8bf8-0efc3640ac85"
      },
      "outputs": [
        {
          "ename": "ValueError",
          "evalue": "ignored",
          "output_type": "error",
          "traceback": [
            "\u001b[0;31m---------------------------------------------------------------------------\u001b[0m",
            "\u001b[0;31mValueError\u001b[0m                                Traceback (most recent call last)",
            "\u001b[0;32m<ipython-input-3-aa717b951a7e>\u001b[0m in \u001b[0;36m<module>\u001b[0;34m()\u001b[0m\n\u001b[0;32m----> 1\u001b[0;31m \u001b[0mspam\u001b[0m\u001b[0;34m.\u001b[0m\u001b[0mindex\u001b[0m\u001b[0;34m(\u001b[0m\u001b[0;34m'howdy howdy howdy'\u001b[0m\u001b[0;34m)\u001b[0m\u001b[0;34m\u001b[0m\u001b[0;34m\u001b[0m\u001b[0m\n\u001b[0m",
            "\u001b[0;31mValueError\u001b[0m: 'howdy howdy howdy' is not in list"
          ]
        }
      ],
      "source": [
        "spam.index('howdy howdy howdy')"
      ]
    },
    {
      "cell_type": "code",
      "execution_count": null,
      "metadata": {
        "colab": {
          "base_uri": "https://localhost:8080/"
        },
        "id": "o_mmM_tJY_g3",
        "outputId": "a809032b-288b-4a59-b414-9c4835976f36"
      },
      "outputs": [
        {
          "data": {
            "text/plain": [
              "1"
            ]
          },
          "execution_count": 4,
          "metadata": {
            "tags": []
          },
          "output_type": "execute_result"
        }
      ],
      "source": [
        "spam = ['Zophie', 'Pooka', 'Fat-tail', 'Pooka'] #when there are duplicates of the values in list, the index of its first appearance is returned.\n",
        "spam.index('Pooka')"
      ]
    },
    {
      "cell_type": "code",
      "execution_count": null,
      "metadata": {
        "colab": {
          "base_uri": "https://localhost:8080/"
        },
        "id": "QLi0aKC4ZWdt",
        "outputId": "0fba6249-f177-4cc9-c6a5-3b49506f4be1"
      },
      "outputs": [
        {
          "data": {
            "text/plain": [
              "['cat', 'dog', 'bat', 'mouse']"
            ]
          },
          "execution_count": 5,
          "metadata": {
            "tags": []
          },
          "output_type": "execute_result"
        }
      ],
      "source": [
        "spam = ['cat', 'dog', 'bat']\n",
        "spam.append('mouse') #the append() method call adds the argument to the end of the list\n",
        "spam"
      ]
    },
    {
      "cell_type": "code",
      "execution_count": null,
      "metadata": {
        "colab": {
          "base_uri": "https://localhost:8080/"
        },
        "id": "_XDvWVhwZnaP",
        "outputId": "fcc92c10-7958-4c8d-c943-27ee9ae1ed97"
      },
      "outputs": [
        {
          "data": {
            "text/plain": [
              "['cat', 'chicken', 'dog', 'bat']"
            ]
          },
          "execution_count": 6,
          "metadata": {
            "tags": []
          },
          "output_type": "execute_result"
        }
      ],
      "source": [
        "spam = ['cat', 'dog', 'bat']\n",
        "spam.insert(1, 'chicken') #the insert() method can insert a value at any index in the list\n",
        "spam"
      ]
    },
    {
      "cell_type": "code",
      "execution_count": null,
      "metadata": {
        "colab": {
          "base_uri": "https://localhost:8080/"
        },
        "id": "lGUCnVPYa9E5",
        "outputId": "3a5f7eb8-dcbe-4cdf-c574-3ef5502fa78b"
      },
      "outputs": [
        {
          "data": {
            "text/plain": [
              "['cat', 'rat', 'elephant']"
            ]
          },
          "execution_count": 7,
          "metadata": {
            "tags": []
          },
          "output_type": "execute_result"
        }
      ],
      "source": [
        "spam = ['cat', 'bat', 'rat', 'elephant']\n",
        "spam.remove('bat') #The remove() method is passed the value to be removed from the list it is called on.\n",
        "spam"
      ]
    },
    {
      "cell_type": "code",
      "execution_count": null,
      "metadata": {
        "colab": {
          "base_uri": "https://localhost:8080/"
        },
        "id": "wd_oB8hDbSrk",
        "outputId": "ddc11768-7270-49bd-a202-d96295b3df58"
      },
      "outputs": [
        {
          "data": {
            "text/plain": [
              "['bat', 'rat', 'cat', 'bat', 'rat']"
            ]
          },
          "execution_count": 9,
          "metadata": {
            "tags": []
          },
          "output_type": "execute_result"
        }
      ],
      "source": [
        "spam = ['cat', 'bat', 'rat', 'cat', 'bat', 'rat']\n",
        "spam.remove('cat') #If the value appears multiple times in the list, only the first instance of the value will be removed.\n",
        "spam"
      ]
    },
    {
      "cell_type": "code",
      "execution_count": null,
      "metadata": {
        "colab": {
          "base_uri": "https://localhost:8080/"
        },
        "id": "GrkMvL7ibgSi",
        "outputId": "1dda5da7-f285-4f7b-800d-d4adc800461a"
      },
      "outputs": [
        {
          "data": {
            "text/plain": [
              "[-7, 1, 2, 3.14, 5]"
            ]
          },
          "execution_count": 10,
          "metadata": {
            "tags": []
          },
          "output_type": "execute_result"
        }
      ],
      "source": [
        "spam = [2, 5, 3.14, 1, -7]\n",
        "spam.sort()\n",
        "spam"
      ]
    },
    {
      "cell_type": "code",
      "execution_count": null,
      "metadata": {
        "colab": {
          "base_uri": "https://localhost:8080/"
        },
        "id": "D7V6D4BWcDqU",
        "outputId": "e4e2f839-afd8-48fc-ed03-e6066aecfa3a"
      },
      "outputs": [
        {
          "data": {
            "text/plain": [
              "['ants', 'badgers', 'cats', 'dogs', 'elephants']"
            ]
          },
          "execution_count": 11,
          "metadata": {
            "tags": []
          },
          "output_type": "execute_result"
        }
      ],
      "source": [
        "spam = ['ants', 'cats', 'dogs', 'badgers', 'elephants']\n",
        "spam.sort()\n",
        "spam"
      ]
    },
    {
      "cell_type": "code",
      "execution_count": null,
      "metadata": {
        "colab": {
          "base_uri": "https://localhost:8080/"
        },
        "id": "ep4Nc_xmcSp2",
        "outputId": "ada2d42d-e136-4202-e7e3-564cfcfa01d2"
      },
      "outputs": [
        {
          "data": {
            "text/plain": [
              "['elephants', 'dogs', 'cats', 'badgers', 'ants']"
            ]
          },
          "execution_count": 12,
          "metadata": {
            "tags": []
          },
          "output_type": "execute_result"
        }
      ],
      "source": [
        "spam.sort(reverse = True)\n",
        "spam"
      ]
    },
    {
      "cell_type": "code",
      "execution_count": null,
      "metadata": {
        "colab": {
          "base_uri": "https://localhost:8080/",
          "height": 181
        },
        "id": "dp6okAelcaXz",
        "outputId": "9679672a-e47e-443b-b17c-8a4bcec03176"
      },
      "outputs": [
        {
          "ename": "TypeError",
          "evalue": "ignored",
          "output_type": "error",
          "traceback": [
            "\u001b[0;31m---------------------------------------------------------------------------\u001b[0m",
            "\u001b[0;31mTypeError\u001b[0m                                 Traceback (most recent call last)",
            "\u001b[0;32m<ipython-input-13-c8acbeae1737>\u001b[0m in \u001b[0;36m<module>\u001b[0;34m()\u001b[0m\n\u001b[1;32m      1\u001b[0m \u001b[0mspam\u001b[0m \u001b[0;34m=\u001b[0m \u001b[0;34m[\u001b[0m\u001b[0;36m1\u001b[0m\u001b[0;34m,\u001b[0m \u001b[0;36m3\u001b[0m\u001b[0;34m,\u001b[0m \u001b[0;36m2\u001b[0m\u001b[0;34m,\u001b[0m \u001b[0;36m4\u001b[0m\u001b[0;34m,\u001b[0m \u001b[0;34m'Alice'\u001b[0m\u001b[0;34m,\u001b[0m \u001b[0;34m'Bob'\u001b[0m\u001b[0;34m]\u001b[0m\u001b[0;34m\u001b[0m\u001b[0;34m\u001b[0m\u001b[0m\n\u001b[0;32m----> 2\u001b[0;31m \u001b[0mspam\u001b[0m\u001b[0;34m.\u001b[0m\u001b[0msort\u001b[0m\u001b[0;34m(\u001b[0m\u001b[0;34m)\u001b[0m\u001b[0;34m\u001b[0m\u001b[0;34m\u001b[0m\u001b[0m\n\u001b[0m",
            "\u001b[0;31mTypeError\u001b[0m: '<' not supported between instances of 'str' and 'int'"
          ]
        }
      ],
      "source": [
        "spam = [1, 3, 2, 4, 'Alice', 'Bob']\n",
        "spam.sort()"
      ]
    },
    {
      "cell_type": "code",
      "execution_count": null,
      "metadata": {
        "colab": {
          "base_uri": "https://localhost:8080/"
        },
        "id": "y1RBy-BLdUYm",
        "outputId": "c4d86112-ba81-4c9b-a793-5f57270ce043"
      },
      "outputs": [
        {
          "data": {
            "text/plain": [
              "['Alice', 'Bob', 'Carol', 'ants', 'badgers', 'cats']"
            ]
          },
          "execution_count": 14,
          "metadata": {
            "tags": []
          },
          "output_type": "execute_result"
        }
      ],
      "source": [
        "spam = ['Alice', 'ants', 'Bob', 'badgers', 'Carol', 'cats']\n",
        "spam.sort() #Use 'ASCIIbetical order rather than actual alphabetical order for sorting strings\n",
        "spam"
      ]
    },
    {
      "cell_type": "code",
      "execution_count": null,
      "metadata": {
        "colab": {
          "base_uri": "https://localhost:8080/"
        },
        "id": "bMcDp3UNdmXw",
        "outputId": "7034ae63-277a-42a4-fd21-51ed99940a41"
      },
      "outputs": [
        {
          "data": {
            "text/plain": [
              "['a', 'A', 'z', 'Z']"
            ]
          },
          "execution_count": 15,
          "metadata": {
            "tags": []
          },
          "output_type": "execute_result"
        }
      ],
      "source": [
        "spam = ['a', 'A', 'z', 'Z']\n",
        "spam.sort(key = str.lower) #treat the values in list as they were lowercase without actually changing the values in the list.\n",
        "spam"
      ]
    },
    {
      "cell_type": "code",
      "execution_count": null,
      "metadata": {
        "colab": {
          "base_uri": "https://localhost:8080/"
        },
        "id": "UTuxkrgod_Z8",
        "outputId": "e692d2ab-dff0-41c3-9527-fa87a8c5da72"
      },
      "outputs": [
        {
          "data": {
            "text/plain": [
              "['mouse', 'dog', 'cat']"
            ]
          },
          "execution_count": 16,
          "metadata": {
            "tags": []
          },
          "output_type": "execute_result"
        }
      ],
      "source": [
        "spam = ['cat', 'dog', 'mouse']\n",
        "spam.reverse()\n",
        "spam"
      ]
    },
    {
      "cell_type": "markdown",
      "metadata": {
        "id": "cATxBQ1gfuFv"
      },
      "source": [
        "### 4.3.2 Example Program: Magic 8 Ball with a List"
      ]
    },
    {
      "cell_type": "code",
      "execution_count": null,
      "metadata": {
        "colab": {
          "base_uri": "https://localhost:8080/"
        },
        "id": "BuNC62LRf0au",
        "outputId": "e8d5bbdf-e193-49a4-a465-d3614b280fae"
      },
      "outputs": [
        {
          "name": "stdout",
          "output_type": "stream",
          "text": [
            "It is certain\n"
          ]
        }
      ],
      "source": [
        "import random\n",
        "\n",
        "messages = ['It is certain',\n",
        "            'It is decidedly so',\n",
        "            'Yes definitely',\n",
        "            'Reply hazy try again',\n",
        "            'Ask again later',\n",
        "            'Concentrate and ask again',\n",
        "            'My reply is no',\n",
        "            'Outlook not so good',\n",
        "            'Very doubtful']\n",
        "\n",
        "print(messages[random.randint(0, len(messages) - 1)])"
      ]
    },
    {
      "cell_type": "markdown",
      "metadata": {
        "id": "Yq8HqJ6yhH-U"
      },
      "source": [
        "## 4.4 Sequence Data Types"
      ]
    },
    {
      "cell_type": "code",
      "execution_count": null,
      "metadata": {
        "colab": {
          "base_uri": "https://localhost:8080/",
          "height": 35
        },
        "id": "EEE-jyeUhMAQ",
        "outputId": "a90dce1a-518a-47e1-d589-f84dba73349e"
      },
      "outputs": [
        {
          "data": {
            "application/vnd.google.colaboratory.intrinsic+json": {
              "type": "string"
            },
            "text/plain": [
              "'Z'"
            ]
          },
          "execution_count": 18,
          "metadata": {
            "tags": []
          },
          "output_type": "execute_result"
        }
      ],
      "source": [
        "name = 'Zophie'\n",
        "name[0]"
      ]
    },
    {
      "cell_type": "code",
      "execution_count": null,
      "metadata": {
        "colab": {
          "base_uri": "https://localhost:8080/",
          "height": 35
        },
        "id": "KxYTLOHzhSwW",
        "outputId": "9e5ebe5d-6afc-454b-abb4-9a533714b18f"
      },
      "outputs": [
        {
          "data": {
            "application/vnd.google.colaboratory.intrinsic+json": {
              "type": "string"
            },
            "text/plain": [
              "'i'"
            ]
          },
          "execution_count": 19,
          "metadata": {
            "tags": []
          },
          "output_type": "execute_result"
        }
      ],
      "source": [
        "name[-2]"
      ]
    },
    {
      "cell_type": "code",
      "execution_count": null,
      "metadata": {
        "colab": {
          "base_uri": "https://localhost:8080/",
          "height": 35
        },
        "id": "nX2r3IcahUqc",
        "outputId": "9e8fd32f-ce92-4ae4-fc60-1380d5928bed"
      },
      "outputs": [
        {
          "data": {
            "application/vnd.google.colaboratory.intrinsic+json": {
              "type": "string"
            },
            "text/plain": [
              "'Zoph'"
            ]
          },
          "execution_count": 20,
          "metadata": {
            "tags": []
          },
          "output_type": "execute_result"
        }
      ],
      "source": [
        "name[0:4]"
      ]
    },
    {
      "cell_type": "code",
      "execution_count": null,
      "metadata": {
        "colab": {
          "base_uri": "https://localhost:8080/"
        },
        "id": "d_iGi8FQhXme",
        "outputId": "ed426160-b9f9-42f2-efd2-335642c8e9e7"
      },
      "outputs": [
        {
          "data": {
            "text/plain": [
              "True"
            ]
          },
          "execution_count": 21,
          "metadata": {
            "tags": []
          },
          "output_type": "execute_result"
        }
      ],
      "source": [
        "'Zo' in name"
      ]
    },
    {
      "cell_type": "code",
      "execution_count": null,
      "metadata": {
        "colab": {
          "base_uri": "https://localhost:8080/"
        },
        "id": "BQ_57oj_hZ9m",
        "outputId": "db33adad-bfd9-470d-cb70-002397d85bd6"
      },
      "outputs": [
        {
          "data": {
            "text/plain": [
              "False"
            ]
          },
          "execution_count": 22,
          "metadata": {
            "tags": []
          },
          "output_type": "execute_result"
        }
      ],
      "source": [
        "'z' in name"
      ]
    },
    {
      "cell_type": "code",
      "execution_count": null,
      "metadata": {
        "colab": {
          "base_uri": "https://localhost:8080/"
        },
        "id": "CQq4lwXhhdIs",
        "outputId": "c7485c74-5686-455f-ac17-916548170249"
      },
      "outputs": [
        {
          "name": "stdout",
          "output_type": "stream",
          "text": [
            "* * * Z * * *\n",
            "* * * o * * *\n",
            "* * * p * * *\n",
            "* * * h * * *\n",
            "* * * i * * *\n",
            "* * * e * * *\n"
          ]
        }
      ],
      "source": [
        "for i in name:\n",
        "  print('* * * ' + i + ' * * *')"
      ]
    },
    {
      "cell_type": "code",
      "execution_count": null,
      "metadata": {
        "colab": {
          "base_uri": "https://localhost:8080/",
          "height": 181
        },
        "id": "beJOvJ2MhqmT",
        "outputId": "6f839196-35f0-4cc5-ca06-31cb09e4372c"
      },
      "outputs": [
        {
          "ename": "TypeError",
          "evalue": "ignored",
          "output_type": "error",
          "traceback": [
            "\u001b[0;31m---------------------------------------------------------------------------\u001b[0m",
            "\u001b[0;31mTypeError\u001b[0m                                 Traceback (most recent call last)",
            "\u001b[0;32m<ipython-input-25-7bf0c26e0d6c>\u001b[0m in \u001b[0;36m<module>\u001b[0;34m()\u001b[0m\n\u001b[1;32m      1\u001b[0m \u001b[0mname\u001b[0m \u001b[0;34m=\u001b[0m \u001b[0;34m'Zophie the cat'\u001b[0m\u001b[0;34m\u001b[0m\u001b[0;34m\u001b[0m\u001b[0m\n\u001b[0;32m----> 2\u001b[0;31m \u001b[0mname\u001b[0m\u001b[0;34m[\u001b[0m\u001b[0;36m7\u001b[0m\u001b[0;34m]\u001b[0m \u001b[0;34m=\u001b[0m \u001b[0;34m'the'\u001b[0m\u001b[0;34m\u001b[0m\u001b[0;34m\u001b[0m\u001b[0m\n\u001b[0m",
            "\u001b[0;31mTypeError\u001b[0m: 'str' object does not support item assignment"
          ]
        }
      ],
      "source": [
        "name = 'Zophie the cat'\n",
        "name[7] = 'the'"
      ]
    },
    {
      "cell_type": "code",
      "execution_count": null,
      "metadata": {
        "colab": {
          "base_uri": "https://localhost:8080/",
          "height": 35
        },
        "id": "uE8brS1hh4rO",
        "outputId": "f4bae4b1-e20f-4d41-a6f7-6ef88c789608"
      },
      "outputs": [
        {
          "data": {
            "application/vnd.google.colaboratory.intrinsic+json": {
              "type": "string"
            },
            "text/plain": [
              "'Zophie the cat'"
            ]
          },
          "execution_count": 28,
          "metadata": {
            "tags": []
          },
          "output_type": "execute_result"
        }
      ],
      "source": [
        "name = 'Zophie a cat'\n",
        "newName = name[0:7] + 'the' + name[8:12]\n",
        "newName"
      ]
    },
    {
      "cell_type": "markdown",
      "metadata": {
        "id": "RU30GQXrlys2"
      },
      "source": [
        "### 4.4.1 The Turple Data Type"
      ]
    },
    {
      "cell_type": "code",
      "execution_count": null,
      "metadata": {
        "colab": {
          "base_uri": "https://localhost:8080/",
          "height": 35
        },
        "id": "2pKy-FPml2DB",
        "outputId": "244e5fa4-d094-453f-981e-07eccce7b332"
      },
      "outputs": [
        {
          "data": {
            "application/vnd.google.colaboratory.intrinsic+json": {
              "type": "string"
            },
            "text/plain": [
              "'hello'"
            ]
          },
          "execution_count": 30,
          "metadata": {
            "tags": []
          },
          "output_type": "execute_result"
        }
      ],
      "source": [
        "eggs = ('hello', 42, 0.5)\n",
        "eggs[0]"
      ]
    },
    {
      "cell_type": "code",
      "execution_count": null,
      "metadata": {
        "colab": {
          "base_uri": "https://localhost:8080/"
        },
        "id": "IdrCO33ul_fW",
        "outputId": "69ebef3e-7547-4646-ce12-76374280b3aa"
      },
      "outputs": [
        {
          "data": {
            "text/plain": [
              "(42, 0.5)"
            ]
          },
          "execution_count": 31,
          "metadata": {
            "tags": []
          },
          "output_type": "execute_result"
        }
      ],
      "source": [
        "eggs[1:3]"
      ]
    },
    {
      "cell_type": "code",
      "execution_count": null,
      "metadata": {
        "colab": {
          "base_uri": "https://localhost:8080/"
        },
        "id": "8xtbguDFmCVF",
        "outputId": "b993d032-d58e-47c6-e0c4-cc380e1efc5b"
      },
      "outputs": [
        {
          "data": {
            "text/plain": [
              "3"
            ]
          },
          "execution_count": 32,
          "metadata": {
            "tags": []
          },
          "output_type": "execute_result"
        }
      ],
      "source": [
        "len(eggs)"
      ]
    },
    {
      "cell_type": "code",
      "execution_count": null,
      "metadata": {
        "colab": {
          "base_uri": "https://localhost:8080/",
          "height": 181
        },
        "id": "M0XEkHyxmEHj",
        "outputId": "ae69bb92-5b30-4a7b-c8a2-c1816b0b6e1d"
      },
      "outputs": [
        {
          "ename": "TypeError",
          "evalue": "ignored",
          "output_type": "error",
          "traceback": [
            "\u001b[0;31m---------------------------------------------------------------------------\u001b[0m",
            "\u001b[0;31mTypeError\u001b[0m                                 Traceback (most recent call last)",
            "\u001b[0;32m<ipython-input-33-63fbe7c1f507>\u001b[0m in \u001b[0;36m<module>\u001b[0;34m()\u001b[0m\n\u001b[1;32m      1\u001b[0m \u001b[0meggs\u001b[0m \u001b[0;34m=\u001b[0m \u001b[0;34m(\u001b[0m\u001b[0;34m'hello'\u001b[0m\u001b[0;34m,\u001b[0m \u001b[0;36m42\u001b[0m\u001b[0;34m,\u001b[0m \u001b[0;36m0.5\u001b[0m\u001b[0;34m)\u001b[0m\u001b[0;34m\u001b[0m\u001b[0;34m\u001b[0m\u001b[0m\n\u001b[0;32m----> 2\u001b[0;31m \u001b[0meggs\u001b[0m\u001b[0;34m[\u001b[0m\u001b[0;36m1\u001b[0m\u001b[0;34m]\u001b[0m \u001b[0;34m=\u001b[0m \u001b[0;36m99\u001b[0m\u001b[0;34m\u001b[0m\u001b[0;34m\u001b[0m\u001b[0m\n\u001b[0m",
            "\u001b[0;31mTypeError\u001b[0m: 'tuple' object does not support item assignment"
          ]
        }
      ],
      "source": [
        "eggs = ('hello', 42, 0.5)\n",
        "eggs[1] = 99"
      ]
    },
    {
      "cell_type": "code",
      "execution_count": null,
      "metadata": {
        "colab": {
          "base_uri": "https://localhost:8080/"
        },
        "id": "SzSMAuGamg29",
        "outputId": "f9aead80-a10a-488e-b3ec-f8372c9fa2dd"
      },
      "outputs": [
        {
          "data": {
            "text/plain": [
              "tuple"
            ]
          },
          "execution_count": 35,
          "metadata": {
            "tags": []
          },
          "output_type": "execute_result"
        }
      ],
      "source": [
        "type(('hello',))"
      ]
    },
    {
      "cell_type": "code",
      "execution_count": null,
      "metadata": {
        "colab": {
          "base_uri": "https://localhost:8080/"
        },
        "id": "KQvZls3hmkgm",
        "outputId": "2ff0a036-33d6-4085-a8c9-a400fab72b7b"
      },
      "outputs": [
        {
          "data": {
            "text/plain": [
              "str"
            ]
          },
          "execution_count": 36,
          "metadata": {
            "tags": []
          },
          "output_type": "execute_result"
        }
      ],
      "source": [
        "type(('hello'))"
      ]
    },
    {
      "cell_type": "code",
      "execution_count": null,
      "metadata": {
        "colab": {
          "base_uri": "https://localhost:8080/"
        },
        "id": "DCWKtd44my1s",
        "outputId": "19481790-09cd-46b1-8dbc-6dc301a532c9"
      },
      "outputs": [
        {
          "data": {
            "text/plain": [
              "('cat', 'dog', 5)"
            ]
          },
          "execution_count": 37,
          "metadata": {
            "tags": []
          },
          "output_type": "execute_result"
        }
      ],
      "source": [
        "tuple(['cat', 'dog', 5])"
      ]
    },
    {
      "cell_type": "code",
      "execution_count": null,
      "metadata": {
        "colab": {
          "base_uri": "https://localhost:8080/"
        },
        "id": "a1c_jL04m4Dw",
        "outputId": "26abd61b-1120-4fef-e782-6ea50b4eaf76"
      },
      "outputs": [
        {
          "data": {
            "text/plain": [
              "['cat', 'dog', 5]"
            ]
          },
          "execution_count": 38,
          "metadata": {
            "tags": []
          },
          "output_type": "execute_result"
        }
      ],
      "source": [
        "list(('cat', 'dog', 5))"
      ]
    },
    {
      "cell_type": "code",
      "execution_count": null,
      "metadata": {
        "colab": {
          "base_uri": "https://localhost:8080/"
        },
        "id": "fpPPs9iSm9lE",
        "outputId": "aa236612-0301-488f-d364-5b10c476d7f4"
      },
      "outputs": [
        {
          "data": {
            "text/plain": [
              "['h', 'e', 'l', 'l', 'o']"
            ]
          },
          "execution_count": 39,
          "metadata": {
            "tags": []
          },
          "output_type": "execute_result"
        }
      ],
      "source": [
        "list('hello')"
      ]
    },
    {
      "cell_type": "markdown",
      "metadata": {
        "id": "Tv3DQMQBnhAx"
      },
      "source": [
        "## 4.4.2 References"
      ]
    },
    {
      "cell_type": "code",
      "execution_count": null,
      "metadata": {
        "colab": {
          "base_uri": "https://localhost:8080/"
        },
        "id": "RldrgH4knkgp",
        "outputId": "88591546-287c-474d-8165-8a8fd3da79aa"
      },
      "outputs": [
        {
          "data": {
            "text/plain": [
              "100"
            ]
          },
          "execution_count": 40,
          "metadata": {
            "tags": []
          },
          "output_type": "execute_result"
        }
      ],
      "source": [
        "spam = 42\n",
        "cheese = spam\n",
        "spam = 100\n",
        "spam"
      ]
    },
    {
      "cell_type": "code",
      "execution_count": null,
      "metadata": {
        "colab": {
          "base_uri": "https://localhost:8080/"
        },
        "id": "51fEsiBHnszZ",
        "outputId": "81805be7-3277-4c94-954f-24474aad53e7"
      },
      "outputs": [
        {
          "data": {
            "text/plain": [
              "42"
            ]
          },
          "execution_count": 41,
          "metadata": {
            "tags": []
          },
          "output_type": "execute_result"
        }
      ],
      "source": [
        "cheese"
      ]
    },
    {
      "cell_type": "code",
      "execution_count": null,
      "metadata": {
        "colab": {
          "base_uri": "https://localhost:8080/"
        },
        "id": "rF4FpZYxoPFV",
        "outputId": "3c6175ec-e122-4ce2-bbd5-d345afccbc3e"
      },
      "outputs": [
        {
          "data": {
            "text/plain": [
              "[0, 'Hello!', 2, 3, 4, 5]"
            ]
          },
          "execution_count": 42,
          "metadata": {
            "tags": []
          },
          "output_type": "execute_result"
        }
      ],
      "source": [
        "spam = [0, 1, 2, 3, 4, 5]\n",
        "cheese = spam #The reference is being copied, not the list\n",
        "cheese[1] = 'Hello!' #This changes the list value.\n",
        "spam"
      ]
    },
    {
      "cell_type": "code",
      "execution_count": null,
      "metadata": {
        "colab": {
          "base_uri": "https://localhost:8080/"
        },
        "id": "m1748sLCoiyf",
        "outputId": "21c57396-c2bc-44f9-f0f7-3a0f6caec263"
      },
      "outputs": [
        {
          "data": {
            "text/plain": [
              "[0, 'Hello!', 2, 3, 4, 5]"
            ]
          },
          "execution_count": 43,
          "metadata": {
            "tags": []
          },
          "output_type": "execute_result"
        }
      ],
      "source": [
        "cheese #The cheese variable refers to the same list."
      ]
    },
    {
      "cell_type": "code",
      "execution_count": null,
      "metadata": {
        "colab": {
          "base_uri": "https://localhost:8080/"
        },
        "id": "xdFjsP30sUNL",
        "outputId": "b1b9d761-fb2b-41cf-c3d5-fb8b240f4ff9"
      },
      "outputs": [
        {
          "data": {
            "text/plain": [
              "139994725452912"
            ]
          },
          "execution_count": 44,
          "metadata": {
            "tags": []
          },
          "output_type": "execute_result"
        }
      ],
      "source": [
        "id('Howdy') #The returned number will be different in your machine."
      ]
    },
    {
      "cell_type": "code",
      "execution_count": null,
      "metadata": {
        "colab": {
          "base_uri": "https://localhost:8080/"
        },
        "id": "vq1pGYMZsd3Z",
        "outputId": "4652ef58-d9c3-44fc-c717-dadeb2d3bc39"
      },
      "outputs": [
        {
          "data": {
            "text/plain": [
              "139994725360688"
            ]
          },
          "execution_count": 45,
          "metadata": {
            "tags": []
          },
          "output_type": "execute_result"
        }
      ],
      "source": [
        "bacon = 'Hello'\n",
        "id(bacon)"
      ]
    },
    {
      "cell_type": "code",
      "execution_count": null,
      "metadata": {
        "colab": {
          "base_uri": "https://localhost:8080/"
        },
        "id": "12umLaO_sw8B",
        "outputId": "967b122c-5228-44f3-8e09-1ae9fbdd7269"
      },
      "outputs": [
        {
          "data": {
            "text/plain": [
              "139994726144560"
            ]
          },
          "execution_count": 46,
          "metadata": {
            "tags": []
          },
          "output_type": "execute_result"
        }
      ],
      "source": [
        "bacon += ' world!' #A new string is made from 'Hello' and ' world!'.\n",
        "id(bacon) #bacon now refers to a completely different string."
      ]
    },
    {
      "cell_type": "code",
      "execution_count": null,
      "metadata": {
        "colab": {
          "base_uri": "https://localhost:8080/"
        },
        "id": "MwSEa5GktNUF",
        "outputId": "e313b634-c988-4afb-862c-24832a2f3364"
      },
      "outputs": [
        {
          "data": {
            "text/plain": [
              "139994725708656"
            ]
          },
          "execution_count": 47,
          "metadata": {
            "tags": []
          },
          "output_type": "execute_result"
        }
      ],
      "source": [
        "eggs = ['cat', 'dog'] #This creates a new list.\n",
        "id(eggs)"
      ]
    },
    {
      "cell_type": "code",
      "execution_count": null,
      "metadata": {
        "colab": {
          "base_uri": "https://localhost:8080/"
        },
        "id": "Pr-lYZQMtWI-",
        "outputId": "6ecdf983-c8ee-412d-9d1f-3b67af729c43"
      },
      "outputs": [
        {
          "data": {
            "text/plain": [
              "139994725708656"
            ]
          },
          "execution_count": 48,
          "metadata": {
            "tags": []
          },
          "output_type": "execute_result"
        }
      ],
      "source": [
        "eggs.append('mouse') #append() modifies the list \"in place\".\n",
        "id(eggs) #eggs still refers to the same list as before."
      ]
    },
    {
      "cell_type": "code",
      "execution_count": null,
      "metadata": {
        "colab": {
          "base_uri": "https://localhost:8080/"
        },
        "id": "ringU4RBtokr",
        "outputId": "76975086-c2c6-496c-8998-2951dc8ea9f7"
      },
      "outputs": [
        {
          "data": {
            "text/plain": [
              "139994725735472"
            ]
          },
          "execution_count": 49,
          "metadata": {
            "tags": []
          },
          "output_type": "execute_result"
        }
      ],
      "source": [
        "eggs = ['bat', 'rat', 'cow'] #This creates a new list, which has a new identity.\n",
        "id(eggs) #eggs now refers to a completely different list."
      ]
    },
    {
      "cell_type": "code",
      "execution_count": null,
      "metadata": {
        "colab": {
          "base_uri": "https://localhost:8080/"
        },
        "id": "EEb4DZSpuQU9",
        "outputId": "4329ab7e-578a-47fa-eb21-7e3c988fb8a5"
      },
      "outputs": [
        {
          "name": "stdout",
          "output_type": "stream",
          "text": [
            "[1, 2, 3, 'Hello']\n"
          ]
        }
      ],
      "source": [
        "#Passing References\n",
        "def eggs(someParameter):\n",
        "  someParameter.append('Hello')\n",
        "\n",
        "spam = [1, 2, 3]\n",
        "eggs(spam)\n",
        "print(spam)"
      ]
    },
    {
      "cell_type": "code",
      "execution_count": null,
      "metadata": {
        "colab": {
          "base_uri": "https://localhost:8080/"
        },
        "id": "wOXc5NOIvcyS",
        "outputId": "f2ff9ab4-39be-47d6-b28c-d97b86b0cafd"
      },
      "outputs": [
        {
          "data": {
            "text/plain": [
              "139994725733472"
            ]
          },
          "execution_count": 51,
          "metadata": {
            "tags": []
          },
          "output_type": "execute_result"
        }
      ],
      "source": [
        "#The copy Module's copy() and deepcopy() Functions\n",
        "import copy\n",
        "spam = ['A', 'B', 'C', 'D']\n",
        "id(spam)"
      ]
    },
    {
      "cell_type": "code",
      "execution_count": null,
      "metadata": {
        "colab": {
          "base_uri": "https://localhost:8080/"
        },
        "id": "7TPDYVc-v2rt",
        "outputId": "7b5fc6bc-2e84-47ce-fbb4-5a8167df2b02"
      },
      "outputs": [
        {
          "data": {
            "text/plain": [
              "139994725429328"
            ]
          },
          "execution_count": 52,
          "metadata": {
            "tags": []
          },
          "output_type": "execute_result"
        }
      ],
      "source": [
        "cheese = copy.copy(spam)\n",
        "id(cheese) #cheese is a different list with different identity"
      ]
    },
    {
      "cell_type": "code",
      "execution_count": null,
      "metadata": {
        "colab": {
          "base_uri": "https://localhost:8080/"
        },
        "id": "f7RRn2ZBwCgt",
        "outputId": "daf7a816-b8e0-4b72-8703-addeba5d5137"
      },
      "outputs": [
        {
          "data": {
            "text/plain": [
              "['A', 42, 'C', 'D']"
            ]
          },
          "execution_count": 54,
          "metadata": {
            "tags": []
          },
          "output_type": "execute_result"
        }
      ],
      "source": [
        "cheese[1] = 42\n",
        "cheese"
      ]
    },
    {
      "cell_type": "code",
      "execution_count": null,
      "metadata": {
        "colab": {
          "base_uri": "https://localhost:8080/"
        },
        "id": "f9tjfWnSwHXz",
        "outputId": "c7b28b2b-2ba4-4852-859f-eff98cb63bc6"
      },
      "outputs": [
        {
          "data": {
            "text/plain": [
              "['A', 'B', 'C', 'D']"
            ]
          },
          "execution_count": 55,
          "metadata": {
            "tags": []
          },
          "output_type": "execute_result"
        }
      ],
      "source": [
        "spam"
      ]
    },
    {
      "cell_type": "markdown",
      "metadata": {
        "id": "q3d43bGHjmJN"
      },
      "source": [
        "## 4.5 A Short Program: Conway's Game of Life"
      ]
    },
    {
      "cell_type": "code",
      "execution_count": null,
      "metadata": {
        "id": "l_S8JjpGZ0yo"
      },
      "outputs": [],
      "source": [
        "#Conway's Game of Life\n",
        "import random, time, copy\n",
        "WIDTH = 60\n",
        "HEIGHT = 20"
      ]
    },
    {
      "cell_type": "code",
      "execution_count": null,
      "metadata": {
        "colab": {
          "base_uri": "https://localhost:8080/",
          "height": 1000
        },
        "id": "GxkyNtNyaPPe",
        "outputId": "96b6e19a-2565-4aae-d9de-145b9ed1d511"
      },
      "outputs": [
        {
          "name": "stdout",
          "output_type": "stream",
          "text": [
            "\n",
            "\n",
            "\n",
            "\n",
            "\n",
            "\n",
            " #####  #  ##  #   ## ##### ##### #  ##     #  #  # ### ### \n",
            " #  # # #  ##  ##    ##  # #    #  ### #  #   # #   #  #    \n",
            "    # ###  #### #  # ###  # ### ###  #    ##  #  ####  #  # \n",
            "# # # #     # # # ###  ###### # ##   ####### # ####    # ###\n",
            "# #  #    ####  # ###  #  # # # # ###        #####    #   # \n",
            "# #  #   #  #### #     #### ### #  # ### ###    # #   # #   \n",
            " #  # ###### ## # #  # ###    # ## ### ####  # ##  ###  #  #\n",
            "###   ##  ######      #   ### # ##  ##  # #  #####  # ## #  \n",
            "# #### #   # ## ## # ###  ##   ########  #####  ### ##  ## #\n",
            " ### # ## ##  #### # ##       #  ## #  #   ## #      ##   # \n",
            " # ## # # # #   # #  ### # # ## #     # ### ##   # # ## # ##\n",
            " ##   #  # # ### # ##  #### # #   ###      ### ## # ##    ##\n",
            "   ## ### ##  #   # ### # ##   ## # ##   # # #  ##      ### \n",
            "### # # # #   ### #  ## #   ### ####### #  # ## ##  # #  #  \n",
            " ## ##  ##  #     ###   #### ## ## #   ### #      #  # # #  \n",
            "# ## #### # ## ## # ### ###  #####   #  ### ##    # #### ###\n",
            "     ## ## #####    #   ##    #### # ### #####  ## ## ### ##\n",
            "# ###  #######  #   #  #  ## # ###  ####   ##    ## ### # ##\n",
            "        #  ###     #  ####  ###  ## #  ###   ##   #### #  ##\n",
            "# ## # ##   ####  ## ########## ## #   ##### # #   ### ##   \n",
            "\n",
            "\n",
            "\n",
            "\n",
            "\n",
            "\n",
            "#       ##        ##              #  #      ## ##        #  \n",
            " #    # ###     #  #               #      #  ## #      #  # \n",
            "##  # # #     # # ##          #   ##        ###     # ## ## \n",
            "#   # #   #   # #             #      ##### # #        ####  \n",
            "# # ###   #     #   # #       # # ##         #        # # # \n",
            "# #### #            #     # # # #      #   ###    ### #  #  \n",
            "   #            ##            #    #        ##    ###   ## #\n",
            "                  # #       ###                       ## #  \n",
            "     #   #       #     #  # ###       ####        ###   ## #\n",
            "        # #   #    #    #  ####     #  #      # #  #    #   \n",
            "    # # #   #            # ## #     ## ####    #####   #    \n",
            " #    #      #####          # # # # #   #      #  #######   \n",
            "    # # #  ##     #       #     #     #    #      ###   #   \n",
            "#     #   #  ###  #   # #             #    # #### #  ###    \n",
            "          # #     #        #       #       #  #   #    # #  \n",
            "# ##      #    ####        ##        #       #    #         \n",
            "                 #  # #    ##                   #           \n",
            "#  ####        #   ####   ##                  # #       #   \n",
            "      #        #  ##                #        ##  #        # \n",
            "#    #####     #  #                ###    ## # #            \n",
            "\n",
            "\n",
            "\n",
            "\n",
            "\n",
            "\n",
            "##   #           ###              #  #    #     #          #\n",
            " #   #    #    #    #              ##      #    #     ##  # \n",
            "##    # # #     # ##              ### ######   #     #    # \n",
            "#   # #  #      #  #         ##  #  # ###                   \n",
            "# #    #       #     #        #  #        ## ##    #  #   # \n",
            "# #             ##   #        #  ###       #  #   # #       \n",
            "  ##             # #       ## #            # #    # # #  #  \n",
            "                # #        ##  #       ##            # #    \n",
            "         #        ##           #      ###         ###    ## \n",
            "     # ##               ##     #    #     #     #      ###  \n",
            "     #   #      #         #   #     #### #    #      #      \n",
            "      #    # #####        # #    # ## # # #    #     ## #   \n",
            "      #    ##     #            # #   # #    #   #       #   \n",
            "     # # ##  ##  ###                      ## ###  # ####    \n",
            " #       ##  #    ##       ##                     ##   ##   \n",
            "           #    # ##      #                      #          \n",
            " ##  #         # #  # #                        # #          \n",
            "    ###         #     #   ###                ## ##          \n",
            "        #     ### #  #             ###      ##  #          #\n",
            "     ##  #       #                 # #     #   #           #\n",
            "\n",
            "\n",
            "\n",
            "\n",
            "\n",
            "\n",
            " #  ##          ####              #  #    ##   ##         ##\n",
            "  #  ##  #      #   #                 ###  #   ##     #   # \n",
            "##    ##  #    ######             #   #  ###          #     \n",
            "#    ## ##     ######        ##  #  # #     # #             \n",
            "#  #           # #  #         #### #   #  #####    #        \n",
            "  #             ### #         ## ##        #  #   # #      #\n",
            " ###                       ## ##  #         #       # #     \n",
            "                           #####      # #         #  ## ### \n",
            "        #        ###          ###     # ##         ## ## ## \n",
            "      # ##               #    ##    #    #         ##   ### \n",
            "     # ##     # ##        ##          #####    #     #   #  \n",
            "     ##   ## #####         #    # ##    ##     #     ###    \n",
            "     ###   #       #            # # #### ## ##  #   #   #   \n",
            "      # ##   ##  #                         ##### ## ###     \n",
            "        ## ####     #      #                  #  ##### ##   \n",
            " ##       #     #   #      #                    ##          \n",
            "    ###        # ### #    #                   ## ##         \n",
            "    ###       #       #    #        #       ###  #          \n",
            "    #  #       ##          #       # #      ##  ##          \n",
            "     ##        #   #              ## ##    ##  ##         ##\n",
            "\n",
            "\n",
            "\n",
            "\n",
            "\n",
            "\n",
            "#   #          ######             ####    #   #  #       #  \n",
            "  # #  #            #                ####   #  ##         # \n",
            "##        #          #                # #####  #           #\n",
            "#    ## ##    #      #       ##  # # ### #    #            #\n",
            "##             #    ##             #      #   ##   #       #\n",
            "#               ####               #      #   #     ##      \n",
            " ###             #         #     ##                 # ## ## \n",
            "  #               #        #            ##              # # \n",
            "       ###        #         #   #    #  ##        #   #    #\n",
            "      #  #      #         #   # #    ##            #  ##    \n",
            "     #  # #  ##  #        ##   #   #   #  #          # # ## \n",
            "    #   # #####  ##       ##      ###      #  ###   #####   \n",
            "        ## #     ##               # #### ##     ## ##       \n",
            "     ##  # #  #                      ##   ##   #      # #   \n",
            "       ##  ## ##                            # #        #    \n",
            "     #   ########## ##    ##                  #     #       \n",
            "   ## #        #######    ##                  ##  #         \n",
            "   #   #      #  ##       ##        #       #               \n",
            "    #  #      ###                 ## ##          #          \n",
            "#     #        #   #              ## ##   #  ##           ##\n",
            "\n",
            "\n",
            "\n",
            "\n",
            "\n",
            "\n",
            "## # #         #### #             #      # #  # #        #  \n",
            "   #            ### ##             #    #   #####         # \n",
            " #   #####          ##              #     #######         # \n",
            "         #           ##           # ####     ##           # \n",
            " #             #######             #  #  ##  ###    #       \n",
            "                #####              #          ##   ####   # \n",
            " ###            #  #              #      #          # ######\n",
            " ###    #        ##        ##    #      ##           ## # ##\n",
            "       ###       #         #   #     #####            #     \n",
            "      #   #      #        #     #   ######           # ## # \n",
            "     # ## #   #####      #     #  ## ##        #         #  \n",
            "       ##     # #         ##      #    ### #   ### #   ###  \n",
            "     # ##     #  ##               #    # #    #  # ##   #   \n",
            "      #  # # ###                    #  # ###   ##      #    \n",
            "     # ##        #                         # ###       #    \n",
            "    #######          #    ##                  #             \n",
            "   ####   ###        #   #  #                ###            \n",
            "   # ###      #     #     ##       ###                      \n",
            "      ##      # ###               #   #      #             #\n",
            "#    #             ##            #           ##           ##\n",
            "\n",
            "\n",
            "\n",
            "\n",
            "\n",
            "\n",
            "###            #                  #             #        #  \n",
            "##   # ##      #  #                #     #       #       ###\n",
            "      ####       # #                # ##   #    #        ###\n",
            "      ## #      ###   #             # ## #      #           \n",
            "               #      #           ##  ##           ##       \n",
            "##                   #            ##     ##  # #   #  # # ##\n",
            " # #            #   #             #     ##         #    #   \n",
            " # #   ###      ###        ##         #   #             #  #\n",
            "  #    ###      ##        ###   #   #     #             # ##\n",
            "      #   #    #          #    ##  #     #            ####  \n",
            "        #     #   #      # #     ###      #    #      #   # \n",
            "             ##           #      ##    # ##   ## # ##  # #  \n",
            "         #      ##                 #  ##   #  #  # ##    #  \n",
            "     #   #   ######                      # ###  #      ##   \n",
            "    #         #                            ###  #           \n",
            "   #      #               ##                #               \n",
            "   #      ##        ##   #  #       #        ###            \n",
            "   #       # # # #        ##       ###       #              \n",
            "#   #  #       # ## #             ####       ##           ##\n",
            " #  ##              #            ##         ####          # \n",
            "\n",
            "\n",
            "\n",
            "\n",
            "\n",
            "\n",
            "  # ###                          ###         ####        #  \n",
            "  #      #      # #                #            ##      #   \n",
            "     #   #         #               ## ##  #     ##       #  \n",
            "      #  #      ###                 #                     # \n",
            "#               ##   ##           # #### ##        ##      #\n",
            "###                  #           #     # ##       ##   # # #\n",
            " #      #       #                 ##    #               # # \n",
            " # #   # #     #  #       # #             #            ## ##\n",
            "# #   #   #    #  #       # #  ##        ##               ##\n",
            "               ###       #  #  ##  ##    ##           # #  #\n",
            "             ###         # #       #    # #   ###    ##   # \n",
            "             ### #        #      #    ######  ##   ###  ### \n",
            "                  #               #   ## # #  #  # ##  # #  \n",
            "             ##   #                           ####      #   \n",
            "    #        ## ##                        #                 \n",
            "   ##     ##              ##               #   #            \n",
            "  ###     ###            #  #      ###      ###             \n",
            "   ##     ### #  #####    ##      #         #  #           #\n",
            "#  ###        #  ###             #   #         #          ##\n",
            "  ####          #  #             #  #       #  #         ## \n",
            "\n",
            "\n",
            "\n",
            "\n",
            "\n",
            "\n",
            " ##   #          #               # ##        ##  #      ### \n",
            "   ## #                                       #         ##  \n",
            "        ###     #  #               ###          ##       #  \n",
            "                # #                     ###               ##\n",
            "                # #  ##            ##### ##       ###       \n",
            "  #             ##   ##          #  ## #  #       ###   ##  \n",
            "        #                         #     # #                 \n",
            " #     ###     ###                        #            ##   \n",
            " ##           ##  #      ## ## ##          #            #   \n",
            "#                #       #  #  ##  ##   #  #   #     ### #  \n",
            "             #   #       # #    # ###         # #     # # ##\n",
            "             # ##         #       #   #    # #    ##   ## # \n",
            "               # ##                   #  # # #   # # # #  # \n",
            "             ###  #                       #   #####     #   \n",
            "   ##       #### #                            #             \n",
            "  #  #    #  #            ##        #      ####             \n",
            "  #  #   #   #    ###    #  #      ##      #####            \n",
            "#         # #    #  #     ##      ## #      #  #          ##\n",
            "#          # # ##                ##           ###        #  \n",
            " ##              # #            ## ##        #           #  \n",
            "\n",
            "\n",
            "\n",
            "\n",
            "\n",
            "\n",
            " #   #            #             ## ##        ##           # \n",
            "  ## # # #                        #  #       #####          \n",
            "         #       #                  #    #              ##  \n",
            "         #     ## ##                   ## #      ###      # \n",
            "               ## #  ##            #   #   #      # #    ## \n",
            "                ##   ##           #    #  ##      # #       \n",
            "       ###     #                          ##       #   # #  \n",
            " ##    ###    ####                       ###           ##   \n",
            "###     #     ##  #      ########         ##             #  \n",
            "##            # ###     ##  ###   # #          #     ##  ###\n",
            "              #  #       # #   ## # ##      # ##     #    ##\n",
            "               #  #       #      ##  #    #  ##  ####   # # \n",
            "             #   ##                        # # #   ## ##    \n",
            "            #     #                       #  ######         \n",
            "   ##       #  ##                          ##   ##          \n",
            "  #  #            ##      ##       ##      #                \n",
            " #       #####    ###    #  #     #  #         #           #\n",
            "##        ##### ### #     ##     #         ##             ##\n",
            "#          ##   ###             #            ####        #  \n",
            "# #              ##             #   #        #  #           \n",
            "\n",
            "\n",
            "\n",
            "\n",
            "\n",
            "\n",
            " # ## #          ##             ######      #    #          \n",
            "  # # # #                        ##  #       # ##        #  \n",
            "         ##     ###                     ##    ##         #  \n",
            "               #  ##                   ####      ###    # # \n",
            "                  #####               ## # #        #    ## \n",
            "        #        #   ##                     #     # #   ### \n",
            "       # #    #                             #      #   #    \n",
            "# #              #        ######         #  #          # #  \n",
            "       ###   #    #     ####   #         # #          ## #  \n",
            "  #          ## # #     #           ##     #  ##     ##  #  \n",
            "              #         ## ###### # ##         ## ## ##     \n",
            "              # # #       #     ######     #    # #   ## ###\n",
            "                 ###                      ##        ## #    \n",
            "            ##  # #                       #  #    ##        \n",
            "   ##            ###                      #####   #         \n",
            "  ###     #  #   ## #     ##       ##      ##   #           \n",
            " ##      #    #     #    #  #     ###      ##             ##\n",
            " #       #    ###   #     ##     #          ##  #         # \n",
            "          #    #                ##           ####         # \n",
            "#               #  #           ##  ##       #   #          #\n",
            "\n",
            "\n",
            "\n",
            "\n",
            "\n",
            "\n",
            "#####  #         ##            #     #      ## # #          \n",
            "  # #  # #      #               #    #       # ##           \n",
            "         #      ####                   #  #   ## ##     ### \n",
            "                #    #                #           ##    # # \n",
            "                 #    #               ## # #     #  #      #\n",
            "        #         ##  #                    ##       #   # # \n",
            "        #                  ####            ###     #   #  # \n",
            "       # #                  ####          ###          #    \n",
            " #      #    ##   #     #    # #           ##        # # ## \n",
            "        #    ### #     #     #  #  ###    #   ###   #   #   \n",
            "              #         ######### #   #       # # ###   ##  \n",
            "               #  ##     ###### # #  #    ##   ## #    ## # \n",
            "             # ##  #             ####     ###    ## ## ## # \n",
            "                #                        #   ##   ###       \n",
            "  # #       ##  #                         #   #  ###        \n",
            " #  #            #  #     ##      # #                       \n",
            "##       ##  ## ##  ##   #  #     # #                     ##\n",
            "###      ##   # #         ##    ## #       #    #        ## \n",
            "#             #                # ##           # ##        # \n",
            "#               ###            #     #      # # ##         #\n",
            "\n",
            "\n",
            "\n",
            "\n",
            "\n",
            "\n",
            "# # #   #         #            ##   ###     #    #         #\n",
            "  # #           #  #                  #     ##    #      #  \n",
            "        #      ## #                   #       ## ###    # # \n",
            "                #                     # # #     #  #    # ##\n",
            "                 ##  ##               ##  ###     # #     ##\n",
            "                  #         ##               #     ##    ###\n",
            "       ###                 #   #             #         ###  \n",
            "       # #                 #   #          #            # ## \n",
            "       ###   # #               ##   #       ## #      ## #  \n",
            "               #       #  ##    ## ###     # ## ##  ## #  # \n",
            "             #  # #     #       # #   #   ##  #   # #       \n",
            "               ## ##    #       #   ##    # #  ##    ##   # \n",
            "              ######      ####   ####    #  #####   #####   \n",
            "            ### ##                ##     #  ###      #      \n",
            "   #            ##                           ##  #  #       \n",
            " ###        # ## #  ##    ##                      #        #\n",
            "         ##  ## ##  ##   #  #     # #                    ## \n",
            "  #      ##   # ##        ##    #  #           ###       #  \n",
            "                #              # ##          #           ## \n",
            "  ##            # #           ##            # #   #         \n",
            "\n",
            "\n",
            "\n",
            "\n",
            "\n",
            "\n",
            "  # #             ##          ###    ##    ##    ##         \n",
            " #             ## ##                  ##    ### #  #     ###\n",
            "               ##                    ##      ##### #    # ##\n",
            "               ## #                  ##  ##    ##   #       \n",
            "#                ##                   ## ####     # #       \n",
            "        #        ##         #              # #     ##      #\n",
            "       # #                 #  #                        #   #\n",
            "      #   #                   ##            ###           # \n",
            "       # #    #           ##   # # ###     ### ##    # # #  \n",
            "        #      ##                 ####    ##    ## ### ##   \n",
            "              # # ##   ###     ## #   #   #   #    ##       \n",
            "                         # ##   #   ##   ## #   ## #        \n",
            "                   #       ##    #   #   ##     #   #  #    \n",
            "             ##            ##    #  #           #      #    \n",
            "   #        #     #                         # #             \n",
            "  ##          #   # ##    ##                              # \n",
            " # #     ###      # ##   #  #      #            ##       ## \n",
            "         ##  ##           ##    #  #            #       #   \n",
            "  ##            #             ## ##          #####       ## \n",
            " ###                          #  #   #      #             ##\n",
            "\n",
            "\n",
            "\n",
            "\n",
            "\n",
            "\n",
            "                 ###          ###    # #   #     ##      #  \n",
            "#              ## ##           #       #   #       #     # #\n",
            "#             #   ##                        #    ####      #\n",
            "               #  #                     ##  ##    # #      #\n",
            "                   #                 #####  #       ##      \n",
            "#       #        ##                        #       ##      #\n",
            "       ###                   ###              #           ##\n",
            "      ## ##               ##  ###   #      #  ##      # # # \n",
            "       ###     #              ###    #    #    ###   # # #  \n",
            "        #     # ##      ###    #      #   #  ## #### # ##   \n",
            "                ##      ###    ## #   #        #     #      \n",
            "                  ##     # ##  ##   ###        #####        \n",
            "                             #  ##   #   ###   ##           \n",
            "             #             ##                  #            \n",
            "  ##          #    #      # #                               \n",
            "   ##     ##     ## ##    ##                             ## \n",
            "   #     # # ##     ##   #  #                   ##       ## \n",
            "   #     # #              ##   ### #          #         #   \n",
            " # #                          ## ##          #####       ###\n",
            " #  #                        #   ##  ##    ## ##  #      ###\n",
            "\n",
            "\n",
            "\n",
            "\n",
            "\n",
            "\n",
            "                ## #          ####   # #  ##     ###    ##  \n",
            "#              ##   #         ###     #    ##       #      #\n",
            "              # #                       #  ###   #  #       \n",
            "#                 #                   #  # ###   ##        #\n",
            "#                # #                  ## #####       #     #\n",
            "#      ###        #           #       ###          ###    ##\n",
            "#     #   #                  #  #             ##         ## \n",
            "      #   #                                   #       ### ##\n",
            "      #   #    ##          #         #    ## #      ##   #  \n",
            "       ###       #      # #      #   ##       #   #  # ##   \n",
            "               ##             #  #    ##              #     \n",
            "                 ##     ## ## #     # #   #   #  ##         \n",
            "                          #  # ###  ###   #   #   #         \n",
            "                           ###            #    ##           \n",
            "  ###             ###     # #                               \n",
            "    #     #####   #  #   ## #                            ## \n",
            "  ##     # #       ###   #  #   #                       # # \n",
            "   ##       #             ##  ## #           ##         #  #\n",
            "   ##                         ##   #        #   ##      #  #\n",
            "  #               #          #    #  ##    ##     #     #  #\n"
          ]
        },
        {
          "ename": "KeyboardInterrupt",
          "evalue": "ignored",
          "output_type": "error",
          "traceback": [
            "\u001b[0;31m---------------------------------------------------------------------------\u001b[0m",
            "\u001b[0;31mKeyboardInterrupt\u001b[0m                         Traceback (most recent call last)",
            "\u001b[0;32m<ipython-input-17-5d2717a9c032>\u001b[0m in \u001b[0;36m<module>\u001b[0;34m()\u001b[0m\n\u001b[1;32m     54\u001b[0m         \u001b[0;31m# Everything else dies or stays dead:\u001b[0m\u001b[0;34m\u001b[0m\u001b[0;34m\u001b[0m\u001b[0;34m\u001b[0m\u001b[0m\n\u001b[1;32m     55\u001b[0m         \u001b[0mnextCells\u001b[0m\u001b[0;34m[\u001b[0m\u001b[0mx\u001b[0m\u001b[0;34m]\u001b[0m\u001b[0;34m[\u001b[0m\u001b[0my\u001b[0m\u001b[0;34m]\u001b[0m \u001b[0;34m=\u001b[0m \u001b[0;34m' '\u001b[0m\u001b[0;34m\u001b[0m\u001b[0;34m\u001b[0m\u001b[0m\n\u001b[0;32m---> 56\u001b[0;31m   \u001b[0mtime\u001b[0m\u001b[0;34m.\u001b[0m\u001b[0msleep\u001b[0m\u001b[0;34m(\u001b[0m\u001b[0;36m1\u001b[0m\u001b[0;34m)\u001b[0m \u001b[0;31m# Add a 1-second pause to reduce flickering.\u001b[0m\u001b[0;34m\u001b[0m\u001b[0;34m\u001b[0m\u001b[0m\n\u001b[0m",
            "\u001b[0;31mKeyboardInterrupt\u001b[0m: "
          ]
        }
      ],
      "source": [
        "# Create a list of list for the cells:\n",
        "nextCells = []\n",
        "for x in range(WIDTH):\n",
        "  column = [] # Create a new column.\n",
        "  for y in range(HEIGHT):\n",
        "    if random.randint(0, 1) == 0:\n",
        "      column.append('#') # Add a living cell.\n",
        "    else:\n",
        "      column.append(' ') # Add a dead cell.\n",
        "  nextCells.append(column) # nextCells is a list of column lists.\n",
        "while True: # Main program loop.\n",
        "  print('\\n\\n\\n\\n\\n') # Separate each step with newlines.\n",
        "  currentCells = copy.deepcopy(nextCells)\n",
        "  # Print currentCells on the screen:\n",
        "  for y in range(HEIGHT):\n",
        "    for x in range(WIDTH):\n",
        "      print(currentCells[x][y], end='') # Print the # or space.\n",
        "    print() # Print a newline at the end of the row.\n",
        "  # Calculate the next step's cells based on current step's cells:\n",
        "  for x in range(WIDTH):\n",
        "    for y in range(HEIGHT):\n",
        "      # Get neighboring coordinates:\n",
        "      # `% WIDTH` ensures leftCoord is always between 0 and WIDTH - 1\n",
        "      leftCoord = (x - 1) % WIDTH\n",
        "      rightCoord = (x + 1) % WIDTH\n",
        "      aboveCoord = (y - 1) % HEIGHT\n",
        "      belowCoord = (y + 1) % HEIGHT\n",
        "      # Count number of living neighbors:\n",
        "      numNeighbors = 0\n",
        "      if currentCells[leftCoord][aboveCoord] == '#':\n",
        "        numNeighbors += 1 # Top-left neighbor is alive.\n",
        "      if currentCells[x][aboveCoord] == '#':\n",
        "        numNeighbors += 1 # Top neighbor is alive.\n",
        "      if currentCells[rightCoord][aboveCoord] == '#':\n",
        "        numNeighbors += 1 # Top-right neighbor is alive.\n",
        "      if currentCells[leftCoord][y] == '#':\n",
        "        numNeighbors += 1 # Left neighbor is alive.\n",
        "      if currentCells[rightCoord][y] == '#':\n",
        "        numNeighbors += 1 # Right neighbor is alive.\n",
        "      if currentCells[leftCoord][belowCoord] == '#':\n",
        "        numNeighbors += 1 # Bottom-left neighbor is alive.\n",
        "      if currentCells[x][belowCoord] == '#':\n",
        "        numNeighbors += 1 # Bottom neighbor is alive.\n",
        "      if currentCells[rightCoord][belowCoord] == '#':\n",
        "        numNeighbors += 1 # Bottom-right neighbor is alive.\n",
        "      # Set cell based on Conway's Game of Life rules:\n",
        "      if currentCells[x][y] == '#' and (numNeighbors == 2 or numNeighbors == 3):\n",
        "        # Living cells with 2 or 3 neighbors stay alive:\n",
        "        nextCells[x][y] = '#'\n",
        "      elif currentCells[x][y] == ' ' and numNeighbors == 3:\n",
        "        # Dead cells with 3 neighbors become alive:\n",
        "        nextCells[x][y] = '#'\n",
        "      else:\n",
        "        # Everything else dies or stays dead:\n",
        "        nextCells[x][y] = ' '\n",
        "  time.sleep(1) # Add a 1-second pause to reduce flickering."
      ]
    },
    {
      "cell_type": "markdown",
      "metadata": {
        "id": "Ja5xjrHu5d9N"
      },
      "source": [
        "## 4.6 Practice Questions"
      ]
    },
    {
      "cell_type": "code",
      "execution_count": null,
      "metadata": {
        "colab": {
          "base_uri": "https://localhost:8080/"
        },
        "id": "A2kbKFk05g0c",
        "outputId": "b692825d-a3e6-44c2-d4d5-4b780e08c8c8"
      },
      "outputs": [
        {
          "data": {
            "text/plain": [
              "[2, 4, 'hello', 8, 10]"
            ]
          },
          "execution_count": 56,
          "metadata": {
            "tags": []
          },
          "output_type": "execute_result"
        }
      ],
      "source": [
        "#2\n",
        "spam = [2, 4, 6, 8 , 10]\n",
        "spam[2] = 'hello'\n",
        "spam"
      ]
    },
    {
      "cell_type": "code",
      "execution_count": null,
      "metadata": {
        "colab": {
          "base_uri": "https://localhost:8080/",
          "height": 35
        },
        "id": "hcbwduMl5sGQ",
        "outputId": "832a26bb-2c0e-4282-d281-2a6a29bf8299"
      },
      "outputs": [
        {
          "data": {
            "application/vnd.google.colaboratory.intrinsic+json": {
              "type": "string"
            },
            "text/plain": [
              "'d'"
            ]
          },
          "execution_count": 59,
          "metadata": {
            "tags": []
          },
          "output_type": "execute_result"
        }
      ],
      "source": [
        "spam = ['a', 'b', 'c', 'd']\n",
        "#3\n",
        "spam[int(int('3' * 2) // 11)] #first it doubles the string '3' into '33' and then convert into integer 33"
      ]
    },
    {
      "cell_type": "code",
      "execution_count": null,
      "metadata": {
        "colab": {
          "base_uri": "https://localhost:8080/",
          "height": 35
        },
        "id": "pyPVag1b6bjK",
        "outputId": "33ec7341-2fa9-45e9-aa6f-f699f183d429"
      },
      "outputs": [
        {
          "data": {
            "application/vnd.google.colaboratory.intrinsic+json": {
              "type": "string"
            },
            "text/plain": [
              "'d'"
            ]
          },
          "execution_count": 61,
          "metadata": {
            "tags": []
          },
          "output_type": "execute_result"
        }
      ],
      "source": [
        "#4\n",
        "spam[-1]"
      ]
    },
    {
      "cell_type": "code",
      "execution_count": null,
      "metadata": {
        "colab": {
          "base_uri": "https://localhost:8080/"
        },
        "id": "yzKfczja6fRm",
        "outputId": "3ad2c2b5-92fc-44e2-8b90-1bb5784bf221"
      },
      "outputs": [
        {
          "data": {
            "text/plain": [
              "['a', 'b']"
            ]
          },
          "execution_count": 62,
          "metadata": {
            "tags": []
          },
          "output_type": "execute_result"
        }
      ],
      "source": [
        "#5\n",
        "spam[:2]"
      ]
    },
    {
      "cell_type": "code",
      "execution_count": null,
      "metadata": {
        "colab": {
          "base_uri": "https://localhost:8080/"
        },
        "id": "YBeDg0BS6ixM",
        "outputId": "a3b24333-5409-4b1e-aa55-35859027ddd4"
      },
      "outputs": [
        {
          "data": {
            "text/plain": [
              "1"
            ]
          },
          "execution_count": 66,
          "metadata": {
            "tags": []
          },
          "output_type": "execute_result"
        }
      ],
      "source": [
        "bacon = [3.14, 'cat', 11, 'cat', True]\n",
        "#6\n",
        "bacon.index('cat')"
      ]
    },
    {
      "cell_type": "code",
      "execution_count": null,
      "metadata": {
        "colab": {
          "base_uri": "https://localhost:8080/"
        },
        "id": "ZiktanVF6yEL",
        "outputId": "a39633f9-0253-4cca-d9c7-35e461fe89bf"
      },
      "outputs": [
        {
          "data": {
            "text/plain": [
              "[3.14, 'cat', 11, 'cat', True, 99]"
            ]
          },
          "execution_count": 67,
          "metadata": {
            "tags": []
          },
          "output_type": "execute_result"
        }
      ],
      "source": [
        "#7\n",
        "bacon.append(99)\n",
        "bacon"
      ]
    },
    {
      "cell_type": "code",
      "execution_count": null,
      "metadata": {
        "colab": {
          "base_uri": "https://localhost:8080/"
        },
        "id": "HDBZ4oF36217",
        "outputId": "9975914b-bd90-4b24-e4ee-5841444b0ab6"
      },
      "outputs": [
        {
          "data": {
            "text/plain": [
              "[3.14, 11, 'cat', True, 99]"
            ]
          },
          "execution_count": 68,
          "metadata": {
            "tags": []
          },
          "output_type": "execute_result"
        }
      ],
      "source": [
        "#8\n",
        "bacon.remove('cat')\n",
        "bacon"
      ]
    },
    {
      "cell_type": "code",
      "execution_count": null,
      "metadata": {
        "colab": {
          "base_uri": "https://localhost:8080/"
        },
        "id": "BD9HjE-37jHL",
        "outputId": "bbbf6a65-7bcd-4992-97ef-a3329a759bce"
      },
      "outputs": [
        {
          "data": {
            "text/plain": [
              "tuple"
            ]
          },
          "execution_count": 69,
          "metadata": {
            "tags": []
          },
          "output_type": "execute_result"
        }
      ],
      "source": [
        "#14\n",
        "type((42,))"
      ]
    },
    {
      "cell_type": "markdown",
      "metadata": {
        "id": "nhEnErwD70Sj"
      },
      "source": [
        "## 4.7 Practice Projects"
      ]
    },
    {
      "cell_type": "code",
      "execution_count": null,
      "metadata": {
        "colab": {
          "base_uri": "https://localhost:8080/"
        },
        "id": "hlantp_RnAVm",
        "outputId": "79e5a3ff-532f-4bfa-b5b2-bd37c4b78b1d"
      },
      "outputs": [
        {
          "name": "stdout",
          "output_type": "stream",
          "text": [
            "[]\n"
          ]
        }
      ],
      "source": [
        "a = []\n",
        "print(a)"
      ]
    },
    {
      "cell_type": "code",
      "execution_count": null,
      "metadata": {
        "colab": {
          "base_uri": "https://localhost:8080/"
        },
        "id": "rxa50-wPkJej",
        "outputId": "e9ab0deb-2313-41da-eec4-998541a95c10"
      },
      "outputs": [
        {
          "name": "stdout",
          "output_type": "stream",
          "text": [
            "apples tofu bananas and cats\n"
          ]
        }
      ],
      "source": [
        "#Comma Code\n",
        "\n",
        "def commacode(list):\n",
        "  try:\n",
        "    a = ' '\n",
        "    str_1 = a.join(list[:3])\n",
        "    print(str_1 + ' and ' + list[3])\n",
        "  except list == []:\n",
        "    print('Enter a list!')\n",
        "\n",
        "spam = ['apples', 'tofu', 'bananas', 'cats']\n",
        "commacode(spam)"
      ]
    },
    {
      "cell_type": "code",
      "execution_count": 1,
      "metadata": {
        "id": "kz8XpDmmxPb-"
      },
      "outputs": [
        {
          "ename": "SyntaxError",
          "evalue": "invalid syntax (<ipython-input-1-b99731dff7c8>, line 9)",
          "output_type": "error",
          "traceback": [
            "\u001b[1;36m  File \u001b[1;32m\"<ipython-input-1-b99731dff7c8>\"\u001b[1;36m, line \u001b[1;32m9\u001b[0m\n\u001b[1;33m    a = random.randint(0:1)\u001b[0m\n\u001b[1;37m                        ^\u001b[0m\n\u001b[1;31mSyntaxError\u001b[0m\u001b[1;31m:\u001b[0m invalid syntax\n"
          ]
        }
      ],
      "source": [
        "#Coin Flip Streaks\n",
        "\n",
        "import random\n",
        "numberofStreaks = 0\n",
        "\n",
        "result = []\n",
        "for experimentNumber in range(10000):\n",
        "  #Code that create a list of 100 'heads' and 'tails' values\n",
        "  a = random.randint(0:1)\n",
        "  if a == 0:\n",
        "    result = result.append['H']\n",
        "  else:\n",
        "    result = result.append['T']\n",
        "  \n",
        "\n",
        "  #Code that checks if there is a streak of 6 heads or 6 tails in a row\n",
        "\n",
        "print('Chance of streak: %s%%', % (numberofStreaks / 100))"
      ]
    },
    {
      "cell_type": "code",
      "execution_count": null,
      "metadata": {
        "colab": {
          "base_uri": "https://localhost:8080/",
          "height": 249
        },
        "id": "2QtMiwjZ1INm",
        "outputId": "0f97b6f4-8bd5-4c47-c727-0da8807eea9a"
      },
      "outputs": [
        {
          "name": "stdout",
          "output_type": "stream",
          "text": [
            "<class 'list'>\n"
          ]
        },
        {
          "ename": "IndexError",
          "evalue": "ignored",
          "output_type": "error",
          "traceback": [
            "\u001b[0;31m---------------------------------------------------------------------------\u001b[0m",
            "\u001b[0;31mIndexError\u001b[0m                                Traceback (most recent call last)",
            "\u001b[0;32m<ipython-input-33-fc8b7a741436>\u001b[0m in \u001b[0;36m<module>\u001b[0;34m()\u001b[0m\n\u001b[1;32m      8\u001b[0m     \u001b[0mresult\u001b[0m\u001b[0;34m[\u001b[0m\u001b[0mj\u001b[0m\u001b[0;34m]\u001b[0m \u001b[0;34m=\u001b[0m \u001b[0mreult\u001b[0m\u001b[0;34m[\u001b[0m\u001b[0mi\u001b[0m\u001b[0;34m]\u001b[0m\u001b[0;34m.\u001b[0m\u001b[0mappend\u001b[0m\u001b[0;34m(\u001b[0m\u001b[0;34m\"H\"\u001b[0m\u001b[0;34m)\u001b[0m\u001b[0;34m\u001b[0m\u001b[0;34m\u001b[0m\u001b[0m\n\u001b[1;32m      9\u001b[0m   \u001b[0;32melse\u001b[0m\u001b[0;34m:\u001b[0m\u001b[0;34m\u001b[0m\u001b[0;34m\u001b[0m\u001b[0m\n\u001b[0;32m---> 10\u001b[0;31m     \u001b[0mresult\u001b[0m\u001b[0;34m[\u001b[0m\u001b[0mj\u001b[0m\u001b[0;34m]\u001b[0m \u001b[0;34m=\u001b[0m \u001b[0mresult\u001b[0m\u001b[0;34m[\u001b[0m\u001b[0mi\u001b[0m\u001b[0;34m]\u001b[0m\u001b[0;34m.\u001b[0m\u001b[0mappend\u001b[0m\u001b[0;34m(\u001b[0m\u001b[0;34m\"T\"\u001b[0m\u001b[0;34m)\u001b[0m\u001b[0;34m\u001b[0m\u001b[0;34m\u001b[0m\u001b[0m\n\u001b[0m\u001b[1;32m     11\u001b[0m \u001b[0;34m\u001b[0m\u001b[0m\n\u001b[1;32m     12\u001b[0m \u001b[0mprint\u001b[0m\u001b[0;34m(\u001b[0m\u001b[0mresult\u001b[0m\u001b[0;34m)\u001b[0m\u001b[0;34m\u001b[0m\u001b[0;34m\u001b[0m\u001b[0m\n",
            "\u001b[0;31mIndexError\u001b[0m: list index out of range"
          ]
        }
      ],
      "source": [
        "import random\n",
        "result = []\n",
        "for i in range(100):\n",
        "  if \n",
        "  a = random.randint(0, 1)\n",
        "  if a == 0:\n",
        "    result[j] = reult[i].append(\"H\")\n",
        "  else:\n",
        "    result[j] = result[i].append(\"T\")\n",
        "\n",
        "print(result)"
      ]
    },
    {
      "cell_type": "markdown",
      "metadata": {
        "id": "UgJJgDcLcrhV"
      },
      "source": [
        "# 5 Dictionaries & Structuring Data"
      ]
    },
    {
      "cell_type": "markdown",
      "metadata": {
        "id": "iJq6hijsKkXE"
      },
      "source": [
        "## 5.1 Dictionary Data Type"
      ]
    },
    {
      "cell_type": "markdown",
      "metadata": {
        "id": "dlIWkOk0-ZYv"
      },
      "source": [
        "### 5.1.1 Dictionaries vs List"
      ]
    },
    {
      "cell_type": "code",
      "execution_count": null,
      "metadata": {
        "colab": {
          "base_uri": "https://localhost:8080/"
        },
        "id": "ISoBxw8O-imR",
        "outputId": "a35aec72-74b2-41d3-cfd9-d99cf8944c70"
      },
      "outputs": [
        {
          "data": {
            "text/plain": [
              "False"
            ]
          },
          "execution_count": 34,
          "metadata": {
            "tags": []
          },
          "output_type": "execute_result"
        }
      ],
      "source": [
        "#Lists can compare by its order\n",
        "spam = ['cat', 'dog', 'mouse']\n",
        "bacon = ['mouse', 'cat', 'dog']\n",
        "spam == bacon"
      ]
    },
    {
      "cell_type": "code",
      "execution_count": null,
      "metadata": {
        "colab": {
          "base_uri": "https://localhost:8080/"
        },
        "id": "iiGecCR9-4wr",
        "outputId": "0e3e5b11-ac15-4204-ab62-0903122bc33a"
      },
      "outputs": [
        {
          "data": {
            "text/plain": [
              "True"
            ]
          },
          "execution_count": 35,
          "metadata": {
            "tags": []
          },
          "output_type": "execute_result"
        }
      ],
      "source": [
        "#Dictionaries doesnt have order\n",
        "eggs = {'name': 'Zophie', 'species': 'cat', 'age' : 8}\n",
        "ham = {'species': 'cat', 'name': 'Zophie', 'age': 8}\n",
        "eggs == ham"
      ]
    },
    {
      "cell_type": "code",
      "execution_count": null,
      "metadata": {
        "colab": {
          "base_uri": "https://localhost:8080/",
          "height": 198
        },
        "id": "AtrYr4A3_fPy",
        "outputId": "d824ad28-bae8-48ea-8b41-237cf3bafda4"
      },
      "outputs": [
        {
          "ename": "KeyError",
          "evalue": "ignored",
          "output_type": "error",
          "traceback": [
            "\u001b[0;31m---------------------------------------------------------------------------\u001b[0m",
            "\u001b[0;31mKeyError\u001b[0m                                  Traceback (most recent call last)",
            "\u001b[0;32m<ipython-input-36-9de522a6e8e4>\u001b[0m in \u001b[0;36m<module>\u001b[0;34m()\u001b[0m\n\u001b[1;32m      1\u001b[0m \u001b[0;31m#Key to call need to be in dictionaries\u001b[0m\u001b[0;34m\u001b[0m\u001b[0;34m\u001b[0m\u001b[0;34m\u001b[0m\u001b[0m\n\u001b[1;32m      2\u001b[0m \u001b[0mspam\u001b[0m \u001b[0;34m=\u001b[0m \u001b[0;34m{\u001b[0m\u001b[0;34m'name'\u001b[0m\u001b[0;34m:\u001b[0m \u001b[0;34m'Zophie'\u001b[0m\u001b[0;34m,\u001b[0m \u001b[0;34m'age'\u001b[0m\u001b[0;34m:\u001b[0m \u001b[0;36m7\u001b[0m\u001b[0;34m}\u001b[0m\u001b[0;34m\u001b[0m\u001b[0;34m\u001b[0m\u001b[0m\n\u001b[0;32m----> 3\u001b[0;31m \u001b[0mspam\u001b[0m\u001b[0;34m[\u001b[0m\u001b[0;34m'color'\u001b[0m\u001b[0;34m]\u001b[0m\u001b[0;34m\u001b[0m\u001b[0;34m\u001b[0m\u001b[0m\n\u001b[0m",
            "\u001b[0;31mKeyError\u001b[0m: 'color'"
          ]
        }
      ],
      "source": [
        "#Key to call need to be in dictionaries\n",
        "spam = {'name': 'Zophie', 'age': 7}\n",
        "spam['color']"
      ]
    },
    {
      "cell_type": "code",
      "execution_count": null,
      "metadata": {
        "colab": {
          "base_uri": "https://localhost:8080/"
        },
        "id": "iqzbKWDB__2E",
        "outputId": "1315f9d4-1694-4c45-d86a-da1bd82a51d2"
      },
      "outputs": [
        {
          "name": "stdout",
          "output_type": "stream",
          "text": [
            "Enter a name: (blank to quit)\n",
            "Alice\n",
            "Apr 1 is the birthday of Alice\n",
            "Enter a name: (blank to quit)\n",
            "Tom\n",
            "I do not have birthday information for Tom\n",
            "What is their birthday?\n",
            "Sep 9\n",
            "Birthday database updated.\n",
            "Enter a name: (blank to quit)\n",
            "Tom\n",
            "Sep 9 is the birthday of Tom\n",
            "Enter a name: (blank to quit)\n",
            " \n",
            "I do not have birthday information for  \n",
            "What is their birthday?\n",
            "\n",
            "Birthday database updated.\n",
            "Enter a name: (blank to quit)\n",
            "\n"
          ]
        }
      ],
      "source": [
        "#Birthday\n",
        "birthdays = {'Alice': 'Apr 1', 'Bob': 'Dec 12', 'Carol': 'Mar 4'}\n",
        "\n",
        "while True:\n",
        "  print('Enter a name: (blank to quit)')\n",
        "  name = input()\n",
        "  if name == '':\n",
        "    break\n",
        "\n",
        "  if name in birthdays:\n",
        "    print(birthdays[name] + ' is the birthday of ' + name)\n",
        "  else:\n",
        "    print('I do not have birthday information for ' + name)\n",
        "    print('What is their birthday?')\n",
        "    bday = input()\n",
        "    birthdays[name] = bday\n",
        "    print('Birthday database updated.')"
      ]
    },
    {
      "cell_type": "markdown",
      "metadata": {
        "id": "FEoZNR0AC6iu"
      },
      "source": [
        "### 5.1.2 The values(), keys() and items() methods"
      ]
    },
    {
      "cell_type": "code",
      "execution_count": null,
      "metadata": {
        "colab": {
          "base_uri": "https://localhost:8080/"
        },
        "id": "wvqz0XXGDBCb",
        "outputId": "f2b553c1-9e60-4fa8-e811-a69a60fd7541"
      },
      "outputs": [
        {
          "name": "stdout",
          "output_type": "stream",
          "text": [
            "red\n",
            "42\n"
          ]
        }
      ],
      "source": [
        "spam = {'color': 'red', 'age': '42'}\n",
        "for v in spam.values():\n",
        "  print(v)"
      ]
    },
    {
      "cell_type": "code",
      "execution_count": null,
      "metadata": {
        "colab": {
          "base_uri": "https://localhost:8080/"
        },
        "id": "SjAwV69SDN4L",
        "outputId": "786a9621-9202-45a9-bb30-f54421b06d5b"
      },
      "outputs": [
        {
          "name": "stdout",
          "output_type": "stream",
          "text": [
            "color\n",
            "age\n"
          ]
        }
      ],
      "source": [
        "for k in spam.keys():\n",
        "  print(k)"
      ]
    },
    {
      "cell_type": "code",
      "execution_count": null,
      "metadata": {
        "colab": {
          "base_uri": "https://localhost:8080/"
        },
        "id": "MThFuNIMDSNx",
        "outputId": "56472682-cda9-4f52-879e-e391c4337387"
      },
      "outputs": [
        {
          "name": "stdout",
          "output_type": "stream",
          "text": [
            "('color', 'red')\n",
            "('age', '42')\n"
          ]
        }
      ],
      "source": [
        "for i in spam.items():\n",
        "  print(i)"
      ]
    },
    {
      "cell_type": "code",
      "execution_count": null,
      "metadata": {
        "colab": {
          "base_uri": "https://localhost:8080/"
        },
        "id": "r1s49SikDeb-",
        "outputId": "c304ba3a-f41a-4fb4-83be-e5719ad796e8"
      },
      "outputs": [
        {
          "data": {
            "text/plain": [
              "['color', 'age']"
            ]
          },
          "execution_count": 49,
          "metadata": {
            "tags": []
          },
          "output_type": "execute_result"
        }
      ],
      "source": [
        "#To have a list of key, you must use the list() function to call the dict_key\n",
        "spam = {'color': 'red', 'age': '42'}\n",
        "dic = spam.keys() #in book, author use list(spam.keys()) to return list of keys, but it doesnt work on Python >= 3.5, so use this syntax\n",
        "[*dic]"
      ]
    },
    {
      "cell_type": "code",
      "execution_count": null,
      "metadata": {
        "colab": {
          "base_uri": "https://localhost:8080/"
        },
        "id": "0iXmxxS9D2Ll",
        "outputId": "93da7d96-0c5b-4e10-9336-87fba019b87e"
      },
      "outputs": [
        {
          "name": "stdout",
          "output_type": "stream",
          "text": [
            "Key : color Value: red\n",
            "Key : age Value: 42\n"
          ]
        }
      ],
      "source": [
        "spam = {'color': 'red', 'age': 42}\n",
        "for k , v in spam.items():\n",
        "  print('Key : ' + k + ' Value: ' + str(v))"
      ]
    },
    {
      "cell_type": "markdown",
      "metadata": {
        "id": "KhTQeOlXGkn-"
      },
      "source": [
        "### 5.1.3 Checking whether a Key or Value exist in a Dictionary"
      ]
    },
    {
      "cell_type": "code",
      "execution_count": null,
      "metadata": {
        "colab": {
          "base_uri": "https://localhost:8080/"
        },
        "id": "ymYMP_m-GrPD",
        "outputId": "dfdc3160-7271-450f-a65d-3fb36d7dcd1f"
      },
      "outputs": [
        {
          "data": {
            "text/plain": [
              "True"
            ]
          },
          "execution_count": 52,
          "metadata": {
            "tags": []
          },
          "output_type": "execute_result"
        }
      ],
      "source": [
        "spam = {'name': 'Zophie', 'age': 7}\n",
        "'name' in spam.keys()"
      ]
    },
    {
      "cell_type": "code",
      "execution_count": null,
      "metadata": {
        "colab": {
          "base_uri": "https://localhost:8080/"
        },
        "id": "XIRFmSgAG08U",
        "outputId": "bf46528e-f6d3-4da4-d4c9-722597e470a3"
      },
      "outputs": [
        {
          "data": {
            "text/plain": [
              "True"
            ]
          },
          "execution_count": 53,
          "metadata": {
            "tags": []
          },
          "output_type": "execute_result"
        }
      ],
      "source": [
        "'Zophie' in spam.values()"
      ]
    },
    {
      "cell_type": "code",
      "execution_count": null,
      "metadata": {
        "colab": {
          "base_uri": "https://localhost:8080/"
        },
        "id": "xNzftbE_G5RU",
        "outputId": "adf1b958-8fea-4536-c50d-b73756a5a0be"
      },
      "outputs": [
        {
          "data": {
            "text/plain": [
              "False"
            ]
          },
          "execution_count": 54,
          "metadata": {
            "tags": []
          },
          "output_type": "execute_result"
        }
      ],
      "source": [
        "'color' in spam.keys()"
      ]
    },
    {
      "cell_type": "code",
      "execution_count": null,
      "metadata": {
        "colab": {
          "base_uri": "https://localhost:8080/"
        },
        "id": "oKGLM1wVG8gL",
        "outputId": "dcef4c3b-a863-4d67-861a-f4454558476a"
      },
      "outputs": [
        {
          "data": {
            "text/plain": [
              "True"
            ]
          },
          "execution_count": 55,
          "metadata": {
            "tags": []
          },
          "output_type": "execute_result"
        }
      ],
      "source": [
        "'color' not in spam.keys()"
      ]
    },
    {
      "cell_type": "code",
      "execution_count": null,
      "metadata": {
        "colab": {
          "base_uri": "https://localhost:8080/"
        },
        "id": "kLp0QE1-G_wg",
        "outputId": "2e9e2b3d-b9db-4407-b0a0-d6b8ed239c0a"
      },
      "outputs": [
        {
          "data": {
            "text/plain": [
              "False"
            ]
          },
          "execution_count": 56,
          "metadata": {
            "tags": []
          },
          "output_type": "execute_result"
        }
      ],
      "source": [
        "'color' in spam"
      ]
    },
    {
      "cell_type": "markdown",
      "metadata": {
        "id": "a8qJfigDHGxt"
      },
      "source": [
        "### 5.1.4 The get() method"
      ]
    },
    {
      "cell_type": "code",
      "execution_count": null,
      "metadata": {
        "colab": {
          "base_uri": "https://localhost:8080/",
          "height": 35
        },
        "id": "DH9taVEIHJgy",
        "outputId": "78362115-069f-4434-de13-f2d36e433f28"
      },
      "outputs": [
        {
          "data": {
            "application/vnd.google.colaboratory.intrinsic+json": {
              "type": "string"
            },
            "text/plain": [
              "'I am bringing 2 cups.'"
            ]
          },
          "execution_count": 57,
          "metadata": {
            "tags": []
          },
          "output_type": "execute_result"
        }
      ],
      "source": [
        "picnicItems = {'apple': 5, 'cups': 2}\n",
        "'I am bringing ' + str(picnicItems.get('cups', 0)) + ' cups.'"
      ]
    },
    {
      "cell_type": "code",
      "execution_count": null,
      "metadata": {
        "colab": {
          "base_uri": "https://localhost:8080/",
          "height": 35
        },
        "id": "d5Zldpy-HhgH",
        "outputId": "a37cc1b4-b3fe-49da-e746-8ae22e5f21a9"
      },
      "outputs": [
        {
          "data": {
            "application/vnd.google.colaboratory.intrinsic+json": {
              "type": "string"
            },
            "text/plain": [
              "'I am bringing 0 eggs.'"
            ]
          },
          "execution_count": 58,
          "metadata": {
            "tags": []
          },
          "output_type": "execute_result"
        }
      ],
      "source": [
        "'I am bringing ' + str(picnicItems.get('eggs', 0)) + ' eggs.'"
      ]
    },
    {
      "cell_type": "code",
      "execution_count": null,
      "metadata": {
        "colab": {
          "base_uri": "https://localhost:8080/",
          "height": 181
        },
        "id": "uhe09UFjHs8m",
        "outputId": "f800864d-6c8e-4c73-b0d0-67374a548800"
      },
      "outputs": [
        {
          "ename": "KeyError",
          "evalue": "ignored",
          "output_type": "error",
          "traceback": [
            "\u001b[0;31m---------------------------------------------------------------------------\u001b[0m",
            "\u001b[0;31mKeyError\u001b[0m                                  Traceback (most recent call last)",
            "\u001b[0;32m<ipython-input-59-d294c50074bc>\u001b[0m in \u001b[0;36m<module>\u001b[0;34m()\u001b[0m\n\u001b[1;32m      1\u001b[0m \u001b[0mpicnicItems\u001b[0m \u001b[0;34m=\u001b[0m \u001b[0;34m{\u001b[0m\u001b[0;34m'apple'\u001b[0m\u001b[0;34m:\u001b[0m \u001b[0;36m5\u001b[0m\u001b[0;34m,\u001b[0m \u001b[0;34m'cups'\u001b[0m\u001b[0;34m:\u001b[0m \u001b[0;36m2\u001b[0m\u001b[0;34m}\u001b[0m\u001b[0;34m\u001b[0m\u001b[0;34m\u001b[0m\u001b[0m\n\u001b[0;32m----> 2\u001b[0;31m \u001b[0;34m'I am bringing '\u001b[0m \u001b[0;34m+\u001b[0m \u001b[0mstr\u001b[0m\u001b[0;34m(\u001b[0m\u001b[0mpicnicItems\u001b[0m\u001b[0;34m[\u001b[0m\u001b[0;34m'eggs'\u001b[0m\u001b[0;34m]\u001b[0m\u001b[0;34m)\u001b[0m \u001b[0;34m+\u001b[0m \u001b[0;34m' eggs.'\u001b[0m\u001b[0;34m\u001b[0m\u001b[0;34m\u001b[0m\u001b[0m\n\u001b[0m",
            "\u001b[0;31mKeyError\u001b[0m: 'eggs'"
          ]
        }
      ],
      "source": [
        "picnicItems = {'apple': 5, 'cups': 2}\n",
        "'I am bringing ' + str(picnicItems['eggs']) + ' eggs.'"
      ]
    },
    {
      "cell_type": "markdown",
      "metadata": {
        "id": "Iq8Er2P4H5pB"
      },
      "source": [
        "### 5.1.5 The setdefault() method"
      ]
    },
    {
      "cell_type": "code",
      "execution_count": null,
      "metadata": {
        "colab": {
          "base_uri": "https://localhost:8080/",
          "height": 35
        },
        "id": "SLHbYqN9H9iL",
        "outputId": "cd819a86-c785-4714-fcc7-213dd4d1460b"
      },
      "outputs": [
        {
          "data": {
            "application/vnd.google.colaboratory.intrinsic+json": {
              "type": "string"
            },
            "text/plain": [
              "'black'"
            ]
          },
          "execution_count": 60,
          "metadata": {
            "tags": []
          },
          "output_type": "execute_result"
        }
      ],
      "source": [
        "spam = {'name': 'Pooka', 'age': 5}\n",
        "spam.setdefault('color', 'black')"
      ]
    },
    {
      "cell_type": "code",
      "execution_count": null,
      "metadata": {
        "colab": {
          "base_uri": "https://localhost:8080/"
        },
        "id": "2q1J14OeITop",
        "outputId": "34438391-8433-422a-bb88-633658f36a41"
      },
      "outputs": [
        {
          "data": {
            "text/plain": [
              "{'age': 5, 'color': 'black', 'name': 'Pooka'}"
            ]
          },
          "execution_count": 61,
          "metadata": {
            "tags": []
          },
          "output_type": "execute_result"
        }
      ],
      "source": [
        "spam"
      ]
    },
    {
      "cell_type": "code",
      "execution_count": null,
      "metadata": {
        "colab": {
          "base_uri": "https://localhost:8080/",
          "height": 35
        },
        "id": "4_m9JOysIZ4S",
        "outputId": "597f9d5b-2cc0-4891-abb9-65fa14d82d5f"
      },
      "outputs": [
        {
          "data": {
            "application/vnd.google.colaboratory.intrinsic+json": {
              "type": "string"
            },
            "text/plain": [
              "'black'"
            ]
          },
          "execution_count": 64,
          "metadata": {
            "tags": []
          },
          "output_type": "execute_result"
        }
      ],
      "source": [
        "spam.setdefault('color', 'white')"
      ]
    },
    {
      "cell_type": "code",
      "execution_count": null,
      "metadata": {
        "colab": {
          "base_uri": "https://localhost:8080/"
        },
        "id": "DEL2z5x_IiHi",
        "outputId": "95b38c61-90bd-46e2-ae18-d54ff9613ee3"
      },
      "outputs": [
        {
          "data": {
            "text/plain": [
              "{'age': 5, 'color': 'black', 'name': 'Pooka'}"
            ]
          },
          "execution_count": 65,
          "metadata": {
            "tags": []
          },
          "output_type": "execute_result"
        }
      ],
      "source": [
        "spam"
      ]
    },
    {
      "cell_type": "code",
      "execution_count": null,
      "metadata": {
        "colab": {
          "base_uri": "https://localhost:8080/"
        },
        "id": "z_u2UYJqIsSC",
        "outputId": "3fee64e8-0592-440a-e633-1a2621cecbc4"
      },
      "outputs": [
        {
          "name": "stdout",
          "output_type": "stream",
          "text": [
            "{'I': 1, 't': 6, ' ': 13, 'w': 2, 'a': 4, 's': 3, 'b': 1, 'r': 5, 'i': 6, 'g': 2, 'h': 3, 'c': 3, 'o': 2, 'l': 3, 'd': 3, 'y': 1, 'n': 4, 'A': 1, 'p': 1, ',': 1, 'e': 5, 'k': 2}\n"
          ]
        }
      ],
      "source": [
        "#Character count\n",
        "message = 'It was a bright cold day in April, and the clocks were striking thirteen'\n",
        "count = {}\n",
        "\n",
        "for character in message:\n",
        "  count.setdefault(character, 0)\n",
        "  count[character] = count[character] + 1\n",
        "\n",
        "print(count)"
      ]
    },
    {
      "cell_type": "markdown",
      "metadata": {
        "id": "REjLDgcMJpv-"
      },
      "source": [
        "## 5.2 Pretty Printing"
      ]
    },
    {
      "cell_type": "code",
      "execution_count": null,
      "metadata": {
        "colab": {
          "base_uri": "https://localhost:8080/"
        },
        "id": "ZIsihopnJsgc",
        "outputId": "17786511-a959-4338-c1b0-234242adc241"
      },
      "outputs": [
        {
          "name": "stdout",
          "output_type": "stream",
          "text": [
            "{' ': 13,\n",
            " ',': 1,\n",
            " 'A': 1,\n",
            " 'I': 1,\n",
            " 'a': 4,\n",
            " 'b': 1,\n",
            " 'c': 3,\n",
            " 'd': 3,\n",
            " 'e': 5,\n",
            " 'g': 2,\n",
            " 'h': 3,\n",
            " 'i': 6,\n",
            " 'k': 2,\n",
            " 'l': 3,\n",
            " 'n': 4,\n",
            " 'o': 2,\n",
            " 'p': 1,\n",
            " 'r': 5,\n",
            " 's': 3,\n",
            " 't': 6,\n",
            " 'w': 2,\n",
            " 'y': 1}\n"
          ]
        }
      ],
      "source": [
        "import pprint\n",
        "message = 'It was a bright cold day in April, and the clocks were striking thirteen'\n",
        "count = {}\n",
        "\n",
        "for character in message:\n",
        "  count.setdefault(character, 0)\n",
        "  count[character] = count[character] + 1\n",
        "\n",
        "pprint.pprint(count)"
      ]
    },
    {
      "cell_type": "code",
      "execution_count": null,
      "metadata": {
        "colab": {
          "base_uri": "https://localhost:8080/"
        },
        "id": "-B6LyExEKRrA",
        "outputId": "85fea4fe-5185-4d7c-9e58-2b760d06ef45"
      },
      "outputs": [
        {
          "name": "stdout",
          "output_type": "stream",
          "text": [
            "{' ': 13,\n",
            " ',': 1,\n",
            " 'A': 1,\n",
            " 'I': 1,\n",
            " 'a': 4,\n",
            " 'b': 1,\n",
            " 'c': 3,\n",
            " 'd': 3,\n",
            " 'e': 5,\n",
            " 'g': 2,\n",
            " 'h': 3,\n",
            " 'i': 6,\n",
            " 'k': 2,\n",
            " 'l': 3,\n",
            " 'n': 4,\n",
            " 'o': 2,\n",
            " 'p': 1,\n",
            " 'r': 5,\n",
            " 's': 3,\n",
            " 't': 6,\n",
            " 'w': 2,\n",
            " 'y': 1}\n"
          ]
        }
      ],
      "source": [
        "print(pprint.pformat(count))"
      ]
    },
    {
      "cell_type": "markdown",
      "metadata": {
        "id": "lmUFM6aX-fiW"
      },
      "source": [
        "## 5.3 Using Data Sructures to Model Real-World Things"
      ]
    },
    {
      "cell_type": "markdown",
      "metadata": {
        "id": "dVY0wSznLJ3G"
      },
      "source": [
        "### 5.3.1 A Tic-Tac-Toe Board"
      ]
    },
    {
      "cell_type": "code",
      "execution_count": null,
      "metadata": {
        "id": "m2CxFiwNPjw4"
      },
      "outputs": [],
      "source": [
        "theBoard = {'top-L': 'O', 'top-M': 'O', 'top-R': 'O',\n",
        "            'mid-L': 'X', 'mid-M': 'X', 'mid-R': ' ',\n",
        "            'low-L': ' ', 'low-M': ' ', 'low-R': 'X'}"
      ]
    },
    {
      "cell_type": "code",
      "execution_count": null,
      "metadata": {
        "colab": {
          "base_uri": "https://localhost:8080/"
        },
        "id": "p_RyPW7cQfZZ",
        "outputId": "47fb6282-df00-4078-be8d-ccbf18a26f4c"
      },
      "outputs": [
        {
          "name": "stdout",
          "output_type": "stream",
          "text": [
            "O|O|O\n",
            "-+-+-\n",
            "X|X| \n",
            "-+-+-\n",
            " | |X\n"
          ]
        }
      ],
      "source": [
        "#print the board\n",
        "def printBoard(board):\n",
        "  print(board['top-L'] + '|' + board['top-M'] + '|' + board['top-R'])\n",
        "  print('-+-+-')\n",
        "  print(board['mid-L'] + '|' + board['mid-M'] + '|' + board['mid-R'])\n",
        "  print('-+-+-')\n",
        "  print(board['low-L'] + '|' + board['low-M'] + '|' + board['low-R'])\n",
        "printBoard(theBoard)"
      ]
    },
    {
      "cell_type": "markdown",
      "metadata": {
        "id": "2auN9SdMRLCq"
      },
      "source": [
        "### 5.3.2 The Game"
      ]
    },
    {
      "cell_type": "code",
      "execution_count": null,
      "metadata": {
        "colab": {
          "base_uri": "https://localhost:8080/"
        },
        "id": "qgcHbg2Xcq3x",
        "outputId": "61e6bd0d-ec31-4e5b-9ee3-3c58adc31972"
      },
      "outputs": [
        {
          "name": "stdout",
          "output_type": "stream",
          "text": [
            " | | \n",
            "-+-+-\n",
            " | | \n",
            "-+-+-\n",
            " | | \n",
            "Turn for X. Move on which space?\n",
            "mid-M\n",
            " | | \n",
            "-+-+-\n",
            " |X| \n",
            "-+-+-\n",
            " | | \n",
            "Turn for O. Move on which space?\n",
            "top-M\n",
            " |O| \n",
            "-+-+-\n",
            " |X| \n",
            "-+-+-\n",
            " | | \n",
            "Turn for X. Move on which space?\n",
            "top-R\n",
            " |O|X\n",
            "-+-+-\n",
            " |X| \n",
            "-+-+-\n",
            " | | \n",
            "Turn for O. Move on which space?\n",
            "low-R\n",
            " |O|X\n",
            "-+-+-\n",
            " |X| \n",
            "-+-+-\n",
            " | |O\n",
            "Turn for X. Move on which space?\n",
            "low-L\n",
            " |O|X\n",
            "-+-+-\n",
            " |X| \n",
            "-+-+-\n",
            "X| |O\n",
            "Turn for O. Move on which space?\n",
            "low-M\n",
            " |O|X\n",
            "-+-+-\n",
            " |X| \n",
            "-+-+-\n",
            "X|O|O\n",
            "Turn for X. Move on which space?\n",
            "mid-L\n",
            " |O|X\n",
            "-+-+-\n",
            "X|X| \n",
            "-+-+-\n",
            "X|O|O\n",
            "Turn for O. Move on which space?\n",
            "mid-R\n",
            " |O|X\n",
            "-+-+-\n",
            "X|X|O\n",
            "-+-+-\n",
            "X|O|O\n",
            "Turn for X. Move on which space?\n",
            "top-L\n",
            "X|O|X\n",
            "-+-+-\n",
            "X|X|O\n",
            "-+-+-\n",
            "X|O|O\n"
          ]
        }
      ],
      "source": [
        "theBoard = {'top-L': ' ', 'top-M': ' ', 'top-R': ' ', 'mid-L': ' ', 'mid-M': ' ', 'mid-R': ' ', 'low-L': ' ', 'low-M': ' ', 'low-R': ' '}\n",
        "def printBoard(board):\n",
        "    print(board['top-L'] + '|' + board['top-M'] + '|' + board['top-R'])\n",
        "    print('-+-+-')\n",
        "    print(board['mid-L'] + '|' + board['mid-M'] + '|' + board['mid-R'])\n",
        "    print('-+-+-')\n",
        "    print(board['low-L'] + '|' + board['low-M'] + '|' + board['low-R'])\n",
        "turn = 'X'\n",
        "for i in range(9):\n",
        "  printBoard(theBoard)\n",
        "  print('Turn for ' + turn + '. Move on which space?')\n",
        "  move = input()\n",
        "  theBoard[move] = turn\n",
        "  if turn == 'X':\n",
        "    turn = 'O'\n",
        "  else:\n",
        "    turn = 'X'\n",
        "printBoard(theBoard)\n",
        "#It isnt a complete tic-tac-toe game - for instance, it doesnt ever check whether a player has won - but it's enough to see how data structures can be used in programs."
      ]
    },
    {
      "cell_type": "markdown",
      "metadata": {
        "id": "FOMrjS_qRmG4"
      },
      "source": [
        "### 5.3.3 Nested Dictionaries and Lists"
      ]
    },
    {
      "cell_type": "code",
      "execution_count": null,
      "metadata": {
        "colab": {
          "base_uri": "https://localhost:8080/"
        },
        "id": "CEb63ZXeRpRN",
        "outputId": "6038a80d-114c-4de2-f8c0-abb4c458bb64"
      },
      "outputs": [
        {
          "name": "stdout",
          "output_type": "stream",
          "text": [
            "Number of things being brought:\n",
            " - Apples           7\n",
            " - Cups             3\n",
            " - Cakes            0\n",
            " - Hams Sandwiches  3\n",
            " - Apples  Pies     1\n"
          ]
        }
      ],
      "source": [
        "allGuests = {'Alice': {'apples': 5, 'pretzels': 12},\n",
        "             'Bob': {'ham sandwiches': 3, 'apples': 2},\n",
        "             'Carol': {'cups': 3, 'apple pies': 1}}\n",
        "def totalBrought(guests, item):\n",
        "  numBrought = 0\n",
        "  for k, v in guests.items():\n",
        "    numBrought = numBrought + v.get(item, 0)\n",
        "  return numBrought\n",
        "\n",
        "print('Number of things being brought:')\n",
        "print(' - Apples           ' + str(totalBrought(allGuests, 'apples')))\n",
        "print(' - Cups             ' + str(totalBrought(allGuests, 'cups')))\n",
        "print(' - Cakes            ' + str(totalBrought(allGuests, 'cakes')))\n",
        "print(' - Hams Sandwiches  ' + str(totalBrought(allGuests, 'ham sandwiches')))\n",
        "print(' - Apples  Pies     ' + str(totalBrought(allGuests, 'apple pies')))"
      ]
    },
    {
      "cell_type": "markdown",
      "metadata": {
        "id": "Q77CBRE4VUo_"
      },
      "source": [
        "# 6 Manipulating Strings"
      ]
    },
    {
      "cell_type": "markdown",
      "metadata": {
        "id": "ZRhkQBcuVtGL"
      },
      "source": [
        "## 6.1 Working with Strings"
      ]
    },
    {
      "cell_type": "markdown",
      "metadata": {
        "id": "kK1WmZ_KV6VY"
      },
      "source": [
        "### 6.1.1 String Literals"
      ]
    },
    {
      "cell_type": "code",
      "execution_count": null,
      "metadata": {
        "colab": {
          "base_uri": "https://localhost:8080/"
        },
        "id": "cwkqfYq_WAWf",
        "outputId": "d8e730e2-8cba-40db-b6b4-72112ddc1563"
      },
      "outputs": [
        {
          "name": "stdout",
          "output_type": "stream",
          "text": [
            "That is Alice's cat.\n"
          ]
        }
      ],
      "source": [
        "#Double Quotes\n",
        "spam = \"That is Alice's cat.\" #When you use double quotes, Python knows that the single quote is part of the string.\n",
        "print(spam)"
      ]
    },
    {
      "cell_type": "code",
      "execution_count": null,
      "metadata": {
        "colab": {
          "base_uri": "https://localhost:8080/"
        },
        "id": "EIYop_TMWm2t",
        "outputId": "44a75cdd-d2d3-4eb8-92cf-f8ddfb29ff19"
      },
      "outputs": [
        {
          "name": "stdout",
          "output_type": "stream",
          "text": [
            "Say hi to Bob's mother\n"
          ]
        }
      ],
      "source": [
        "#Escape Characters\n",
        "spam = 'Say hi to Bob\\'s mother'\n",
        "print(spam)"
      ]
    },
    {
      "cell_type": "code",
      "execution_count": null,
      "metadata": {
        "colab": {
          "base_uri": "https://localhost:8080/"
        },
        "id": "enbLIp9yXgp2",
        "outputId": "6ee331c3-ff0b-4c37-ff2d-2531fc417c46"
      },
      "outputs": [
        {
          "name": "stdout",
          "output_type": "stream",
          "text": [
            "Hello there!\n",
            "How are you?\n",
            "I'm doing fine.\n"
          ]
        }
      ],
      "source": [
        "print(\"Hello there!\\nHow are you?\\nI\\'m doing fine.\")"
      ]
    },
    {
      "cell_type": "code",
      "execution_count": null,
      "metadata": {
        "colab": {
          "base_uri": "https://localhost:8080/"
        },
        "id": "1oXJArKWXs7M",
        "outputId": "97740833-6492-4983-8ac5-b6b3ab5c664b"
      },
      "outputs": [
        {
          "name": "stdout",
          "output_type": "stream",
          "text": [
            "That is Carol\\'s cat.\n"
          ]
        }
      ],
      "source": [
        "#Raw strings: completely ignores all escape characters and prints any backslash that appears in the string\n",
        "print(r'That is Carol\\'s cat.')"
      ]
    },
    {
      "cell_type": "code",
      "execution_count": null,
      "metadata": {
        "colab": {
          "base_uri": "https://localhost:8080/"
        },
        "id": "rWeklS_vYfHF",
        "outputId": "81c26a7a-2478-4e95-dfd1-7882e6933cc1"
      },
      "outputs": [
        {
          "name": "stdout",
          "output_type": "stream",
          "text": [
            "Dear Alice,\n",
            "\n",
            "Eve's cat has been arrested for catnapping, cat burglary, and extortion.\n",
            "\n",
            "Sincerely,\n",
            "Bob.\n"
          ]
        }
      ],
      "source": [
        "#Multiline Strings with Triple Quotes\n",
        "print('''Dear Alice,\n",
        "\n",
        "Eve's cat has been arrested for catnapping, cat burglary, and extortion.\n",
        "\n",
        "Sincerely,\n",
        "Bob.''')"
      ]
    },
    {
      "cell_type": "code",
      "execution_count": null,
      "metadata": {
        "colab": {
          "base_uri": "https://localhost:8080/"
        },
        "id": "40Bi0-zyZEvA",
        "outputId": "72b20dfb-a00f-4db8-9944-9777b928a0fd"
      },
      "outputs": [
        {
          "name": "stdout",
          "output_type": "stream",
          "text": [
            "Dear Alice,\n",
            "\n",
            "Eve's cat has been arrested for catnapping, cat burglary and extortion.\n",
            "\n",
            "Sincerely,\n",
            "Bob.\n"
          ]
        }
      ],
      "source": [
        "print('Dear Alice,\\n\\nEve\\'s cat has been arrested for catnapping, cat burglary and extortion.\\n\\nSincerely,\\nBob.')"
      ]
    },
    {
      "cell_type": "code",
      "execution_count": null,
      "metadata": {
        "id": "9Un89qpDZafS"
      },
      "outputs": [],
      "source": [
        "#Multiline Comments\n",
        "\"\"\"This is a test Python program.\n",
        "Written by Al Swegart al@inventwithpython.com\n",
        "\n",
        "This program was designed for Python 3, not Python 2.\n",
        "\"\"\"\n",
        "\n",
        "def spam():\n",
        "  \"\"\"This is a multiline comment to help\n",
        "  explain what the spam() function does.\"\"\"\n",
        "  print('Hello!')"
      ]
    },
    {
      "cell_type": "markdown",
      "metadata": {
        "id": "K2CgaC6maCOJ"
      },
      "source": [
        "### 6.1.2 Indexing and Slicing Strings"
      ]
    },
    {
      "cell_type": "code",
      "execution_count": null,
      "metadata": {
        "colab": {
          "base_uri": "https://localhost:8080/",
          "height": 35
        },
        "id": "PEzWPDSbaFvB",
        "outputId": "a46c3816-0cfb-47ca-9c7b-f07329aebd8f"
      },
      "outputs": [
        {
          "data": {
            "application/vnd.google.colaboratory.intrinsic+json": {
              "type": "string"
            },
            "text/plain": [
              "'world!'"
            ]
          },
          "execution_count": 16,
          "metadata": {
            "tags": []
          },
          "output_type": "execute_result"
        }
      ],
      "source": [
        "spam = 'Hello, world!'\n",
        "spam[7:]"
      ]
    },
    {
      "cell_type": "markdown",
      "metadata": {
        "id": "zkF1Lou2au4x"
      },
      "source": [
        "### 6.1.3 The in and not in Operators with Strings"
      ]
    },
    {
      "cell_type": "code",
      "execution_count": null,
      "metadata": {
        "colab": {
          "base_uri": "https://localhost:8080/"
        },
        "id": "3gAdmQiLazxe",
        "outputId": "3bcaca66-3fd4-4171-ed52-0900e1ac31b1"
      },
      "outputs": [
        {
          "data": {
            "text/plain": [
              "True"
            ]
          },
          "execution_count": 17,
          "metadata": {
            "tags": []
          },
          "output_type": "execute_result"
        }
      ],
      "source": [
        "'Hello' in 'Hello, World'"
      ]
    },
    {
      "cell_type": "code",
      "execution_count": null,
      "metadata": {
        "colab": {
          "base_uri": "https://localhost:8080/"
        },
        "id": "0FbqPCvTa4Pf",
        "outputId": "f4c3937b-6b22-4402-80f4-51545dabaca3"
      },
      "outputs": [
        {
          "data": {
            "text/plain": [
              "True"
            ]
          },
          "execution_count": 18,
          "metadata": {
            "tags": []
          },
          "output_type": "execute_result"
        }
      ],
      "source": [
        "'Hello' in 'Hello'"
      ]
    },
    {
      "cell_type": "code",
      "execution_count": null,
      "metadata": {
        "colab": {
          "base_uri": "https://localhost:8080/"
        },
        "id": "eo_CeSika60Q",
        "outputId": "f1a41db3-0b87-41e0-84d8-edf8792a0d89"
      },
      "outputs": [
        {
          "data": {
            "text/plain": [
              "False"
            ]
          },
          "execution_count": 19,
          "metadata": {
            "tags": []
          },
          "output_type": "execute_result"
        }
      ],
      "source": [
        "'HELLO' in 'Hello, World'"
      ]
    },
    {
      "cell_type": "code",
      "execution_count": null,
      "metadata": {
        "colab": {
          "base_uri": "https://localhost:8080/"
        },
        "id": "iwAvaGwJa-m6",
        "outputId": "bc41b4fa-159c-41dd-c461-049d3048e870"
      },
      "outputs": [
        {
          "data": {
            "text/plain": [
              "True"
            ]
          },
          "execution_count": 20,
          "metadata": {
            "tags": []
          },
          "output_type": "execute_result"
        }
      ],
      "source": [
        "'' in spam"
      ]
    },
    {
      "cell_type": "code",
      "execution_count": null,
      "metadata": {
        "colab": {
          "base_uri": "https://localhost:8080/"
        },
        "id": "bDJs7yVfbBpm",
        "outputId": "24780708-55e1-42dd-d066-3709dbe33fac"
      },
      "outputs": [
        {
          "data": {
            "text/plain": [
              "False"
            ]
          },
          "execution_count": 21,
          "metadata": {
            "tags": []
          },
          "output_type": "execute_result"
        }
      ],
      "source": [
        "'cats' not in 'cats and dogs'"
      ]
    },
    {
      "cell_type": "markdown",
      "metadata": {
        "id": "-KgH7FIpbIQ5"
      },
      "source": [
        "## 6.2 Putting Strings Inside Other Strings"
      ]
    },
    {
      "cell_type": "code",
      "execution_count": null,
      "metadata": {
        "colab": {
          "base_uri": "https://localhost:8080/",
          "height": 35
        },
        "id": "87q5GTD6bMc2",
        "outputId": "3f985e28-4d5a-4822-ce96-c31b43cb7bb7"
      },
      "outputs": [
        {
          "data": {
            "application/vnd.google.colaboratory.intrinsic+json": {
              "type": "string"
            },
            "text/plain": [
              "'Hello, my name is Al. I am 4000 years old.'"
            ]
          },
          "execution_count": 22,
          "metadata": {
            "tags": []
          },
          "output_type": "execute_result"
        }
      ],
      "source": [
        "name = 'Al'\n",
        "age = 4000\n",
        "'Hello, my name is ' + name + '. I am ' + str(age) + ' years old.'"
      ]
    },
    {
      "cell_type": "code",
      "execution_count": null,
      "metadata": {
        "colab": {
          "base_uri": "https://localhost:8080/",
          "height": 35
        },
        "id": "W75YagtbbgQy",
        "outputId": "6810295f-1f32-4b4e-c7f8-c867ad0fd29b"
      },
      "outputs": [
        {
          "data": {
            "application/vnd.google.colaboratory.intrinsic+json": {
              "type": "string"
            },
            "text/plain": [
              "'Hello, my name is Al. I am 4000 years old'"
            ]
          },
          "execution_count": 23,
          "metadata": {
            "tags": []
          },
          "output_type": "execute_result"
        }
      ],
      "source": [
        "#using string interpolation to concatenate the string\n",
        "name = 'Al'\n",
        "age = 4000\n",
        "'Hello, my name is %s. I am %s years old' % (name, age)"
      ]
    },
    {
      "cell_type": "code",
      "execution_count": null,
      "metadata": {
        "colab": {
          "base_uri": "https://localhost:8080/",
          "height": 35
        },
        "id": "hhAJp-n_b4fZ",
        "outputId": "6ed98c1c-99e7-434f-d752-53b2ec88a7c2"
      },
      "outputs": [
        {
          "data": {
            "application/vnd.google.colaboratory.intrinsic+json": {
              "type": "string"
            },
            "text/plain": [
              "'My name is Al. Next year I will be 4001.'"
            ]
          },
          "execution_count": 24,
          "metadata": {
            "tags": []
          },
          "output_type": "execute_result"
        }
      ],
      "source": [
        "#f-string using {}\n",
        "name = 'Al'\n",
        "age = 4000\n",
        "f'My name is {name}. Next year I will be {age + 1}.'"
      ]
    },
    {
      "cell_type": "markdown",
      "metadata": {
        "id": "oKbBS6fucf5E"
      },
      "source": [
        "## 6.3 Useful String Methods"
      ]
    },
    {
      "cell_type": "markdown",
      "metadata": {
        "id": "AjroRRK8clto"
      },
      "source": [
        "### 6.3.1 The upper(), lower(), isupper() and islower() Methods"
      ]
    },
    {
      "cell_type": "code",
      "execution_count": null,
      "metadata": {
        "colab": {
          "base_uri": "https://localhost:8080/",
          "height": 35
        },
        "id": "k-yxw-boci6S",
        "outputId": "810e9731-0a5e-4d6a-b324-2b593cc579d1"
      },
      "outputs": [
        {
          "data": {
            "application/vnd.google.colaboratory.intrinsic+json": {
              "type": "string"
            },
            "text/plain": [
              "'HELLO, WORLD!'"
            ]
          },
          "execution_count": 25,
          "metadata": {
            "tags": []
          },
          "output_type": "execute_result"
        }
      ],
      "source": [
        "#Using upper() and lower() to return a new string where all the letters converted to uppercase or lowercase\n",
        "spam = 'Hello, World!'\n",
        "spam = spam.upper()\n",
        "spam"
      ]
    },
    {
      "cell_type": "code",
      "execution_count": null,
      "metadata": {
        "colab": {
          "base_uri": "https://localhost:8080/",
          "height": 35
        },
        "id": "pqE216CxdG3W",
        "outputId": "da099abb-8258-4adc-c7a0-eb9729871d10"
      },
      "outputs": [
        {
          "data": {
            "application/vnd.google.colaboratory.intrinsic+json": {
              "type": "string"
            },
            "text/plain": [
              "'hello, world!'"
            ]
          },
          "execution_count": 26,
          "metadata": {
            "tags": []
          },
          "output_type": "execute_result"
        }
      ],
      "source": [
        "spam = spam.lower()\n",
        "spam"
      ]
    },
    {
      "cell_type": "code",
      "execution_count": null,
      "metadata": {
        "colab": {
          "base_uri": "https://localhost:8080/"
        },
        "id": "FcmqAHVOdaXd",
        "outputId": "96133c8d-7d53-4cd6-eb65-7ba1905edf1a"
      },
      "outputs": [
        {
          "name": "stdout",
          "output_type": "stream",
          "text": [
            "How are you?\n",
            "GReat\n",
            "I feel great too.\n"
          ]
        }
      ],
      "source": [
        "print('How are you?')\n",
        "feeling = input()\n",
        "if feeling.lower() == 'great':\n",
        "  print('I feel great too.')\n",
        "else:\n",
        "  print('I hope the rest of your day is good.')"
      ]
    },
    {
      "cell_type": "code",
      "execution_count": null,
      "metadata": {
        "colab": {
          "base_uri": "https://localhost:8080/"
        },
        "id": "D29u518Zd9xc",
        "outputId": "c76c9d98-cca5-4ecf-e0e7-2d3aaa269eab"
      },
      "outputs": [
        {
          "data": {
            "text/plain": [
              "False"
            ]
          },
          "execution_count": 29,
          "metadata": {
            "tags": []
          },
          "output_type": "execute_result"
        }
      ],
      "source": [
        "#The isupper() and islower() methods will return a Boolean value True if the string has at least one letter and all the letters are uppercase or lowercase.\n",
        "spam = 'Hello, world!'\n",
        "spam.islower()"
      ]
    },
    {
      "cell_type": "code",
      "execution_count": null,
      "metadata": {
        "colab": {
          "base_uri": "https://localhost:8080/"
        },
        "id": "4GycZVjeeh3u",
        "outputId": "ff2ba9b0-e270-41f5-a777-d9ca9dec25d5"
      },
      "outputs": [
        {
          "data": {
            "text/plain": [
              "False"
            ]
          },
          "execution_count": 30,
          "metadata": {
            "tags": []
          },
          "output_type": "execute_result"
        }
      ],
      "source": [
        "spam.isupper()"
      ]
    },
    {
      "cell_type": "code",
      "execution_count": null,
      "metadata": {
        "colab": {
          "base_uri": "https://localhost:8080/"
        },
        "id": "CYqj74rVelvn",
        "outputId": "4688a52c-4ea6-496f-e8bc-607e45ebadfc"
      },
      "outputs": [
        {
          "data": {
            "text/plain": [
              "True"
            ]
          },
          "execution_count": 31,
          "metadata": {
            "tags": []
          },
          "output_type": "execute_result"
        }
      ],
      "source": [
        "'HELLO'.isupper()"
      ]
    },
    {
      "cell_type": "code",
      "execution_count": null,
      "metadata": {
        "colab": {
          "base_uri": "https://localhost:8080/"
        },
        "id": "SR5OKOUhepWZ",
        "outputId": "40254134-b062-4a16-eb52-3592460a89d9"
      },
      "outputs": [
        {
          "data": {
            "text/plain": [
              "True"
            ]
          },
          "execution_count": 32,
          "metadata": {
            "tags": []
          },
          "output_type": "execute_result"
        }
      ],
      "source": [
        "'abc12345'.islower()"
      ]
    },
    {
      "cell_type": "code",
      "execution_count": null,
      "metadata": {
        "colab": {
          "base_uri": "https://localhost:8080/"
        },
        "id": "jXB4_cWJet1a",
        "outputId": "43b7f9ab-87a3-460b-f3af-ab18391d8390"
      },
      "outputs": [
        {
          "data": {
            "text/plain": [
              "False"
            ]
          },
          "execution_count": 33,
          "metadata": {
            "tags": []
          },
          "output_type": "execute_result"
        }
      ],
      "source": [
        "'1234'.isupper()"
      ]
    },
    {
      "cell_type": "code",
      "execution_count": null,
      "metadata": {
        "colab": {
          "base_uri": "https://localhost:8080/"
        },
        "id": "8uPX60NEew9k",
        "outputId": "69928f6b-5101-41ad-9795-df6817c15fe3"
      },
      "outputs": [
        {
          "data": {
            "text/plain": [
              "False"
            ]
          },
          "execution_count": 34,
          "metadata": {
            "tags": []
          },
          "output_type": "execute_result"
        }
      ],
      "source": [
        "'1234'.islower()"
      ]
    },
    {
      "cell_type": "code",
      "execution_count": null,
      "metadata": {
        "colab": {
          "base_uri": "https://localhost:8080/",
          "height": 35
        },
        "id": "Dr2M8OBle9iq",
        "outputId": "e1b1d300-a2ef-4589-a97a-9a282ec339e3"
      },
      "outputs": [
        {
          "data": {
            "application/vnd.google.colaboratory.intrinsic+json": {
              "type": "string"
            },
            "text/plain": [
              "'HELLO'"
            ]
          },
          "execution_count": 35,
          "metadata": {
            "tags": []
          },
          "output_type": "execute_result"
        }
      ],
      "source": [
        "'Hello'.upper()"
      ]
    },
    {
      "cell_type": "code",
      "execution_count": null,
      "metadata": {
        "colab": {
          "base_uri": "https://localhost:8080/",
          "height": 35
        },
        "id": "JPAbBvwxfAy2",
        "outputId": "9b6da0cc-bbad-43ff-e878-245b386cd7c6"
      },
      "outputs": [
        {
          "data": {
            "application/vnd.google.colaboratory.intrinsic+json": {
              "type": "string"
            },
            "text/plain": [
              "'hello'"
            ]
          },
          "execution_count": 36,
          "metadata": {
            "tags": []
          },
          "output_type": "execute_result"
        }
      ],
      "source": [
        "'Hello'.upper().lower()"
      ]
    },
    {
      "cell_type": "code",
      "execution_count": null,
      "metadata": {
        "colab": {
          "base_uri": "https://localhost:8080/",
          "height": 35
        },
        "id": "CoZD_d7JfDYJ",
        "outputId": "81a1d35b-bc13-4520-9f13-3e5a673e431c"
      },
      "outputs": [
        {
          "data": {
            "application/vnd.google.colaboratory.intrinsic+json": {
              "type": "string"
            },
            "text/plain": [
              "'HELLO'"
            ]
          },
          "execution_count": 37,
          "metadata": {
            "tags": []
          },
          "output_type": "execute_result"
        }
      ],
      "source": [
        "'Hello'.upper().lower().upper()"
      ]
    },
    {
      "cell_type": "code",
      "execution_count": null,
      "metadata": {
        "colab": {
          "base_uri": "https://localhost:8080/",
          "height": 35
        },
        "id": "A7rdc_MffHf1",
        "outputId": "dc6d623b-a772-4a75-cca0-4984b40c72a7"
      },
      "outputs": [
        {
          "data": {
            "application/vnd.google.colaboratory.intrinsic+json": {
              "type": "string"
            },
            "text/plain": [
              "'hello'"
            ]
          },
          "execution_count": 38,
          "metadata": {
            "tags": []
          },
          "output_type": "execute_result"
        }
      ],
      "source": [
        "'Hello'.lower()"
      ]
    },
    {
      "cell_type": "code",
      "execution_count": null,
      "metadata": {
        "id": "n9wSx0NHfKWT"
      },
      "outputs": [],
      "source": [
        "'Hello'.lower().islower()"
      ]
    }
  ],
  "metadata": {
    "colab": {
      "collapsed_sections": [
        "HmwQlfOkTcp9",
        "uilmbrrx_k2s",
        "2CPE11XU-lLT",
        "Cq7YT9-TTrbu",
        "WadeX4uZrX1e",
        "lbkblS6kwFkO",
        "c02ESkyv0BVo",
        "_hTwUPNF1Swe",
        "8PQUPYLcUL6G",
        "WcEoyoTeewhj",
        "hgvBvdzY2QWv",
        "qWIO1dl-rRZq",
        "MvdGveNGiuRQ",
        "iY24JPeMjvuP",
        "RJrUuHpxwaNe",
        "MSkpdgRK3_l4",
        "XxBRQcgY4cK1",
        "8x6E0_pw6GgB",
        "UwPLMMlv7Ctr",
        "gbShsbhv8yWt",
        "1-vTspdYCIav",
        "646JGklwENfO",
        "_2k7fYCIFSBg",
        "XvaMJQfnF3ZM",
        "DckIUlBoGxlt",
        "14tXC8KeYWeb",
        "cATxBQ1gfuFv",
        "Yq8HqJ6yhH-U",
        "RU30GQXrlys2",
        "Tv3DQMQBnhAx",
        "q3d43bGHjmJN",
        "Ja5xjrHu5d9N"
      ],
      "name": "Python Basic",
      "provenance": [],
      "toc_visible": true
    },
    "kernelspec": {
      "display_name": "Python 3",
      "name": "python3"
    },
    "language_info": {
      "codemirror_mode": {
        "name": "ipython",
        "version": 3
      },
      "file_extension": ".py",
      "mimetype": "text/x-python",
      "name": "python",
      "nbconvert_exporter": "python",
      "pygments_lexer": "ipython3",
      "version": "3.7.4"
    }
  },
  "nbformat": 4,
  "nbformat_minor": 0
}
